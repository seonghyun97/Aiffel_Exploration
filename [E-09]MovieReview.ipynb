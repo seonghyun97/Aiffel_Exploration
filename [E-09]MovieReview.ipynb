{
 "cells": [
  {
   "cell_type": "markdown",
   "id": "d5681578",
   "metadata": {},
   "source": [
    "# [E-09] 영화리뷰 텍스트 감성분석하기"
   ]
  },
  {
   "cell_type": "markdown",
   "id": "bfb6a370",
   "metadata": {},
   "source": [
    "  RNN(Recurrent Neural Network) 그리고 CNN(Convolutional Neural Network)를 활용하여 네이버나 다음 영화에서 확인할 수 있는 영화리뷰에 대한 감성분석(sentiment analysis) 를 진행해 본다."
   ]
  },
  {
   "cell_type": "markdown",
   "id": "3d337cdb",
   "metadata": {},
   "source": [
    "## 목차"
   ]
  },
  {
   "cell_type": "markdown",
   "id": "eee19493",
   "metadata": {},
   "source": [
    "00. import and define function\n",
    "\n",
    "01. Data  \n",
    "    01.1 Data Loading  \n",
    "    01.2 Data 분석 및 가공  \n",
    "    01.3 Train, Validation set 분리  \n",
    "    \n",
    "02. Model  \n",
    "    02.1 Model 선언  \n",
    "    02.2 Model Train & Evaluate  \n",
    "    \n",
    "03. Model embeding layer\n",
    "    03.1 lstm emdeding layer  \n",
    "    03.2 Conv1D emdeding layer  \n",
    "    03.3 GMP emdeding layer  \n",
    "    \n",
    "04. 한국어 Word2Vec  \n",
    "    04.1 한국어 Word2Vec loading  \n",
    "    04.2 Model wiht 한국어 Word2Vec  \n",
    "    04.3 Model Train & Evaluate with 한국어 Word2Vec  \n",
    "    \n",
    "05. 회고  "
   ]
  },
  {
   "cell_type": "markdown",
   "id": "a0ac8168",
   "metadata": {},
   "source": [
    "## 00. import and define function"
   ]
  },
  {
   "cell_type": "code",
   "execution_count": 1,
   "id": "6159ab66",
   "metadata": {
    "scrolled": true
   },
   "outputs": [],
   "source": [
    "import os\n",
    "import re\n",
    "import pandas as pd\n",
    "import numpy as np\n",
    "import warnings\n",
    "warnings.filterwarnings(action='ignore')\n",
    "\n",
    "import urllib.request\n",
    "import matplotlib.pyplot as plt\n",
    "%matplotlib inline\n",
    "\n",
    "from konlpy.tag import Okt\n",
    "from konlpy.tag import Mecab\n",
    "\n",
    "from tensorflow import keras\n",
    "from tensorflow.keras.preprocessing.text import Tokenizer\n",
    "from tensorflow.keras.preprocessing.sequence import pad_sequences\n",
    "from tensorflow.keras.initializers import Constant\n",
    "from tensorflow.keras.callbacks import EarlyStopping, ModelCheckpoint\n",
    "from tensorflow.keras.models import load_model\n",
    "\n",
    "from collections import Counter\n",
    "import gensim\n",
    "from gensim.models import KeyedVectors\n",
    "from gensim.models.keyedvectors import Word2VecKeyedVectors\n",
    "\n",
    "# tokenizer, 불용어 선언\n",
    "tokenizer = Mecab()\n",
    "stopwords = ['의','가','이','은','들','는','좀','잘','걍','과','도','를','으로','자','에','와','한','하다']\n",
    "\n",
    "# pre-processing and loading data\n",
    "def load_data(train_data, test_data, num_words=10000):\n",
    "    '''\n",
    "    1. 데이터의 중복 제거\n",
    "    2. NaN 결측치 제거\n",
    "    3. 한국어 토크나이저로 토큰화\n",
    "    4. 불용어(Stopwords) 제거\n",
    "    5. 사전word_to_index 구성\n",
    "    6. 텍스트 스트링을 사전 인덱스 스트링으로 변환\n",
    "    7. Return: X_train, y_train, X_test, y_test, word_to_index\n",
    "    '''\n",
    "    \n",
    "    train_data.drop_duplicates(subset=['document'], inplace=True) #1\n",
    "    train_data = train_data.dropna(how = 'any') #2\n",
    "    test_data.drop_duplicates(subset=['document'], inplace=True) #1\n",
    "    test_data = test_data.dropna(how = 'any') #2\n",
    "    \n",
    "    #3,4 \n",
    "    X_train = []\n",
    "    for sentence in train_data['document']:\n",
    "        temp_X = tokenizer.morphs(sentence)\n",
    "        temp_X = [word for word in temp_X if not word in stopwords]\n",
    "        X_train.append(temp_X)\n",
    "\n",
    "    X_test = []\n",
    "    for sentence in test_data['document']:\n",
    "        temp_X = tokenizer.morphs(sentence)\n",
    "        temp_X = [word for word in temp_X if not word in stopwords]\n",
    "        X_test.append(temp_X)\n",
    "\n",
    "    words = np.concatenate(X_train).tolist()\n",
    "    counter = Counter(words)\n",
    "    counter = counter.most_common(10000-4)\n",
    "    vocab = ['<PAD>', '<BOS>', '<UNK>', '<UNUSED>'] + [key for key, _ in counter]\n",
    "    word_to_index = {word:index for index, word in enumerate(vocab)}\n",
    "    \n",
    "    #5\n",
    "    def wordlist_to_indexlist(wordlist):\n",
    "        return [word_to_index[word] if word in word_to_index else word_to_index['<UNK>'] for word in wordlist]\n",
    "    #6\n",
    "    X_train = list(map(wordlist_to_indexlist, X_train))\n",
    "    X_test = list(map(wordlist_to_indexlist, X_test))\n",
    "\n",
    "    return X_train, np.array(list(train_data['label'])), X_test, np.array(list(test_data['label'])), word_to_index\n",
    "\n",
    "# 문장 1개를 활용할 딕셔너리와 함께 주면, 단어 인덱스 리스트 벡터로 변환해 주는 함수입니다. \n",
    "# 단, 모든 문장은 <BOS>로 시작하는 것으로 합니다. \n",
    "def get_encoded_sentence(sentence, word_to_index):\n",
    "    return [word_to_index['<BOS>']]+[word_to_index[word] if word in word_to_index else word_to_index['<UNK>'] for word in sentence.split()]\n",
    "\n",
    "# 여러 개의 문장 리스트를 한꺼번에 단어 인덱스 리스트 벡터로 encode해 주는 함수입니다. \n",
    "def get_encoded_sentences(sentences, word_to_index):\n",
    "    return [get_encoded_sentence(sentence, word_to_index) for sentence in sentences]\n",
    "\n",
    "# 숫자 벡터로 encode된 문장을 원래대로 decode하는 함수입니다. \n",
    "def get_decoded_sentence(encoded_sentence, index_to_word):\n",
    "    return ' '.join(index_to_word[index] if index in index_to_word else '<UNK>' for index in encoded_sentence[1:])  #[1:]를 통해 <BOS>를 제외\n",
    "\n",
    "# 여러 개의 숫자 벡터로 encode된 문장을 한꺼번에 원래대로 decode하는 함수입니다. \n",
    "def get_decoded_sentences(encoded_sentences, index_to_word):\n",
    "    return [get_decoded_sentence(encoded_sentence, index_to_word) for encoded_sentence in encoded_sentences]\n",
    "\n",
    "# visualization Loss & Accuracy by epochs\n",
    "def visualization(history):\n",
    "    history_dict = history.history\n",
    "\n",
    "    acc = history_dict['accuracy']\n",
    "    val_acc = history_dict['val_accuracy']\n",
    "    loss = history_dict['loss']\n",
    "    val_loss = history_dict['val_loss']\n",
    "\n",
    "    epochs = range(1, len(acc) + 1)\n",
    "    \n",
    "    # Loss\n",
    "    plt.plot(epochs, loss, 'bo', label='Training loss')\n",
    "    plt.plot(epochs, val_loss, 'b', label='Validation loss')\n",
    "    plt.title('Training and validation loss')\n",
    "    plt.xlabel('Epochs')\n",
    "    plt.ylabel('Loss')\n",
    "    plt.legend()\n",
    "    plt.show()\n",
    "    \n",
    "    # Accuracy\n",
    "    plt.clf()\n",
    "    plt.plot(epochs, acc, 'bo', label='Training acc')\n",
    "    plt.plot(epochs, val_acc, 'b', label='Validation acc')\n",
    "    plt.title('Training and validation accuracy')\n",
    "    plt.xlabel('Epochs')\n",
    "    plt.ylabel('Accuracy')\n",
    "    plt.legend()\n",
    "    plt.show()\n",
    "\n",
    "# model을 훈련시키고 평가해보는 함수\n",
    "def fitting_machine(model,epoch):\n",
    "    # model compile\n",
    "    model = model\n",
    "    model.compile(optimizer='adam',\n",
    "              loss='binary_crossentropy',\n",
    "              metrics=['accuracy'])\n",
    "    \n",
    "    # model training and recording history\n",
    "    history = model.fit(partial_x_train,\n",
    "                        partial_y_train,\n",
    "                        epochs=epoch,\n",
    "                        batch_size=32,\n",
    "                        validation_data=(x_val, y_val),\n",
    "                        verbose=1)\n",
    "    # print result\n",
    "    results = model.evaluate(X_test,  y_test, verbose=2)\n",
    "    print(f'\\nThis is {model.name}\\nLoss: {results[0]}\\nAccurancy: {results[1]}\\n')\n",
    "    \n",
    "    return history"
   ]
  },
  {
   "cell_type": "markdown",
   "id": "fef9c7d0",
   "metadata": {},
   "source": [
    "## 01. Data"
   ]
  },
  {
   "cell_type": "markdown",
   "id": "258d9356",
   "metadata": {},
   "source": [
    "### 01.1 Data Loading"
   ]
  },
  {
   "cell_type": "markdown",
   "id": "87101a9f",
   "metadata": {},
   "source": [
    "이번에 다루게 될 nsmc 데이터셋은 전혀 가공되지 않은 텍스트 파일로 이루어져 있습니다. \n",
    "이것을 읽어서 imdb.data_loader()와 동일하게 동작하는 data_loader를 만들어 보기 \n",
    "data_loader 안에서는 다음을 수행해야 합니다.\n",
    "\n",
    "- 데이터의 중복 제거\n",
    "- NaN 결측치 제거\n",
    "- 한국어 토크나이저로 토큰화\n",
    "- 불용어(Stopwords) 제거\n",
    "- 사전word_to_index 구성\n",
    "- 텍스트 스트링을 사전 인덱스 스트링으로 변환\n",
    "- X_train, y_train, X_test, y_test, word_to_index 리턴"
   ]
  },
  {
   "cell_type": "code",
   "execution_count": 2,
   "id": "3647a152",
   "metadata": {},
   "outputs": [
    {
     "data": {
      "text/html": [
       "<div>\n",
       "<style scoped>\n",
       "    .dataframe tbody tr th:only-of-type {\n",
       "        vertical-align: middle;\n",
       "    }\n",
       "\n",
       "    .dataframe tbody tr th {\n",
       "        vertical-align: top;\n",
       "    }\n",
       "\n",
       "    .dataframe thead th {\n",
       "        text-align: right;\n",
       "    }\n",
       "</style>\n",
       "<table border=\"1\" class=\"dataframe\">\n",
       "  <thead>\n",
       "    <tr style=\"text-align: right;\">\n",
       "      <th></th>\n",
       "      <th>id</th>\n",
       "      <th>document</th>\n",
       "      <th>label</th>\n",
       "    </tr>\n",
       "  </thead>\n",
       "  <tbody>\n",
       "    <tr>\n",
       "      <th>0</th>\n",
       "      <td>9976970</td>\n",
       "      <td>아 더빙.. 진짜 짜증나네요 목소리</td>\n",
       "      <td>0</td>\n",
       "    </tr>\n",
       "    <tr>\n",
       "      <th>1</th>\n",
       "      <td>3819312</td>\n",
       "      <td>흠...포스터보고 초딩영화줄....오버연기조차 가볍지 않구나</td>\n",
       "      <td>1</td>\n",
       "    </tr>\n",
       "    <tr>\n",
       "      <th>2</th>\n",
       "      <td>10265843</td>\n",
       "      <td>너무재밓었다그래서보는것을추천한다</td>\n",
       "      <td>0</td>\n",
       "    </tr>\n",
       "    <tr>\n",
       "      <th>3</th>\n",
       "      <td>9045019</td>\n",
       "      <td>교도소 이야기구먼 ..솔직히 재미는 없다..평점 조정</td>\n",
       "      <td>0</td>\n",
       "    </tr>\n",
       "    <tr>\n",
       "      <th>4</th>\n",
       "      <td>6483659</td>\n",
       "      <td>사이몬페그의 익살스런 연기가 돋보였던 영화!스파이더맨에서 늙어보이기만 했던 커스틴 ...</td>\n",
       "      <td>1</td>\n",
       "    </tr>\n",
       "  </tbody>\n",
       "</table>\n",
       "</div>"
      ],
      "text/plain": [
       "         id                                           document  label\n",
       "0   9976970                                아 더빙.. 진짜 짜증나네요 목소리      0\n",
       "1   3819312                  흠...포스터보고 초딩영화줄....오버연기조차 가볍지 않구나      1\n",
       "2  10265843                                  너무재밓었다그래서보는것을추천한다      0\n",
       "3   9045019                      교도소 이야기구먼 ..솔직히 재미는 없다..평점 조정      0\n",
       "4   6483659  사이몬페그의 익살스런 연기가 돋보였던 영화!스파이더맨에서 늙어보이기만 했던 커스틴 ...      1"
      ]
     },
     "execution_count": 2,
     "metadata": {},
     "output_type": "execute_result"
    }
   ],
   "source": [
    "# 데이터를 읽어봅시다. \n",
    "train_data = pd.read_table('~/aiffel/sentiment_classification/data/ratings_train.txt')\n",
    "test_data = pd.read_table('~/aiffel/sentiment_classification/data/ratings_test.txt')\n",
    "\n",
    "train_data.head()"
   ]
  },
  {
   "cell_type": "code",
   "execution_count": 3,
   "id": "90c786db",
   "metadata": {},
   "outputs": [],
   "source": [
    "# data load 하여 X_train, y_train, X_test, y_test, word_to_index 리턴\n",
    "X_train, y_train, X_test, y_test, word_to_index = load_data(train_data, test_data) "
   ]
  },
  {
   "cell_type": "code",
   "execution_count": 4,
   "id": "88a44d2f",
   "metadata": {},
   "outputs": [
    {
     "data": {
      "text/plain": [
       "{0: '<PAD>',\n",
       " 1: '<BOS>',\n",
       " 2: '<UNK>',\n",
       " 3: '<UNUSED>',\n",
       " 4: '.',\n",
       " 5: '영화',\n",
       " 6: '다',\n",
       " 7: '고',\n",
       " 8: '하',\n",
       " 9: '을',\n",
       " 10: '보',\n",
       " 11: '..',\n",
       " 12: '게',\n",
       " 13: ',',\n",
       " 14: '!',\n",
       " 15: '지',\n",
       " 16: '있',\n",
       " 17: '없',\n",
       " 18: '?',\n",
       " 19: '좋',\n",
       " 20: '나',\n",
       " 21: '었',\n",
       " 22: '만',\n",
       " 23: '는데',\n",
       " 24: '너무',\n",
       " 25: '봤',\n",
       " 26: '적',\n",
       " 27: '안',\n",
       " 28: '정말',\n",
       " 29: '로',\n",
       " 30: '음',\n",
       " 31: '것',\n",
       " 32: '아',\n",
       " 33: '네요',\n",
       " 34: '재밌',\n",
       " 35: '어',\n",
       " 36: '같',\n",
       " 37: '점',\n",
       " 38: '지만',\n",
       " 39: '진짜',\n",
       " 40: '했',\n",
       " 41: '에서',\n",
       " 42: '기',\n",
       " 43: '네',\n",
       " 44: '않',\n",
       " 45: '거',\n",
       " 46: '았',\n",
       " 47: '수',\n",
       " 48: '되',\n",
       " 49: '면',\n",
       " 50: 'ㅋㅋ',\n",
       " 51: '말',\n",
       " 52: '연기',\n",
       " 53: '인',\n",
       " 54: '주',\n",
       " 55: '내',\n",
       " 56: '최고',\n",
       " 57: '~',\n",
       " 58: '평점',\n",
       " 59: '이런',\n",
       " 60: '던',\n",
       " 61: '어요',\n",
       " 62: '할',\n",
       " 63: '왜',\n",
       " 64: '겠',\n",
       " 65: '1',\n",
       " 66: '스토리',\n",
       " 67: '해',\n",
       " 68: '습니다',\n",
       " 69: 'ㅋㅋㅋ',\n",
       " 70: '...',\n",
       " 71: '드라마',\n",
       " 72: '생각',\n",
       " 73: '아니',\n",
       " 74: '더',\n",
       " 75: '그',\n",
       " 76: '싶',\n",
       " 77: '사람',\n",
       " 78: '듯',\n",
       " 79: '때',\n",
       " 80: '감동',\n",
       " 81: '함',\n",
       " 82: '배우',\n",
       " 83: '본',\n",
       " 84: '까지',\n",
       " 85: '뭐',\n",
       " 86: '알',\n",
       " 87: '만들',\n",
       " 88: '내용',\n",
       " 89: '볼',\n",
       " 90: '감독',\n",
       " 91: '보다',\n",
       " 92: '라',\n",
       " 93: '그냥',\n",
       " 94: '재미',\n",
       " 95: '시간',\n",
       " 96: '지루',\n",
       " 97: '중',\n",
       " 98: '재미있',\n",
       " 99: '년',\n",
       " 100: '10',\n",
       " 101: '였',\n",
       " 102: '잼',\n",
       " 103: '사랑',\n",
       " 104: '못',\n",
       " 105: '냐',\n",
       " 106: '재미없',\n",
       " 107: '쓰레기',\n",
       " 108: '서',\n",
       " 109: '2',\n",
       " 110: '라고',\n",
       " 111: '야',\n",
       " 112: '니',\n",
       " 113: '면서',\n",
       " 114: '번',\n",
       " 115: '다시',\n",
       " 116: '나오',\n",
       " 117: '작품',\n",
       " 118: '이거',\n",
       " 119: '하나',\n",
       " 120: '줄',\n",
       " 121: '해서',\n",
       " 122: '개',\n",
       " 123: '남',\n",
       " 124: '정도',\n",
       " 125: '마지막',\n",
       " 126: '끝',\n",
       " 127: '이건',\n",
       " 128: '액션',\n",
       " 129: '임',\n",
       " 130: 'ㅋ',\n",
       " 131: '3',\n",
       " 132: '기대',\n",
       " 133: '입니다',\n",
       " 134: '건',\n",
       " 135: '라는',\n",
       " 136: '분',\n",
       " 137: '완전',\n",
       " 138: '다는',\n",
       " 139: '참',\n",
       " 140: '많',\n",
       " 141: '처음',\n",
       " 142: '장면',\n",
       " 143: '대',\n",
       " 144: '아깝',\n",
       " 145: '다가',\n",
       " 146: '으면',\n",
       " 147: '지금',\n",
       " 148: '모르',\n",
       " 149: '이렇게',\n",
       " 150: \"'\",\n",
       " 151: '편',\n",
       " 152: '일',\n",
       " 153: '돈',\n",
       " 154: '이게',\n",
       " 155: '성',\n",
       " 156: '느낌',\n",
       " 157: '시',\n",
       " 158: '이야기',\n",
       " 159: '최악',\n",
       " 160: '된',\n",
       " 161: '봐도',\n",
       " 162: '님',\n",
       " 163: '어서',\n",
       " 164: '애',\n",
       " 165: '전',\n",
       " 166: '넘',\n",
       " 167: 'ㅠㅠ',\n",
       " 168: '인데',\n",
       " 169: '다고',\n",
       " 170: '이해',\n",
       " 171: '별로',\n",
       " 172: '그리고',\n",
       " 173: '명작',\n",
       " 174: '여자',\n",
       " 175: '^^',\n",
       " 176: '역시',\n",
       " 177: '난',\n",
       " 178: '이상',\n",
       " 179: '또',\n",
       " 180: '걸',\n",
       " 181: '한국',\n",
       " 182: '는지',\n",
       " 183: '많이',\n",
       " 184: '에게',\n",
       " 185: '부터',\n",
       " 186: '만든',\n",
       " 187: '주인공',\n",
       " 188: '받',\n",
       " 189: '합니다',\n",
       " 190: '우리',\n",
       " 191: '두',\n",
       " 192: '살',\n",
       " 193: '!!',\n",
       " 194: '길',\n",
       " 195: '엔',\n",
       " 196: '괜찮',\n",
       " 197: '기억',\n",
       " 198: '연출',\n",
       " 199: '한다',\n",
       " 200: '때문',\n",
       " 201: '이나',\n",
       " 202: 'ㅎㅎ',\n",
       " 203: '요',\n",
       " 204: '저',\n",
       " 205: '재',\n",
       " 206: '꼭',\n",
       " 207: '랑',\n",
       " 208: '며',\n",
       " 209: '현실',\n",
       " 210: '긴',\n",
       " 211: 'ㅡㅡ',\n",
       " 212: '무슨',\n",
       " 213: '내내',\n",
       " 214: '결말',\n",
       " 215: '죽',\n",
       " 216: '남자',\n",
       " 217: '세요',\n",
       " 218: '전개',\n",
       " 219: '마음',\n",
       " 220: '소재',\n",
       " 221: '속',\n",
       " 222: '공포',\n",
       " 223: '아서',\n",
       " 224: '다른',\n",
       " 225: '씨',\n",
       " 226: '인생',\n",
       " 227: '~~',\n",
       " 228: '짜증',\n",
       " 229: '짱',\n",
       " 230: '뿐',\n",
       " 231: '은데',\n",
       " 232: '별',\n",
       " 233: '아요',\n",
       " 234: '유치',\n",
       " 235: '가장',\n",
       " 236: '필요',\n",
       " 237: '음악',\n",
       " 238: ')',\n",
       " 239: '일본',\n",
       " 240: '낮',\n",
       " 241: '아이',\n",
       " 242: ';;',\n",
       " 243: '오',\n",
       " 244: '반전',\n",
       " 245: '수준',\n",
       " 246: '다니',\n",
       " 247: '웃',\n",
       " 248: '매력',\n",
       " 249: '맞',\n",
       " 250: '인지',\n",
       " 251: '가슴',\n",
       " 252: '없이',\n",
       " 253: '원작',\n",
       " 254: 'ㄷ',\n",
       " 255: '인간',\n",
       " 256: '데',\n",
       " 257: '굿',\n",
       " 258: 'ㅠ',\n",
       " 259: '높',\n",
       " 260: '밋',\n",
       " 261: '(',\n",
       " 262: '만드',\n",
       " 263: '급',\n",
       " 264: '눈물',\n",
       " 265: '보여',\n",
       " 266: '준',\n",
       " 267: '찍',\n",
       " 268: '인가',\n",
       " 269: '노',\n",
       " 270: '을까',\n",
       " 271: '용',\n",
       " 272: '코미디',\n",
       " 273: '마',\n",
       " 274: '화',\n",
       " 275: '신',\n",
       " 276: '모든',\n",
       " 277: '쓰',\n",
       " 278: '여',\n",
       " 279: '5',\n",
       " 280: '아직',\n",
       " 281: '추천',\n",
       " 282: '처럼',\n",
       " 283: '눈',\n",
       " 284: '아닌',\n",
       " 285: '자체',\n",
       " 286: '울',\n",
       " 287: '몰입',\n",
       " 288: '4',\n",
       " 289: '대박',\n",
       " 290: '몇',\n",
       " 291: '스럽',\n",
       " 292: '실망',\n",
       " 293: '는다',\n",
       " 294: '대한',\n",
       " 295: '죠',\n",
       " 296: '란',\n",
       " 297: '그런',\n",
       " 298: '솔직히',\n",
       " 299: '캐릭터',\n",
       " 300: 'ㅎ',\n",
       " 301: '모두',\n",
       " 302: '아주',\n",
       " 303: '-',\n",
       " 304: '가족',\n",
       " 305: '여운',\n",
       " 306: '건지',\n",
       " 307: '전혀',\n",
       " 308: '연기력',\n",
       " 309: '나라',\n",
       " 310: '후',\n",
       " 311: '될',\n",
       " 312: '다면',\n",
       " 313: '뭔가',\n",
       " 314: '그래도',\n",
       " 315: ';',\n",
       " 316: '시리즈',\n",
       " 317: '근데',\n",
       " 318: '작',\n",
       " 319: '표현',\n",
       " 320: '모습',\n",
       " 321: '공감',\n",
       " 322: '계속',\n",
       " 323: '먹',\n",
       " 324: '\"\"',\n",
       " 325: '제목',\n",
       " 326: '7',\n",
       " 327: '이랑',\n",
       " 328: '극장',\n",
       " 329: '치',\n",
       " 330: '비',\n",
       " 331: '이걸',\n",
       " 332: '진',\n",
       " 333: '바',\n",
       " 334: '대사',\n",
       " 335: '부분',\n",
       " 336: '그렇',\n",
       " 337: '개봉',\n",
       " 338: '0',\n",
       " 339: 'OO',\n",
       " 340: '대단',\n",
       " 341: '어디',\n",
       " 342: '작가',\n",
       " 343: '된다',\n",
       " 344: '아쉽',\n",
       " 345: '기분',\n",
       " 346: '제',\n",
       " 347: '진심',\n",
       " 348: '타임',\n",
       " 349: '/',\n",
       " 350: '웃기',\n",
       " 351: '보이',\n",
       " 352: '놓',\n",
       " 353: '해도',\n",
       " 354: '이제',\n",
       " 355: '물',\n",
       " 356: '봐야',\n",
       " 357: '막장',\n",
       " 358: '삶',\n",
       " 359: '친구',\n",
       " 360: '잔잔',\n",
       " 361: '조금',\n",
       " 362: '씬',\n",
       " 363: '딱',\n",
       " 364: '영상',\n",
       " 365: '억지',\n",
       " 366: '찾',\n",
       " 367: '요즘',\n",
       " 368: '같이',\n",
       " 369: '중간',\n",
       " 370: '\"',\n",
       " 371: '구',\n",
       " 372: '라도',\n",
       " 373: '스릴러',\n",
       " 374: '가지',\n",
       " 375: '8',\n",
       " 376: '믿',\n",
       " 377: '싫',\n",
       " 378: '....',\n",
       " 379: '나왔',\n",
       " 380: '아까운',\n",
       " 381: '긴장감',\n",
       " 382: '점수',\n",
       " 383: '개인',\n",
       " 384: '제대로',\n",
       " 385: '부족',\n",
       " 386: '이유',\n",
       " 387: '노래',\n",
       " 388: '만큼',\n",
       " 389: '라면',\n",
       " 390: '시작',\n",
       " 391: '구나',\n",
       " 392: '잇',\n",
       " 393: '특히',\n",
       " 394: '한테',\n",
       " 395: '날',\n",
       " 396: '려고',\n",
       " 397: '제일',\n",
       " 398: '아름다운',\n",
       " 399: '시대',\n",
       " 400: 'ㅜㅜ',\n",
       " 401: '어떻게',\n",
       " 402: '엔딩',\n",
       " 403: '당시',\n",
       " 404: '하지만',\n",
       " 405: '나름',\n",
       " 406: '봐',\n",
       " 407: '무섭',\n",
       " 408: '나온',\n",
       " 409: '명',\n",
       " 410: '사',\n",
       " 411: '니까',\n",
       " 412: '오랜만',\n",
       " 413: '이것',\n",
       " 414: '해요',\n",
       " 415: '9',\n",
       " 416: '팬',\n",
       " 417: '차라리',\n",
       " 418: '절대',\n",
       " 419: '세상',\n",
       " 420: '세',\n",
       " 421: '못하',\n",
       " 422: '의미',\n",
       " 423: '던데',\n",
       " 424: '봄',\n",
       " 425: '욕',\n",
       " 426: '훌륭',\n",
       " 427: '너무나',\n",
       " 428: '강추',\n",
       " 429: '감',\n",
       " 430: '됨',\n",
       " 431: 'ㅡ',\n",
       " 432: '따뜻',\n",
       " 433: '빼',\n",
       " 434: '느끼',\n",
       " 435: '해야',\n",
       " 436: '드',\n",
       " 437: '도대체',\n",
       " 438: '어야',\n",
       " 439: '답답',\n",
       " 440: '마다',\n",
       " 441: '준다',\n",
       " 442: '글',\n",
       " 443: '전쟁',\n",
       " 444: '놈',\n",
       " 445: '설정',\n",
       " 446: '무엇',\n",
       " 447: '수작',\n",
       " 448: '만화',\n",
       " 449: '흥미',\n",
       " 450: '그저',\n",
       " 451: '감정',\n",
       " 452: '미국',\n",
       " 453: '신선',\n",
       " 454: '행복',\n",
       " 455: '뻔',\n",
       " 456: '형',\n",
       " 457: '앞',\n",
       " 458: '허접',\n",
       " 459: '어도',\n",
       " 460: '군',\n",
       " 461: '시절',\n",
       " 462: '관객',\n",
       " 463: '배경',\n",
       " 464: '6',\n",
       " 465: '초반',\n",
       " 466: '사실',\n",
       " 467: '웃음',\n",
       " 468: '답',\n",
       " 469: '엄청',\n",
       " 470: '더라',\n",
       " 471: '라니',\n",
       " 472: '질',\n",
       " 473: '자신',\n",
       " 474: '추억',\n",
       " 475: '캐스팅',\n",
       " 476: '첨',\n",
       " 477: '멋있',\n",
       " 478: '류',\n",
       " 479: '어색',\n",
       " 480: '시나리오',\n",
       " 481: '머',\n",
       " 482: '밖에',\n",
       " 483: 'OOO',\n",
       " 484: '슬프',\n",
       " 485: '정신',\n",
       " 486: '분위기',\n",
       " 487: '소름',\n",
       " 488: '멋진',\n",
       " 489: '힘들',\n",
       " 490: '오늘',\n",
       " 491: '어이없',\n",
       " 492: '봐서',\n",
       " 493: '잡',\n",
       " 494: '구성',\n",
       " 495: '엄마',\n",
       " 496: '함께',\n",
       " 497: '문제',\n",
       " 498: '위해',\n",
       " 499: '졸작',\n",
       " 500: '잊',\n",
       " 501: '이딴',\n",
       " 502: '등',\n",
       " 503: '집',\n",
       " 504: '유쾌',\n",
       " 505: '뻔한',\n",
       " 506: '킬링',\n",
       " 507: '스러운',\n",
       " 508: '결국',\n",
       " 509: '낫',\n",
       " 510: '한데',\n",
       " 511: '나요',\n",
       " 512: '뭘',\n",
       " 513: '소리',\n",
       " 514: '간',\n",
       " 515: '20',\n",
       " 516: '역사',\n",
       " 517: '뭔',\n",
       " 518: '제발',\n",
       " 519: '포스터',\n",
       " 520: '아무리',\n",
       " 521: '코믹',\n",
       " 522: '어떤',\n",
       " 523: '완벽',\n",
       " 524: '~~~',\n",
       " 525: '맘',\n",
       " 526: '얼마나',\n",
       " 527: '애니메이션',\n",
       " 528: '!!!',\n",
       " 529: '러',\n",
       " 530: '주연',\n",
       " 531: '원',\n",
       " 532: '난다',\n",
       " 533: '버리',\n",
       " 534: '어릴',\n",
       " 535: '♥',\n",
       " 536: '후회',\n",
       " 537: '진부',\n",
       " 538: '나올',\n",
       " 539: '됐',\n",
       " 540: '보단',\n",
       " 541: '책',\n",
       " 542: '장난',\n",
       " 543: '더니',\n",
       " 544: '영화관',\n",
       " 545: '큰',\n",
       " 546: '개연',\n",
       " 547: '둘',\n",
       " 548: '출연',\n",
       " 549: '보고',\n",
       " 550: '극',\n",
       " 551: 'ㅅ',\n",
       " 552: '밖',\n",
       " 553: '충격',\n",
       " 554: '여기',\n",
       " 555: '엇',\n",
       " 556: '잔인',\n",
       " 557: '아름답',\n",
       " 558: '얘기',\n",
       " 559: '줬',\n",
       " 560: '평가',\n",
       " 561: '꺼',\n",
       " 562: '예술',\n",
       " 563: '갈수록',\n",
       " 564: '매우',\n",
       " 565: '든',\n",
       " 566: '자기',\n",
       " 567: '위한',\n",
       " 568: '이리',\n",
       " 569: '봐라',\n",
       " 570: '이후',\n",
       " 571: '읽',\n",
       " 572: '반',\n",
       " 573: '얼굴',\n",
       " 574: '꽤',\n",
       " 575: '티비',\n",
       " 576: '이쁘',\n",
       " 577: '으나',\n",
       " 578: '별점',\n",
       " 579: '깊',\n",
       " 580: '옛날',\n",
       " 581: '불쌍',\n",
       " 582: '못한',\n",
       " 583: '겟',\n",
       " 584: '불',\n",
       " 585: '시청',\n",
       " 586: '순수',\n",
       " 587: '라서',\n",
       " 588: '낭비',\n",
       " 589: '언제',\n",
       " 590: '건가',\n",
       " 591: '비디오',\n",
       " 592: '애니',\n",
       " 593: '머리',\n",
       " 594: '장르',\n",
       " 595: '생각나',\n",
       " 596: '텐데',\n",
       " 597: '+',\n",
       " 598: '미',\n",
       " 599: '배',\n",
       " 600: '그래서',\n",
       " 601: ':',\n",
       " 602: '다운',\n",
       " 603: '주제',\n",
       " 604: '다큐',\n",
       " 605: '다음',\n",
       " 606: '궁금',\n",
       " 607: '아님',\n",
       " 608: '시키',\n",
       " 609: '누구',\n",
       " 610: '예전',\n",
       " 611: '그렇게',\n",
       " 612: '크',\n",
       " 613: '동안',\n",
       " 614: '뒤',\n",
       " 615: '그만',\n",
       " 616: '인상',\n",
       " 617: '상황',\n",
       " 618: '??',\n",
       " 619: '이름',\n",
       " 620: '미친',\n",
       " 621: '스릴',\n",
       " 622: '감사',\n",
       " 623: '시즌',\n",
       " 624: '아무',\n",
       " 625: '너',\n",
       " 626: '오래',\n",
       " 627: 'B',\n",
       " 628: '집중',\n",
       " 629: '힘',\n",
       " 630: '어느',\n",
       " 631: '본다',\n",
       " 632: '그러',\n",
       " 633: '로맨스',\n",
       " 634: '약간',\n",
       " 635: '나와서',\n",
       " 636: '진정',\n",
       " 637: '식',\n",
       " 638: '방송',\n",
       " 639: '그나마',\n",
       " 640: '까',\n",
       " 641: '짜리',\n",
       " 642: '마세요',\n",
       " 643: '소설',\n",
       " 644: '여주인공',\n",
       " 645: '몰',\n",
       " 646: '걸작',\n",
       " 647: '존나',\n",
       " 648: '그대로',\n",
       " 649: '죽이',\n",
       " 650: '인물',\n",
       " 651: '났',\n",
       " 652: '그것',\n",
       " 653: '회',\n",
       " 654: '떨어지',\n",
       " 655: '평',\n",
       " 656: '케',\n",
       " 657: '왔',\n",
       " 658: '에요',\n",
       " 659: '실화',\n",
       " 660: '꿈',\n",
       " 661: '대체',\n",
       " 662: '해라',\n",
       " 663: '훨씬',\n",
       " 664: '짓',\n",
       " 665: '무',\n",
       " 666: '사회',\n",
       " 667: '만점',\n",
       " 668: '발연기',\n",
       " 669: '구만',\n",
       " 670: '~!',\n",
       " 671: '전체',\n",
       " 672: 'ㅜ',\n",
       " 673: '비슷',\n",
       " 674: '누가',\n",
       " 675: '막',\n",
       " 676: '30',\n",
       " 677: '햇',\n",
       " 678: '끝나',\n",
       " 679: 'CG',\n",
       " 680: '엉성',\n",
       " 681: '귀엽',\n",
       " 682: '여주',\n",
       " 683: '단',\n",
       " 684: '영상미',\n",
       " 685: '중국',\n",
       " 686: '비교',\n",
       " 687: '초딩',\n",
       " 688: '감성',\n",
       " 689: '네이버',\n",
       " 690: '세계',\n",
       " 691: '여배우',\n",
       " 692: '는가',\n",
       " 693: 'ㅎㅎㅎ',\n",
       " 694: '순간',\n",
       " 695: '망',\n",
       " 696: '느껴',\n",
       " 697: '려는',\n",
       " 698: '나이',\n",
       " 699: ';;;',\n",
       " 700: '대해',\n",
       " 701: '상',\n",
       " 702: '첫',\n",
       " 703: '어렸',\n",
       " 704: '쯤',\n",
       " 705: '판',\n",
       " 706: '입',\n",
       " 707: '꿀',\n",
       " 708: '갔',\n",
       " 709: '어설픈',\n",
       " 710: '돋',\n",
       " 711: '셨',\n",
       " 712: '학교',\n",
       " 713: '더럽',\n",
       " 714: '타',\n",
       " 715: '생',\n",
       " 716: '100',\n",
       " 717: '혼자',\n",
       " 718: '아들',\n",
       " 719: '느낄',\n",
       " 720: '성룡',\n",
       " 721: '아야',\n",
       " 722: '가능',\n",
       " 723: '졸',\n",
       " 724: '어린',\n",
       " 725: '교훈',\n",
       " 726: '멋지',\n",
       " 727: '바로',\n",
       " 728: '나가',\n",
       " 729: '잘못',\n",
       " 730: '맛',\n",
       " 731: '.....',\n",
       " 732: '한마디',\n",
       " 733: '존',\n",
       " 734: '딸',\n",
       " 735: '당신',\n",
       " 736: '화려',\n",
       " 737: '길래',\n",
       " 738: '끌',\n",
       " 739: '티',\n",
       " 740: '판타지',\n",
       " 741: '삼류',\n",
       " 742: '잠',\n",
       " 743: '땜',\n",
       " 744: '든다',\n",
       " 745: '달',\n",
       " 746: '빨리',\n",
       " 747: '맨',\n",
       " 748: '목소리',\n",
       " 749: '똥',\n",
       " 750: '아까움',\n",
       " 751: '영',\n",
       " 752: '당',\n",
       " 753: '거의',\n",
       " 754: '듣',\n",
       " 755: '봤었',\n",
       " 756: '나온다',\n",
       " 757: '전부',\n",
       " 758: '차',\n",
       " 759: '독특',\n",
       " 760: '건데',\n",
       " 761: '다르',\n",
       " 762: '초',\n",
       " 763: 'ㅉㅉ',\n",
       " 764: '어른',\n",
       " 765: '가치',\n",
       " 766: '위',\n",
       " 767: '률',\n",
       " 768: '상당히',\n",
       " 769: '씩',\n",
       " 770: '90',\n",
       " 771: '다만',\n",
       " 772: '질질',\n",
       " 773: '아버지',\n",
       " 774: '넣',\n",
       " 775: '평론가',\n",
       " 776: '줄거리',\n",
       " 777: '한번',\n",
       " 778: '이번',\n",
       " 779: '갑자기',\n",
       " 780: '스타일',\n",
       " 781: '이러',\n",
       " 782: '그러나',\n",
       " 783: '여러',\n",
       " 784: '군요',\n",
       " 785: 'ㅂ',\n",
       " 786: '의도',\n",
       " 787: '저런',\n",
       " 788: '존재',\n",
       " 789: '허무',\n",
       " 790: '밑',\n",
       " 791: '%',\n",
       " 792: '부',\n",
       " 793: '대로',\n",
       " 794: '에선',\n",
       " 795: '째',\n",
       " 796: '각본',\n",
       " 797: '예상',\n",
       " 798: '성우',\n",
       " 799: '으면서',\n",
       " 800: '그녀',\n",
       " 801: '버린',\n",
       " 802: '화면',\n",
       " 803: '너무너무',\n",
       " 804: 'ㄱ',\n",
       " 805: '떠나',\n",
       " 806: '예쁘',\n",
       " 807: '비해',\n",
       " 808: '자연',\n",
       " 809: '담',\n",
       " 810: '그런지',\n",
       " 811: '뻔하',\n",
       " 812: '평범',\n",
       " 813: '굉장히',\n",
       " 814: '만나',\n",
       " 815: '슬픈',\n",
       " 816: '돼',\n",
       " 817: '못했',\n",
       " 818: '지루함',\n",
       " 819: '복수',\n",
       " 820: '관람',\n",
       " 821: '스',\n",
       " 822: '단순',\n",
       " 823: '댓글',\n",
       " 824: '중요',\n",
       " 825: '낸',\n",
       " 826: '새로운',\n",
       " 827: '피',\n",
       " 828: '앗',\n",
       " 829: '극장판',\n",
       " 830: '줌',\n",
       " 831: '갖',\n",
       " 832: '굳',\n",
       " 833: '제작',\n",
       " 834: '버렸',\n",
       " 835: '일단',\n",
       " 836: '만족',\n",
       " 837: '쉽',\n",
       " 838: '선택',\n",
       " 839: '아빠',\n",
       " 840: '쓴',\n",
       " 841: 'TV',\n",
       " 842: '요소',\n",
       " 843: '한편',\n",
       " 844: '불편',\n",
       " 845: '항상',\n",
       " 846: '거기',\n",
       " 847: '연출력',\n",
       " 848: '그때',\n",
       " 849: '롭',\n",
       " 850: '에로',\n",
       " 851: '산',\n",
       " 852: '탄탄',\n",
       " 853: '잃',\n",
       " 854: '한다는',\n",
       " 855: '발',\n",
       " 856: '나옴',\n",
       " 857: '예요',\n",
       " 858: '한심',\n",
       " 859: '흥행',\n",
       " 860: '물론',\n",
       " 861: '려',\n",
       " 862: '지나',\n",
       " 863: '따라',\n",
       " 864: '진행',\n",
       " 865: '점점',\n",
       " 866: '관계',\n",
       " 867: '전형',\n",
       " 868: '역대',\n",
       " 869: '편집',\n",
       " 870: '조',\n",
       " 871: '거나',\n",
       " 872: '아까워',\n",
       " 873: '법',\n",
       " 874: '던가',\n",
       " 875: '총',\n",
       " 876: '짧',\n",
       " 877: '이하',\n",
       " 878: '충분히',\n",
       " 879: '따',\n",
       " 880: '안타깝',\n",
       " 881: '에겐',\n",
       " 882: '아닌가',\n",
       " 883: '식상',\n",
       " 884: '몰랐',\n",
       " 885: '자꾸',\n",
       " 886: '훈훈',\n",
       " 887: '80',\n",
       " 888: '미안',\n",
       " 889: '김',\n",
       " 890: '화이팅',\n",
       " 891: '도록',\n",
       " 892: '게임',\n",
       " 893: '-_-',\n",
       " 894: '멜',\n",
       " 895: '원래',\n",
       " 896: '곳',\n",
       " 897: '그게',\n",
       " 898: '자극',\n",
       " 899: '몸',\n",
       " 900: '삼',\n",
       " 901: '손',\n",
       " 902: '장',\n",
       " 903: '구요',\n",
       " 904: '~!!',\n",
       " 905: '어쩔',\n",
       " 906: '팔',\n",
       " 907: '똑같',\n",
       " 908: '간다',\n",
       " 909: '나쁜',\n",
       " 910: '뭔지',\n",
       " 911: '사건',\n",
       " 912: '풀',\n",
       " 913: '설명',\n",
       " 914: '어울리',\n",
       " 915: '짜',\n",
       " 916: '귀신',\n",
       " 917: '잖아',\n",
       " 918: '과거',\n",
       " 919: '빙',\n",
       " 920: '노력',\n",
       " 921: '짐',\n",
       " 922: '그래픽',\n",
       " 923: '도저히',\n",
       " 924: '황당',\n",
       " 925: '조차',\n",
       " 926: '닿',\n",
       " 927: '됬',\n",
       " 928: '아프',\n",
       " 929: '중반',\n",
       " 930: '개그',\n",
       " 931: '듬',\n",
       " 932: '프랑스',\n",
       " 933: '코메디',\n",
       " 934: '홍콩',\n",
       " 935: '취향',\n",
       " 936: '빠져',\n",
       " 937: '죽음',\n",
       " 938: '했었',\n",
       " 939: '미치',\n",
       " 940: '역',\n",
       " 941: '속편',\n",
       " 942: '무조건',\n",
       " 943: '소중',\n",
       " 944: '프로',\n",
       " 945: '빠',\n",
       " 946: '무비',\n",
       " 947: '참신',\n",
       " 948: '이란',\n",
       " 949: '쳐',\n",
       " 950: '나쁘',\n",
       " 951: '멋',\n",
       " 952: '좋아하',\n",
       " 953: '아쉬운',\n",
       " 954: '더욱',\n",
       " 955: '넘치',\n",
       " 956: '병맛',\n",
       " 957: '괜히',\n",
       " 958: '진지',\n",
       " 959: '빠지',\n",
       " 960: '척',\n",
       " 961: '특유',\n",
       " 962: '또한',\n",
       " 963: '상상',\n",
       " 964: '숨',\n",
       " 965: '상영',\n",
       " 966: '결혼',\n",
       " 967: '리',\n",
       " 968: '짱짱',\n",
       " 969: '유명',\n",
       " 970: 'ost',\n",
       " 971: '심리',\n",
       " 972: '전설',\n",
       " 973: '무서운',\n",
       " 974: '헐',\n",
       " 975: '엄청난',\n",
       " 976: '오히려',\n",
       " 977: '인듯',\n",
       " 978: '비추',\n",
       " 979: '예고편',\n",
       " 980: '후반부',\n",
       " 981: '틀',\n",
       " 982: '더빙',\n",
       " 983: '아저씨',\n",
       " 984: '으니',\n",
       " 985: '고자',\n",
       " 986: '심하',\n",
       " 987: '바보',\n",
       " 988: '왕',\n",
       " 989: '연기자',\n",
       " 990: '촬영',\n",
       " 991: '그리',\n",
       " 992: '소녀',\n",
       " 993: '느꼈',\n",
       " 994: '끝내',\n",
       " 995: '로맨틱',\n",
       " 996: '조연',\n",
       " 997: '천재',\n",
       " 998: '아도',\n",
       " 999: '쩔',\n",
       " ...}"
      ]
     },
     "execution_count": 4,
     "metadata": {},
     "output_type": "execute_result"
    }
   ],
   "source": [
    "# index에서 word로 바꿔주는 dictionary\n",
    "index_to_word = {index:word for word, index in word_to_index.items()}\n",
    "index_to_word"
   ]
  },
  {
   "cell_type": "code",
   "execution_count": 5,
   "id": "216413cb",
   "metadata": {},
   "outputs": [
    {
     "data": {
      "text/plain": [
       "10000"
      ]
     },
     "execution_count": 5,
     "metadata": {},
     "output_type": "execute_result"
    }
   ],
   "source": [
    "len(word_to_index)"
   ]
  },
  {
   "cell_type": "code",
   "execution_count": 6,
   "id": "0d9d1dd6",
   "metadata": {},
   "outputs": [
    {
     "name": "stdout",
     "output_type": "stream",
     "text": [
      "더 빙 . . 진짜 짜증 나 네요 목소리\n",
      "라벨:  0\n"
     ]
    }
   ],
   "source": [
    "# function, data 확인\n",
    "print(get_decoded_sentence(X_train[0], index_to_word))\n",
    "print('라벨: ', y_train[0])  # 1번째 리뷰데이터의 라벨"
   ]
  },
  {
   "cell_type": "markdown",
   "id": "6b26d885",
   "metadata": {},
   "source": [
    "### 01.2 Data 분석 및 가공"
   ]
  },
  {
   "cell_type": "markdown",
   "id": "27fb1fe2",
   "metadata": {},
   "source": [
    "#### 01.2.1 Dataset 문장 길이 분포 & 적절한 최대 문장 길이 지정 "
   ]
  },
  {
   "cell_type": "code",
   "execution_count": 7,
   "id": "8bfbee13",
   "metadata": {},
   "outputs": [
    {
     "name": "stdout",
     "output_type": "stream",
     "text": [
      "문장길이 평균 :  15.96940191154864\n",
      "문장길이 최대 :  116\n",
      "문장길이 표준편차 :  12.843571191092\n",
      "pad_sequences maxlen :  41\n",
      "전체 문장의 0.9342988343341575%가 maxlen 설정값 이내에 포함됩니다. \n"
     ]
    }
   ],
   "source": [
    "total_data_text = list(X_train) + list(X_test)\n",
    "# 텍스트데이터 문장길이의 리스트를 생성한 후\n",
    "num_tokens = [len(tokens) for tokens in total_data_text]\n",
    "num_tokens = np.array(num_tokens)\n",
    "# 문장길이의 평균값, 최대값, 표준편차를 계산해 본다. \n",
    "print('문장길이 평균 : ', np.mean(num_tokens))\n",
    "print('문장길이 최대 : ', np.max(num_tokens))\n",
    "print('문장길이 표준편차 : ', np.std(num_tokens))\n",
    "\n",
    "# max_tokens 최대 길이를 (평균 + 2*표준편차)로 한다면,  \n",
    "max_tokens = np.mean(num_tokens) + 2 * np.std(num_tokens)\n",
    "maxlen = int(max_tokens)\n",
    "print('pad_sequences maxlen : ', maxlen)\n",
    "print('전체 문장의 {}%가 maxlen 설정값 이내에 포함됩니다. '.format(np.sum(num_tokens < max_tokens) / len(num_tokens)))"
   ]
  },
  {
   "cell_type": "markdown",
   "id": "a18ddfab",
   "metadata": {},
   "source": [
    "#### 01.2.2 keras.preprocessing.sequence.pad_sequences 을 활용한 패딩 추가 "
   ]
  },
  {
   "cell_type": "code",
   "execution_count": 8,
   "id": "ac69a562",
   "metadata": {},
   "outputs": [],
   "source": [
    "# keras.preprocessing.sequence.pad_sequences 을 활용한 패딩 추가\n",
    "X_train = keras.preprocessing.sequence.pad_sequences(X_train,\n",
    "                                                        value=word_to_index[\"<PAD>\"],\n",
    "                                                        padding='pre',\n",
    "                                                        maxlen=maxlen)\n",
    "\n",
    "X_test = keras.preprocessing.sequence.pad_sequences(X_test,\n",
    "                                                       value=word_to_index[\"<PAD>\"],\n",
    "                                                       padding='pre',\n",
    "                                                       maxlen=maxlen)"
   ]
  },
  {
   "cell_type": "markdown",
   "id": "c639b3f4",
   "metadata": {},
   "source": [
    "### 01.3 Train, Validation set 분리"
   ]
  },
  {
   "cell_type": "code",
   "execution_count": 9,
   "id": "4cda990a",
   "metadata": {},
   "outputs": [],
   "source": [
    "from sklearn.model_selection import train_test_split\n",
    "\n",
    "# Train, val data 분리\n",
    "partial_x_train, x_val, partial_y_train, y_val = train_test_split(X_train, y_train, test_size=0.4, random_state=1997)"
   ]
  },
  {
   "cell_type": "markdown",
   "id": "62d3e06b",
   "metadata": {},
   "source": [
    "## 02. Model"
   ]
  },
  {
   "cell_type": "markdown",
   "id": "1958cdc6",
   "metadata": {},
   "source": [
    "### 02.1 Model 선언"
   ]
  },
  {
   "cell_type": "code",
   "execution_count": 10,
   "id": "11661c06",
   "metadata": {},
   "outputs": [],
   "source": [
    "'''\n",
    "lstm, conv1d, gmp model subclassing 활용하여 선언\n",
    "'''\n",
    "\n",
    "class LSTMModel(keras.Model):\n",
    "    def __init__(self):\n",
    "        super().__init__()\n",
    "        vocab_size = 10000\n",
    "        word_vector_dim = 128\n",
    "        \n",
    "        self.embedding = keras.layers.Embedding(vocab_size, word_vector_dim, input_shape=(None,))\n",
    "        self.lstm = keras.layers.LSTM(128)\n",
    "        self.dense = keras.layers.Dense(1, activation='sigmoid')\n",
    "        \n",
    "    def call(self, x):\n",
    "        x = self.embedding(x)\n",
    "        x = self.lstm(x)\n",
    "        x = self.dense(x)\n",
    "        \n",
    "        return x\n",
    "\n",
    "class Conv1DModel(keras.Model):\n",
    "    def __init__(self):\n",
    "        super().__init__()\n",
    "        vocab_size = 10000\n",
    "        word_vector_dim = 64\n",
    "        \n",
    "        self.embedding = keras.layers.Embedding(vocab_size, word_vector_dim, input_shape=(None,))\n",
    "        self.conv1 = keras.layers.Conv1D(64, 7, activation='relu')\n",
    "        self.maxp = keras.layers.MaxPooling1D(5)\n",
    "        self.conv2 = keras.layers.Conv1D(64, 7, activation='relu')\n",
    "        self.gmaxp = keras.layers.GlobalMaxPooling1D()\n",
    "        self.dense1 = keras.layers.Dense(128, activation='relu')\n",
    "        self.dense2 = keras.layers.Dense(1, activation='sigmoid')\n",
    "        \n",
    "    def call(self, x):\n",
    "        x = self.embedding(x)\n",
    "        x = self.conv1(x)\n",
    "        x = self.maxp(x)\n",
    "        x = self.conv2(x)\n",
    "        x = self.gmaxp(x)\n",
    "        x = self.dense1(x)\n",
    "        x = self.dense2(x)\n",
    "        \n",
    "        return x\n",
    "\n",
    "class GMPModel(keras.Model):\n",
    "    def __init__(self):\n",
    "        super().__init__()\n",
    "        vocab_size = 10000\n",
    "        word_vector_dim = 64\n",
    "        \n",
    "        self.embedding = keras.layers.Embedding(vocab_size, word_vector_dim, input_shape=(None,))\n",
    "        self.gmp = keras.layers.GlobalMaxPooling1D()\n",
    "        self.dense1 = keras.layers.Dense(8, activation='relu')\n",
    "        self.dense2 = keras.layers.Dense(1, activation='sigmoid')\n",
    "        \n",
    "    def call(self, x):\n",
    "        x = self.embedding(x)\n",
    "        x = self.gmp(x)\n",
    "        x = self.dense1(x)\n",
    "        x = self.dense2(x)\n",
    "        \n",
    "        return x"
   ]
  },
  {
   "cell_type": "code",
   "execution_count": 11,
   "id": "79c15ed6",
   "metadata": {},
   "outputs": [],
   "source": [
    "# model 선언\n",
    "lstm_model = LSTMModel()\n",
    "conv1d_model = Conv1DModel()\n",
    "gmp_model = GMPModel()"
   ]
  },
  {
   "cell_type": "markdown",
   "id": "5c58e161",
   "metadata": {},
   "source": [
    "### 02.2 Model Train & Evaluate"
   ]
  },
  {
   "cell_type": "markdown",
   "id": "e0b56fd1",
   "metadata": {},
   "source": [
    "#### 02.2.1 LSTM"
   ]
  },
  {
   "cell_type": "code",
   "execution_count": 12,
   "id": "b90da969",
   "metadata": {},
   "outputs": [
    {
     "name": "stdout",
     "output_type": "stream",
     "text": [
      "Epoch 1/3\n",
      "2741/2741 [==============================] - 21s 7ms/step - loss: 0.3814 - accuracy: 0.8275 - val_loss: 0.3378 - val_accuracy: 0.8525\n",
      "Epoch 2/3\n",
      "2741/2741 [==============================] - 18s 7ms/step - loss: 0.2877 - accuracy: 0.8787 - val_loss: 0.3323 - val_accuracy: 0.8611\n",
      "Epoch 3/3\n",
      "2741/2741 [==============================] - 18s 6ms/step - loss: 0.2388 - accuracy: 0.9007 - val_loss: 0.3339 - val_accuracy: 0.8603\n",
      "1537/1537 - 3s - loss: 0.3384 - accuracy: 0.8584\n",
      "\n",
      "This is lstm_model\n",
      "Loss: 0.33837082982063293\n",
      "Accurancy: 0.8583518266677856\n",
      "\n"
     ]
    }
   ],
   "source": [
    "lstm_history = fitting_machine(lstm_model, 3)"
   ]
  },
  {
   "cell_type": "code",
   "execution_count": 13,
   "id": "f0911f43",
   "metadata": {
    "scrolled": false
   },
   "outputs": [
    {
     "data": {
      "image/png": "[encoded data removed]",
      "text/plain": [
       "<Figure size 432x288 with 1 Axes>"
      ]
     },
     "metadata": {
      "needs_background": "light"
     },
     "output_type": "display_data"
    },
    {
     "data": {
      "image/png": "[encoded data removed]",
      "text/plain": [
       "<Figure size 432x288 with 1 Axes>"
      ]
     },
     "metadata": {
      "needs_background": "light"
     },
     "output_type": "display_data"
    }
   ],
   "source": [
    "visualization(lstm_history)"
   ]
  },
  {
   "cell_type": "markdown",
   "id": "749a6652",
   "metadata": {},
   "source": [
    "#### 02.2.2 Conv1D"
   ]
  },
  {
   "cell_type": "code",
   "execution_count": 14,
   "id": "533f2601",
   "metadata": {
    "scrolled": true
   },
   "outputs": [
    {
     "name": "stdout",
     "output_type": "stream",
     "text": [
      "Epoch 1/3\n",
      "2741/2741 [==============================] - 17s 5ms/step - loss: 0.3796 - accuracy: 0.8252 - val_loss: 0.3332 - val_accuracy: 0.8531\n",
      "Epoch 2/3\n",
      "2741/2741 [==============================] - 15s 5ms/step - loss: 0.2610 - accuracy: 0.8922 - val_loss: 0.3302 - val_accuracy: 0.8584\n",
      "Epoch 3/3\n",
      "2741/2741 [==============================] - 15s 5ms/step - loss: 0.1686 - accuracy: 0.9353 - val_loss: 0.3913 - val_accuracy: 0.8504\n",
      "1537/1537 - 3s - loss: 0.4005 - accuracy: 0.8463\n",
      "\n",
      "This is conv1d_model\n",
      "Loss: 0.40048927068710327\n",
      "Accurancy: 0.8462680578231812\n",
      "\n"
     ]
    }
   ],
   "source": [
    "conv1d_history = fitting_machine(conv1d_model, 3)"
   ]
  },
  {
   "cell_type": "code",
   "execution_count": 15,
   "id": "b16bb0f2",
   "metadata": {},
   "outputs": [
    {
     "data": {
      "image/png": "[encoded data removed]",
      "text/plain": [
       "<Figure size 432x288 with 1 Axes>"
      ]
     },
     "metadata": {
      "needs_background": "light"
     },
     "output_type": "display_data"
    },
    {
     "data": {
      "image/png": "[encoded data removed]",
      "text/plain": [
       "<Figure size 432x288 with 1 Axes>"
      ]
     },
     "metadata": {
      "needs_background": "light"
     },
     "output_type": "display_data"
    }
   ],
   "source": [
    "visualization(conv1d_history)"
   ]
  },
  {
   "cell_type": "markdown",
   "id": "df9352bb",
   "metadata": {},
   "source": [
    "#### 02.2.3 GMP"
   ]
  },
  {
   "cell_type": "code",
   "execution_count": 16,
   "id": "d92a6af0",
   "metadata": {
    "scrolled": true
   },
   "outputs": [
    {
     "name": "stdout",
     "output_type": "stream",
     "text": [
      "Epoch 1/5\n",
      "2741/2741 [==============================] - 11s 4ms/step - loss: 0.4046 - accuracy: 0.8191 - val_loss: 0.3551 - val_accuracy: 0.8438\n",
      "Epoch 2/5\n",
      "2741/2741 [==============================] - 10s 4ms/step - loss: 0.3023 - accuracy: 0.8724 - val_loss: 0.3497 - val_accuracy: 0.8500\n",
      "Epoch 3/5\n",
      "2741/2741 [==============================] - 10s 4ms/step - loss: 0.2529 - accuracy: 0.8980 - val_loss: 0.3661 - val_accuracy: 0.8463\n",
      "Epoch 4/5\n",
      "2741/2741 [==============================] - 10s 4ms/step - loss: 0.2111 - accuracy: 0.9177 - val_loss: 0.3911 - val_accuracy: 0.8437\n",
      "Epoch 5/5\n",
      "2741/2741 [==============================] - 10s 4ms/step - loss: 0.1727 - accuracy: 0.9348 - val_loss: 0.4299 - val_accuracy: 0.8400\n",
      "1537/1537 - 2s - loss: 0.4322 - accuracy: 0.8397\n",
      "\n",
      "This is gmp_model\n",
      "Loss: 0.4322095215320587\n",
      "Accurancy: 0.8396565914154053\n",
      "\n"
     ]
    }
   ],
   "source": [
    "gmp_history = fitting_machine(gmp_model, 5)"
   ]
  },
  {
   "cell_type": "code",
   "execution_count": 17,
   "id": "4b4ca180",
   "metadata": {},
   "outputs": [
    {
     "data": {
      "image/png": "[encoded data removed]",
      "text/plain": [
       "<Figure size 432x288 with 1 Axes>"
      ]
     },
     "metadata": {
      "needs_background": "light"
     },
     "output_type": "display_data"
    },
    {
     "data": {
      "image/png": "[encoded data removed]",
      "text/plain": [
       "<Figure size 432x288 with 1 Axes>"
      ]
     },
     "metadata": {
      "needs_background": "light"
     },
     "output_type": "display_data"
    }
   ],
   "source": [
    "visualization(gmp_history)"
   ]
  },
  {
   "cell_type": "markdown",
   "id": "aff77cbc",
   "metadata": {},
   "source": [
    "## 03. Model embeding layer"
   ]
  },
  {
   "cell_type": "markdown",
   "id": "103ad637",
   "metadata": {},
   "source": [
    "### 03.1 lstm emdeding layer"
   ]
  },
  {
   "cell_type": "code",
   "execution_count": 18,
   "id": "c57844b5",
   "metadata": {},
   "outputs": [
    {
     "data": {
      "text/plain": [
       "array([-0.06797565,  0.1355837 ,  0.1373755 , -0.0630826 , -0.10403558,\n",
       "       -0.08027282,  0.10743004,  0.00170233, -0.01438868,  0.06628199,\n",
       "       -0.00867042, -0.03376878, -0.02930173, -0.04660742,  0.05128373,\n",
       "       -0.14103043, -0.1298416 ,  0.09679523, -0.02863735, -0.21662757,\n",
       "        0.0066854 , -0.17381775, -0.04172801,  0.03355502, -0.08239   ,\n",
       "       -0.13784271,  0.02807988, -0.0979026 , -0.05319535,  0.07188458,\n",
       "       -0.11463896, -0.04215635,  0.01886554, -0.16521208, -0.07306395,\n",
       "       -0.01160732, -0.10554281, -0.02493268,  0.10837907,  0.07913797,\n",
       "       -0.02354291, -0.1469421 ,  0.03386083,  0.00866006,  0.02144554,\n",
       "        0.03747693,  0.0427036 ,  0.05049077,  0.06347983,  0.0613207 ,\n",
       "        0.07980196,  0.1096382 ,  0.10691079,  0.10547383,  0.1738668 ,\n",
       "       -0.01089285,  0.00314148, -0.07662689, -0.08253678, -0.03843961,\n",
       "        0.0043464 ,  0.02111812,  0.09782407,  0.08846591,  0.12412284,\n",
       "        0.10147944,  0.0393299 ,  0.0171389 ,  0.03475457, -0.03453696,\n",
       "       -0.07707567, -0.00961576,  0.08414603, -0.04934993,  0.06472301,\n",
       "        0.1179148 ,  0.07007483, -0.16425474, -0.084066  ,  0.06216267,\n",
       "        0.12594712,  0.0063861 , -0.01517679, -0.07158224, -0.03816   ,\n",
       "       -0.09936047, -0.04151838,  0.18609895,  0.15498942,  0.01132791,\n",
       "        0.00441127, -0.05989565,  0.15154919, -0.11632849,  0.05030499,\n",
       "        0.08119971, -0.05877975, -0.05723767,  0.07013299, -0.01641383,\n",
       "        0.10427079,  0.09376369, -0.03813437,  0.09573077,  0.00432639,\n",
       "       -0.11977945, -0.04193987, -0.00733934, -0.04964602,  0.059974  ,\n",
       "       -0.07739242,  0.06061578, -0.11533761, -0.00620962, -0.00681339,\n",
       "        0.12259713, -0.02938841,  0.02840475,  0.02429749, -0.06937948,\n",
       "       -0.07585436,  0.01425514, -0.02258207,  0.01136262,  0.10134297,\n",
       "       -0.10237142, -0.13927537,  0.00639789], dtype=float32)"
      ]
     },
     "execution_count": 18,
     "metadata": {},
     "output_type": "execute_result"
    }
   ],
   "source": [
    "embedding_layer = lstm_model.layers[0]\n",
    "weights = embedding_layer.get_weights()[0]\n",
    "vocab_size, word_vector_dim = weights.shape[0], weights.shape[1]\n",
    "\n",
    "word2vec_file_path = os.getenv('HOME')+'/aiffel/sentiment_classification/LSTMword2vec.txt'\n",
    "f = open(word2vec_file_path, 'w')\n",
    "f.write('{} {}\\n'.format(vocab_size-4, word_vector_dim))\n",
    "\n",
    "vectors = lstm_model.get_weights()[0]\n",
    "for i in range(4,vocab_size):\n",
    "    f.write('{} {}\\n'.format(index_to_word[i], ' '.join(map(str, list(vectors[i, :])))))\n",
    "f.close()\n",
    "\n",
    "word_vectors = Word2VecKeyedVectors.load_word2vec_format(word2vec_file_path, binary=False)\n",
    "vector = word_vectors['컴퓨터']\n",
    "vector"
   ]
  },
  {
   "cell_type": "code",
   "execution_count": 19,
   "id": "4af79777",
   "metadata": {},
   "outputs": [
    {
     "data": {
      "text/plain": [
       "[('아름다운', 0.9411205649375916),\n",
       " ('압도', 0.94080650806427),\n",
       " ('보석', 0.9339301586151123),\n",
       " ('이뻐', 0.9338570833206177),\n",
       " ('찰리', 0.9311522245407104),\n",
       " ('잘생김', 0.9287165999412537),\n",
       " ('손색없', 0.9262828826904297),\n",
       " ('열린', 0.9200053215026855),\n",
       " ('입감', 0.9197369813919067),\n",
       " ('펑펑', 0.9192264080047607)]"
      ]
     },
     "execution_count": 19,
     "metadata": {},
     "output_type": "execute_result"
    }
   ],
   "source": [
    "# lstm model을 통하여 만든 vector \"감동\"과 비슷한 단어들\n",
    "word_vectors.similar_by_word(\"감동\")"
   ]
  },
  {
   "cell_type": "code",
   "execution_count": 20,
   "id": "b9d5dc59",
   "metadata": {},
   "outputs": [
    {
     "data": {
      "text/plain": [
       "[('가짜', 0.9651846289634705),\n",
       " ('쓰레기', 0.9600820541381836),\n",
       " ('OOO', 0.9538226127624512),\n",
       " ('용가리', 0.9513728618621826),\n",
       " ('빈약', 0.9478206634521484),\n",
       " ('재미없', 0.9470405578613281),\n",
       " ('잤', 0.946316659450531),\n",
       " ('혈압', 0.9441273212432861),\n",
       " ('졸작', 0.9428030848503113),\n",
       " ('지루', 0.9426817893981934)]"
      ]
     },
     "execution_count": 20,
     "metadata": {},
     "output_type": "execute_result"
    }
   ],
   "source": [
    "# lstm model을 통하여 만든 vector \"실망\"과 비슷한 단어들\n",
    "word_vectors.similar_by_word(\"실망\")"
   ]
  },
  {
   "cell_type": "markdown",
   "id": "eb1ecc0d",
   "metadata": {},
   "source": [
    "### 03.2 Conv1D emdeding layer"
   ]
  },
  {
   "cell_type": "code",
   "execution_count": 21,
   "id": "8ca2f469",
   "metadata": {},
   "outputs": [
    {
     "data": {
      "text/plain": [
       "array([ 2.53127906e-02, -1.29544931e-02,  3.82216126e-02,  1.02612786e-01,\n",
       "        2.72610188e-01, -1.35011047e-01, -1.11595057e-01, -1.84603706e-01,\n",
       "       -1.81866631e-01,  1.45925744e-03,  5.57811335e-02,  4.45589162e-02,\n",
       "       -1.33474357e-02,  1.02432156e-02, -1.68451592e-02, -6.19907938e-02,\n",
       "        2.01605503e-02, -1.17447563e-01,  9.49516520e-02,  5.41615970e-02,\n",
       "       -8.46147463e-02, -1.35803491e-01,  3.66551876e-02, -3.68126258e-02,\n",
       "        7.93410987e-02,  8.95052031e-02, -2.19200611e-01,  1.09099492e-01,\n",
       "       -1.08042136e-01,  1.83441415e-01, -7.85517599e-03, -1.03686951e-01,\n",
       "        8.06799978e-02, -1.43688787e-02,  4.66370471e-02,  1.67482585e-01,\n",
       "        9.62320268e-02,  8.52655806e-03, -3.35952733e-03,  1.96931455e-02,\n",
       "       -1.42820641e-01, -2.11454600e-01, -4.00304198e-02, -2.94909477e-02,\n",
       "       -1.45919636e-01,  4.98866551e-02,  8.05891976e-02,  5.22551200e-05,\n",
       "        8.71910676e-02,  1.44452965e-02,  1.83373094e-02, -8.15625675e-03,\n",
       "        3.52216586e-02, -1.32393882e-01, -1.59725636e-01, -7.87035450e-02,\n",
       "        1.04843691e-01,  9.77995247e-02,  1.25149935e-01,  1.42357633e-01,\n",
       "        5.20874076e-02, -1.02207169e-01,  7.17018396e-02, -4.80454341e-02],\n",
       "      dtype=float32)"
      ]
     },
     "execution_count": 21,
     "metadata": {},
     "output_type": "execute_result"
    }
   ],
   "source": [
    "embedding_layer = conv1d_model.layers[0]\n",
    "weights = embedding_layer.get_weights()[0]\n",
    "vocab_size, word_vector_dim = weights.shape[0], weights.shape[1]\n",
    "\n",
    "word2vec_file_path = os.getenv('HOME')+'/aiffel/sentiment_classification/conv1d_word2vec.txt'\n",
    "f = open(word2vec_file_path, 'w')\n",
    "f.write('{} {}\\n'.format(vocab_size-4, word_vector_dim))\n",
    "\n",
    "vectors = conv1d_model.get_weights()[0]\n",
    "for i in range(4,vocab_size):\n",
    "    f.write('{} {}\\n'.format(index_to_word[i], ' '.join(map(str, list(vectors[i, :])))))\n",
    "f.close()\n",
    "\n",
    "word_vectors = Word2VecKeyedVectors.load_word2vec_format(word2vec_file_path, binary=False)\n",
    "vector = word_vectors['컴퓨터']\n",
    "vector"
   ]
  },
  {
   "cell_type": "code",
   "execution_count": 22,
   "id": "838b0386",
   "metadata": {
    "scrolled": true
   },
   "outputs": [
    {
     "data": {
      "text/plain": [
       "[('롤러코스터', 0.8297891020774841),\n",
       " ('놀라웠', 0.817345917224884),\n",
       " ('주옥같', 0.810905933380127),\n",
       " ('편안', 0.810460090637207),\n",
       " ('완소', 0.8093061447143555),\n",
       " ('젬', 0.8086325526237488),\n",
       " ('앓', 0.8067060112953186),\n",
       " ('클레이', 0.8053863048553467),\n",
       " ('예뻐요', 0.8011735081672668),\n",
       " ('기막힌', 0.8000566363334656)]"
      ]
     },
     "execution_count": 22,
     "metadata": {},
     "output_type": "execute_result"
    }
   ],
   "source": [
    "# conv1d model을 통하여 만든 vector \"감동\"과 비슷한 단어들\n",
    "word_vectors.similar_by_word(\"감동\")"
   ]
  },
  {
   "cell_type": "code",
   "execution_count": 23,
   "id": "4fdaff23",
   "metadata": {},
   "outputs": [
    {
     "data": {
      "text/plain": [
       "[('자질', 0.888278603553772),\n",
       " ('챙피', 0.8839362859725952),\n",
       " ('빈약', 0.8797338008880615),\n",
       " ('뻔했', 0.8767226934432983),\n",
       " ('결여', 0.8699007034301758),\n",
       " ('퉤', 0.8690875172615051),\n",
       " ('실패작', 0.8689863681793213),\n",
       " ('낭비', 0.8688830137252808),\n",
       " ('역겨웠', 0.8615521192550659),\n",
       " ('별론데', 0.8607015609741211)]"
      ]
     },
     "execution_count": 23,
     "metadata": {},
     "output_type": "execute_result"
    }
   ],
   "source": [
    "# conv1d model을 통하여 만든 vector \"실망\"과 비슷한 단어들\n",
    "word_vectors.similar_by_word(\"실망\")"
   ]
  },
  {
   "cell_type": "markdown",
   "id": "aa10b0ce",
   "metadata": {},
   "source": [
    "### 03.3 GMP emdeding layer"
   ]
  },
  {
   "cell_type": "code",
   "execution_count": 24,
   "id": "20afbaac",
   "metadata": {},
   "outputs": [
    {
     "data": {
      "text/plain": [
       "array([-0.14366952, -0.04783695, -0.04839371,  0.0094797 ,  0.01584284,\n",
       "       -0.11096233, -0.04838162, -0.03335236,  0.03941106, -0.01698603,\n",
       "       -0.07707217,  0.02250049, -0.09203346, -0.08635528, -0.12535031,\n",
       "       -0.00212872,  0.01902799,  0.12445839, -0.10997654, -0.12963858,\n",
       "        0.20910363, -0.11305529, -0.0663897 ,  0.03579544, -0.11307922,\n",
       "       -0.09512287, -0.07588945, -0.15677492, -0.09099009, -0.07499539,\n",
       "       -0.0129795 , -0.1347505 , -0.12361696, -0.09136647, -0.04936582,\n",
       "       -0.00957945,  0.20741576, -0.06414691, -0.00325607, -0.0314059 ,\n",
       "        0.0310864 ,  0.11892456,  0.04854522, -0.09818767, -0.09289701,\n",
       "       -0.10237363, -0.06249695,  0.07519243, -0.07104953, -0.05588046,\n",
       "        0.07663175, -0.09111308, -0.11253771, -0.10190626, -0.03399803,\n",
       "       -0.08466739, -0.09296577,  0.00848108, -0.0378561 , -0.01555244,\n",
       "       -0.07459715, -0.0120921 , -0.02423434, -0.03285239], dtype=float32)"
      ]
     },
     "execution_count": 24,
     "metadata": {},
     "output_type": "execute_result"
    }
   ],
   "source": [
    "embedding_layer = gmp_model.layers[0]\n",
    "weights = embedding_layer.get_weights()[0]\n",
    "vocab_size, word_vector_dim = weights.shape[0], weights.shape[1]\n",
    "\n",
    "word2vec_file_path = os.getenv('HOME')+'/aiffel/sentiment_classification/GMP_word2vec.txt'\n",
    "f = open(word2vec_file_path, 'w')\n",
    "f.write('{} {}\\n'.format(vocab_size-4, word_vector_dim))\n",
    "\n",
    "vectors = gmp_model.get_weights()[0]\n",
    "for i in range(4,vocab_size):\n",
    "    f.write('{} {}\\n'.format(index_to_word[i], ' '.join(map(str, list(vectors[i, :])))))\n",
    "f.close()\n",
    "\n",
    "word_vectors = Word2VecKeyedVectors.load_word2vec_format(word2vec_file_path, binary=False)\n",
    "vector = word_vectors['컴퓨터']\n",
    "vector\n"
   ]
  },
  {
   "cell_type": "code",
   "execution_count": 25,
   "id": "5b460509",
   "metadata": {
    "scrolled": true
   },
   "outputs": [
    {
     "data": {
      "text/plain": [
       "[('퀄리티', 0.7456117272377014),\n",
       " ('역시', 0.7106660604476929),\n",
       " ('~~', 0.7031740546226501),\n",
       " ('르네', 0.6987693309783936),\n",
       " ('자주', 0.6959245204925537),\n",
       " ('어마어마', 0.692947506904602),\n",
       " ('펭귄', 0.6916792988777161),\n",
       " ('슬퍼', 0.6883925199508667),\n",
       " ('반담', 0.683761715888977),\n",
       " ('그리운', 0.6829804182052612)]"
      ]
     },
     "execution_count": 25,
     "metadata": {},
     "output_type": "execute_result"
    }
   ],
   "source": [
    "# gmp model을 통하여 만든 vector \"감동\"과 비슷한 단어들\n",
    "word_vectors.similar_by_word(\"감동\")"
   ]
  },
  {
   "cell_type": "code",
   "execution_count": 26,
   "id": "6d639dd1",
   "metadata": {},
   "outputs": [
    {
     "data": {
      "text/plain": [
       "[('따분', 0.7970080375671387),\n",
       " ('별로', 0.79494309425354),\n",
       " ('히히', 0.7945777177810669),\n",
       " ('..............', 0.7915064692497253),\n",
       " ('벗', 0.7818416357040405),\n",
       " ('OOO', 0.777866780757904),\n",
       " ('지겹', 0.7757134437561035),\n",
       " ('뻔해', 0.7747142910957336),\n",
       " ('특촬물', 0.7738757133483887),\n",
       " ('맞췄', 0.7729415893554688)]"
      ]
     },
     "execution_count": 26,
     "metadata": {},
     "output_type": "execute_result"
    }
   ],
   "source": [
    "# gmp model을 통하여 만든 vector \"실망\"과 비슷한 단어들\n",
    "word_vectors.similar_by_word(\"실망\")"
   ]
  },
  {
   "cell_type": "markdown",
   "id": "ed3c567c",
   "metadata": {},
   "source": [
    "## 04. 한국어 Word2Vec"
   ]
  },
  {
   "cell_type": "markdown",
   "id": "5a7198db",
   "metadata": {},
   "source": [
    "### 04.1 한국어 Word2Vec loading"
   ]
  },
  {
   "cell_type": "code",
   "execution_count": 27,
   "id": "136d572b",
   "metadata": {
    "scrolled": true
   },
   "outputs": [
    {
     "data": {
      "text/plain": [
       "array([-1.517628  , -0.8935504 , -1.4352998 ,  1.5069847 , -1.5178334 ,\n",
       "        1.1542678 , -2.94064   ,  1.1850045 ,  0.19959009, -1.5288961 ,\n",
       "       -1.7067502 , -2.1892095 , -0.20728938, -2.2606812 , -2.2283888 ,\n",
       "        0.32318738, -0.2845471 , -0.07731772, -0.86269003, -1.1722927 ,\n",
       "       -0.91062415,  0.8440715 ,  0.903278  , -0.84685427,  0.7023384 ,\n",
       "       -2.1920419 , -0.47571626, -0.60159504, -0.68860835,  0.18944737,\n",
       "        0.5319404 ,  0.73058116, -0.9658133 , -1.0123725 , -0.36183038,\n",
       "        2.5851305 ,  0.66589296, -1.7231252 ,  1.7576753 ,  0.88845277,\n",
       "        1.5791365 , -4.430691  ,  0.36731872,  0.69481534, -0.46041563,\n",
       "        1.742655  , -1.5077016 ,  0.72209424, -0.04532204, -0.6557301 ,\n",
       "       -0.71276623,  0.26522732, -0.17656395, -2.4720876 , -0.845565  ,\n",
       "        0.23591152,  1.3414925 ,  0.77577615, -2.289371  , -0.8078124 ,\n",
       "        1.4359473 ,  0.22882733, -1.08867   ,  1.2607764 , -1.7469797 ,\n",
       "        0.06542054,  0.39896825, -0.3160832 , -1.7257563 ,  0.54638785,\n",
       "       -0.31753907, -0.48656994, -0.8225613 , -0.573065  ,  0.13175343,\n",
       "       -0.3924169 ,  0.55588305, -1.0773534 ,  0.55159163,  0.1352609 ,\n",
       "        0.88245326, -1.0127378 ,  0.14704451, -0.5254349 , -3.401769  ,\n",
       "       -0.42525592,  2.0031376 ,  0.36679608, -1.0043006 ,  1.3084906 ,\n",
       "        0.66252464, -0.48564675,  1.1390634 , -0.61399025, -0.50669813,\n",
       "        2.984564  ,  1.126494  ,  0.68590933, -0.2439008 , -1.317931  ,\n",
       "        0.826134  , -0.3985872 ,  0.509279  , -2.7423162 ,  2.1723568 ,\n",
       "        0.02191449, -0.16062206, -0.14502135, -0.32332814, -1.7890338 ,\n",
       "        1.8245052 , -1.3794106 ,  0.4879299 , -1.4982558 , -1.2389678 ,\n",
       "        1.1795257 , -1.54579   ,  0.07694028,  0.44653377,  0.27894926,\n",
       "       -1.9621123 ,  0.6149733 , -0.41162157, -1.0487087 , -1.7935017 ,\n",
       "        0.31845954,  0.14684801, -0.49587062,  1.6319822 ,  0.39944446,\n",
       "        0.434382  , -1.1794649 , -2.5206347 ,  0.6408292 , -0.62896025,\n",
       "        1.9872422 ,  1.2521076 , -0.21406372,  1.6773093 , -1.6608806 ,\n",
       "       -0.33801398, -0.88510543,  0.1943094 , -1.7670768 , -0.39440864,\n",
       "        1.5270631 , -1.1952105 , -0.60033166,  1.0510954 , -1.4626403 ,\n",
       "       -1.517039  ,  0.59476143,  0.36977595, -1.4121546 , -0.21997249,\n",
       "       -1.0658429 , -0.17150132,  0.8064618 ,  0.5093993 , -0.74832773,\n",
       "        1.2333933 , -1.9864655 , -0.8474578 , -1.1405545 , -3.6550071 ,\n",
       "       -1.556984  ,  1.8270527 ,  1.3725282 , -1.2329742 , -0.09723412,\n",
       "        0.34405386,  0.11565362, -0.9567215 ,  1.4773479 ,  2.169166  ,\n",
       "       -0.26613593, -1.4810696 ,  3.1457973 , -0.4415616 , -1.1940637 ,\n",
       "       -0.09637992, -0.05768079,  0.6716703 , -0.21914895,  0.56199044,\n",
       "       -1.129858  , -0.7972026 ,  0.73576796,  0.22356483,  0.9140782 ,\n",
       "       -1.4168789 ,  0.15810002, -0.79947495, -1.0691265 ,  1.4587201 ,\n",
       "       -0.5216996 ,  1.1812991 ,  0.37763026,  1.3513768 , -0.4241938 ],\n",
       "      dtype=float32)"
      ]
     },
     "execution_count": 27,
     "metadata": {},
     "output_type": "execute_result"
    }
   ],
   "source": [
    "'''\n",
    "gensim 사용을 위하여 버전을 낮춰야함.\n",
    "'''\n",
    "#pip install gensim==3.8.1\n",
    "word2vec_path = os.getenv('HOME')+'/aiffel/sentiment_classification/ko.bin'\n",
    "word2vec = gensim.models.Word2Vec.load(word2vec_path)\n",
    "vector = word2vec['컴퓨터']\n",
    "vector"
   ]
  },
  {
   "cell_type": "code",
   "execution_count": 28,
   "id": "f559e664",
   "metadata": {},
   "outputs": [
    {
     "data": {
      "text/plain": [
       "[('감명', 0.7177015542984009),\n",
       " ('감격', 0.6908231973648071),\n",
       " ('실망', 0.6267645359039307),\n",
       " ('감화', 0.6191877126693726),\n",
       " ('감탄', 0.6140128374099731),\n",
       " ('칭찬', 0.6059398055076599),\n",
       " ('존경', 0.6032299995422363),\n",
       " ('자극', 0.594598650932312),\n",
       " ('감복', 0.5902734994888306),\n",
       " ('호응', 0.5850393772125244)]"
      ]
     },
     "execution_count": 28,
     "metadata": {},
     "output_type": "execute_result"
    }
   ],
   "source": [
    "word2vec.similar_by_word(\"감동\")"
   ]
  },
  {
   "cell_type": "code",
   "execution_count": 29,
   "id": "5314e3de",
   "metadata": {},
   "outputs": [
    {
     "data": {
      "text/plain": [
       "[('당황', 0.7591220140457153),\n",
       " ('경악', 0.6881837248802185),\n",
       " ('분개', 0.6751235723495483),\n",
       " ('분노', 0.6750859022140503),\n",
       " ('격분', 0.647419810295105),\n",
       " ('감동', 0.6267645955085754),\n",
       " ('감탄', 0.6222271919250488),\n",
       " ('원망', 0.6156655550003052),\n",
       " ('조심', 0.6145114898681641),\n",
       " ('감복', 0.6109203696250916)]"
      ]
     },
     "execution_count": 29,
     "metadata": {},
     "output_type": "execute_result"
    }
   ],
   "source": [
    "word2vec.similar_by_word(\"실망\")"
   ]
  },
  {
   "cell_type": "code",
   "execution_count": 30,
   "id": "4d520ee4",
   "metadata": {},
   "outputs": [],
   "source": [
    "# model에 사용할 embedding layer 만들기\n",
    "vocab_size = 10000\n",
    "word_vector_dim = 200\n",
    "\n",
    "embedding_matrix = np.random.rand(vocab_size, word_vector_dim)\n",
    "\n",
    "for i in range(4,vocab_size):\n",
    "    if index_to_word[i] in word2vec:\n",
    "        embedding_matrix[i] = word2vec[index_to_word[i]]"
   ]
  },
  {
   "cell_type": "markdown",
   "id": "6f012753",
   "metadata": {},
   "source": [
    "### 04.2 Model wiht 한국어 Word2Vec"
   ]
  },
  {
   "cell_type": "code",
   "execution_count": 31,
   "id": "76884373",
   "metadata": {},
   "outputs": [],
   "source": [
    "'''\n",
    "subclassing을 활용하여\n",
    "lstm, conv1d, gmp model과 한국어 word2vec을 embedding하는 model을 만든다.\n",
    "'''\n",
    "\n",
    "class LSTMModel_ko(keras.Model):\n",
    "    def __init__(self,embedding_m):\n",
    "        super().__init__()\n",
    "        vocab_size = 10000\n",
    "        word_vector_dim = 200\n",
    "        \n",
    "        self.embedding = keras.layers.Embedding(vocab_size, \n",
    "                                 word_vector_dim, \n",
    "                                 embeddings_initializer=Constant(embedding_m),\n",
    "                                 input_length=maxlen, \n",
    "                                 trainable=True)\n",
    "        self.lstm = keras.layers.LSTM(64)\n",
    "        self.dense1 = keras.layers.Dense(256, activation='relu')\n",
    "        self.dense2 = keras.layers.Dense(1, activation='sigmoid')\n",
    "        \n",
    "    def call(self, x):\n",
    "        x = self.embedding(x)\n",
    "        x = self.lstm(x)\n",
    "        x = self.dense1(x)\n",
    "        x = self.dense2(x)\n",
    "        \n",
    "        return x\n",
    "\n",
    "class Conv1DModel_ko(keras.Model):\n",
    "    def __init__(self,embedding_m):\n",
    "        super().__init__()\n",
    "        vocab_size = 10000\n",
    "        word_vector_dim = 200\n",
    "        \n",
    "        self.embedding = keras.layers.Embedding(vocab_size, \n",
    "                                 word_vector_dim, \n",
    "                                 embeddings_initializer=Constant(embedding_m),\n",
    "                                 input_length=maxlen, \n",
    "                                 trainable=True)\n",
    "        self.conv1 = keras.layers.Conv1D(64, 7, activation='relu')\n",
    "        self.maxp = keras.layers.MaxPooling1D(5)\n",
    "        self.conv2 = keras.layers.Conv1D(64, 7, activation='relu')\n",
    "        self.gmaxp = keras.layers.GlobalMaxPooling1D()\n",
    "        self.dense1 = keras.layers.Dense(128, activation='relu')\n",
    "        self.dense2 = keras.layers.Dense(1, activation='sigmoid')\n",
    "        \n",
    "    def call(self, x):\n",
    "        x = self.embedding(x)\n",
    "        x = self.conv1(x)\n",
    "        x = self.maxp(x)\n",
    "        x = self.conv2(x)\n",
    "        x = self.gmaxp(x)\n",
    "        x = self.dense1(x)\n",
    "        x = self.dense2(x)\n",
    "        \n",
    "        return x\n",
    "\n",
    "class GMPModel_ko(keras.Model):\n",
    "    def __init__(self,embedding_m):\n",
    "        super().__init__()\n",
    "        vocab_size = 10000\n",
    "        word_vector_dim = 200\n",
    "        \n",
    "        self.embedding = keras.layers.Embedding(vocab_size, \n",
    "                                 word_vector_dim, \n",
    "                                 embeddings_initializer=Constant(embedding_m),\n",
    "                                 input_length=maxlen, \n",
    "                                 trainable=True)\n",
    "        self.gmp = keras.layers.GlobalMaxPooling1D()\n",
    "        self.dense1 = keras.layers.Dense(8, activation='relu')\n",
    "        self.dense2 = keras.layers.Dense(1, activation='sigmoid')\n",
    "        \n",
    "    def call(self, x):\n",
    "        x = self.embedding(x)\n",
    "        x = self.gmp(x)\n",
    "        x = self.dense1(x)\n",
    "        x = self.dense2(x)\n",
    "        \n",
    "        return x"
   ]
  },
  {
   "cell_type": "code",
   "execution_count": 32,
   "id": "a300815f",
   "metadata": {},
   "outputs": [],
   "source": [
    "# model 선언\n",
    "lstm_model_ko = LSTMModel_ko(embedding_matrix)\n",
    "conv1d_model_ko = Conv1DModel_ko(embedding_matrix)\n",
    "gmp_model_ko = GMPModel_ko(embedding_matrix)"
   ]
  },
  {
   "cell_type": "markdown",
   "id": "153755ef",
   "metadata": {},
   "source": [
    "### 04.3 Model Train & Evaluate with 한국어 Word2Vec"
   ]
  },
  {
   "cell_type": "markdown",
   "id": "a0853cb6",
   "metadata": {},
   "source": [
    "#### 04.3.1 lstm with 한국어 Word2Vec"
   ]
  },
  {
   "cell_type": "code",
   "execution_count": 33,
   "id": "1468598c",
   "metadata": {
    "scrolled": false
   },
   "outputs": [
    {
     "name": "stdout",
     "output_type": "stream",
     "text": [
      "Epoch 1/3\n",
      "2741/2741 [==============================] - 19s 7ms/step - loss: 0.4027 - accuracy: 0.8144 - val_loss: 0.3396 - val_accuracy: 0.8511\n",
      "Epoch 2/3\n",
      "2741/2741 [==============================] - 18s 6ms/step - loss: 0.3001 - accuracy: 0.8725 - val_loss: 0.3251 - val_accuracy: 0.8593\n",
      "Epoch 3/3\n",
      "2741/2741 [==============================] - 18s 6ms/step - loss: 0.2542 - accuracy: 0.8937 - val_loss: 0.3297 - val_accuracy: 0.8595\n",
      "1537/1537 - 3s - loss: 0.3341 - accuracy: 0.8575\n",
      "\n",
      "This is lstm_model_ko\n",
      "Loss: 0.33407068252563477\n",
      "Accurancy: 0.857477068901062\n",
      "\n"
     ]
    }
   ],
   "source": [
    "lstm_ko_history = fitting_machine(lstm_model_ko, 3)"
   ]
  },
  {
   "cell_type": "code",
   "execution_count": 34,
   "id": "fc8ed090",
   "metadata": {
    "scrolled": true
   },
   "outputs": [
    {
     "data": {
      "image/png": "[encoded data removed]",
      "text/plain": [
       "<Figure size 432x288 with 1 Axes>"
      ]
     },
     "metadata": {
      "needs_background": "light"
     },
     "output_type": "display_data"
    },
    {
     "data": {
      "image/png": "[encoded data removed]",
      "text/plain": [
       "<Figure size 432x288 with 1 Axes>"
      ]
     },
     "metadata": {
      "needs_background": "light"
     },
     "output_type": "display_data"
    }
   ],
   "source": [
    "visualization(lstm_ko_history)"
   ]
  },
  {
   "cell_type": "markdown",
   "id": "c45907c9",
   "metadata": {},
   "source": [
    "#### 04.3.2 conv1d with 한국어 Word2Vec"
   ]
  },
  {
   "cell_type": "code",
   "execution_count": 35,
   "id": "2b4ee6a3",
   "metadata": {},
   "outputs": [
    {
     "name": "stdout",
     "output_type": "stream",
     "text": [
      "Epoch 1/2\n",
      "2741/2741 [==============================] - 17s 6ms/step - loss: 0.4416 - accuracy: 0.7875 - val_loss: 0.3809 - val_accuracy: 0.8323\n",
      "Epoch 2/2\n",
      "2741/2741 [==============================] - 16s 6ms/step - loss: 0.3185 - accuracy: 0.8625 - val_loss: 0.3559 - val_accuracy: 0.8437\n",
      "1537/1537 - 3s - loss: 0.3594 - accuracy: 0.8415\n",
      "\n",
      "This is conv1d_model_ko\n",
      "Loss: 0.359407901763916\n",
      "Accurancy: 0.841487467288971\n",
      "\n"
     ]
    }
   ],
   "source": [
    "conv1d_ko_history = fitting_machine(conv1d_model_ko, 2)"
   ]
  },
  {
   "cell_type": "code",
   "execution_count": 36,
   "id": "9c72fbc1",
   "metadata": {
    "scrolled": true
   },
   "outputs": [
    {
     "data": {
      "image/png": "[encoded data removed]",
      "text/plain": [
       "<Figure size 432x288 with 1 Axes>"
      ]
     },
     "metadata": {
      "needs_background": "light"
     },
     "output_type": "display_data"
    },
    {
     "data": {
      "image/png": "[encoded data removed]",
      "text/plain": [
       "<Figure size 432x288 with 1 Axes>"
      ]
     },
     "metadata": {
      "needs_background": "light"
     },
     "output_type": "display_data"
    }
   ],
   "source": [
    "visualization(conv1d_ko_history)"
   ]
  },
  {
   "cell_type": "markdown",
   "id": "85e3f168",
   "metadata": {},
   "source": [
    "#### 04.3.3  GMP with 한국어 Word2Vec"
   ]
  },
  {
   "cell_type": "code",
   "execution_count": 37,
   "id": "552160f7",
   "metadata": {},
   "outputs": [
    {
     "name": "stdout",
     "output_type": "stream",
     "text": [
      "Epoch 1/6\n",
      "2741/2741 [==============================] - 12s 4ms/step - loss: 0.5980 - accuracy: 0.6837 - val_loss: 0.5034 - val_accuracy: 0.7689\n",
      "Epoch 2/6\n",
      "2741/2741 [==============================] - 11s 4ms/step - loss: 0.4536 - accuracy: 0.7965 - val_loss: 0.4367 - val_accuracy: 0.8005\n",
      "Epoch 3/6\n",
      "2741/2741 [==============================] - 11s 4ms/step - loss: 0.3896 - accuracy: 0.8304 - val_loss: 0.4109 - val_accuracy: 0.8152\n",
      "Epoch 4/6\n",
      "2741/2741 [==============================] - 11s 4ms/step - loss: 0.3494 - accuracy: 0.8517 - val_loss: 0.4121 - val_accuracy: 0.8129\n",
      "Epoch 5/6\n",
      "2741/2741 [==============================] - 11s 4ms/step - loss: 0.3194 - accuracy: 0.8674 - val_loss: 0.3972 - val_accuracy: 0.8247\n",
      "Epoch 6/6\n",
      "2741/2741 [==============================] - 11s 4ms/step - loss: 0.2910 - accuracy: 0.8816 - val_loss: 0.4031 - val_accuracy: 0.8263\n",
      "1537/1537 - 2s - loss: 0.4077 - accuracy: 0.8248\n",
      "\n",
      "This is gmp_model_ko\n",
      "Loss: 0.4076833724975586\n",
      "Accurancy: 0.8247655630111694\n",
      "\n"
     ]
    }
   ],
   "source": [
    "gmp_ko_history = fitting_machine(gmp_model_ko, 6)"
   ]
  },
  {
   "cell_type": "code",
   "execution_count": 38,
   "id": "fcfb9527",
   "metadata": {
    "scrolled": true
   },
   "outputs": [
    {
     "data": {
      "image/png": "[encoded data removed]",
      "text/plain": [
       "<Figure size 432x288 with 1 Axes>"
      ]
     },
     "metadata": {
      "needs_background": "light"
     },
     "output_type": "display_data"
    },
    {
     "data": {
      "image/png": "[encoded data removed]",
      "text/plain": [
       "<Figure size 432x288 with 1 Axes>"
      ]
     },
     "metadata": {
      "needs_background": "light"
     },
     "output_type": "display_data"
    }
   ],
   "source": [
    "visualization(gmp_ko_history)"
   ]
  },
  {
   "cell_type": "markdown",
   "id": "d66a4c20",
   "metadata": {},
   "source": [
    "## 05. 회고"
   ]
  },
  {
   "cell_type": "markdown",
   "id": "3653a395",
   "metadata": {},
   "source": [
    "> 1. Gensim issue version\n",
    "    - 한국어word2vec를 사용하기위하여 많은 error가 있었다. version 문제가 있었다. version관리는 핵심이다. gensim 사용을 위하여 버전을 낮춰야한다.\n",
    "> 2. Early stop issue\n",
    "    - model을 Subclass로 생성하면 Early stop이 되지 않는다. error에는 memory 문제가 있다고 한다. early stop을 꼭 써야한다면 Subclass 말고 Functional이나 Sequential을 활용해야한다.\n",
    "> 3. Parameter, dimension 크기 조절이 잘 모르겠음.\n",
    "    - vocab의 size, dimension의 크기, model을 생성할 때 layer에 넣는 숫자를 어떻게 넣어야할지 감이 잘 안잡힌다. 직감적으로 이해가 되지는 않아 인터넷을 참고하여 parameter를 결정하였다. paratmeter를 자유자재로 설정하고 싶다.\n",
    "> 4. epoch\n",
    "    - epoch값이 조금만 커져도 val_loss가 심하게 바뀐다. overfitting이 쉽게 나는 것을 확인할 수 있었다. data가 적어서 생기는 문제인지 model이 가지고 있는 문제인지는 잘 모르겠다.\n",
    "> 5. NLP\n",
    "    - NLP 아직까지는 잘 모르겠지만 조금은 익숙해진다. embedding layer를 이용하고 token화 시켜주고 혼자서 하지는 못하겠지만 나중에 혼자서도 전처리할 수 있는 도전을 해보고 싶다. 신기하다."
   ]
  }
 ],
 "metadata": {
  "kernelspec": {
   "display_name": "Python 3 (ipykernel)",
   "language": "python",
   "name": "python3"
  },
  "language_info": {
   "codemirror_mode": {
    "name": "ipython",
    "version": 3
   },
   "file_extension": ".py",
   "mimetype": "text/x-python",
   "name": "python",
   "nbconvert_exporter": "python",
   "pygments_lexer": "ipython3",
   "version": "3.9.7"
  }
 },
 "nbformat": 4,
 "nbformat_minor": 5
}
