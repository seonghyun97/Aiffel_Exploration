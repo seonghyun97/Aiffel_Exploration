{
 "cells": [
  {
   "cell_type": "markdown",
   "id": "78fc1bb9",
   "metadata": {},
   "source": [
    "# [E-09] 영화리뷰 텍스트 감성분석하기"
   ]
  },
  {
   "cell_type": "markdown",
   "id": "8990bd72",
   "metadata": {},
   "source": [
    "  RNN(Recurrent Neural Network) 그리고 CNN(Convolutional Neural Network)를 활용하여 네이버나 다음 영화에서 확인할 수 있는 영화리뷰에 대한 감성분석(sentiment analysis) 를 진행해 본다."
   ]
  },
  {
   "cell_type": "markdown",
   "id": "1cb4e361",
   "metadata": {},
   "source": [
    "## 목차"
   ]
  },
  {
   "cell_type": "markdown",
   "id": "8b9af14e",
   "metadata": {},
   "source": [
    "00. import and define function\n",
    "\n",
    "01. Data  \n",
    "    01.1 Data Loading  \n",
    "    01.2 Data 분석 및 가공  \n",
    "    01.3 Train, Validation set 분리  \n",
    "    \n",
    "02. Model  \n",
    "    02.1 Model 선언  \n",
    "    02.2 Model Train & Evaluate  \n",
    "    \n",
    "03. Model embeding layer\n",
    "    03.1 lstm emdeding layer  \n",
    "    03.2 Conv1D emdeding layer  \n",
    "    03.3 GMP emdeding layer  \n",
    "    \n",
    "04. 한국어 Word2Vec  \n",
    "    04.1 한국어 Word2Vec loading  \n",
    "    04.2 Model wiht 한국어 Word2Vec  \n",
    "    04.3 Model Train & Evaluate with 한국어 Word2Vec  \n",
    "    \n",
    "05. 회고  "
   ]
  },
  {
   "cell_type": "markdown",
   "id": "4e264bce",
   "metadata": {},
   "source": [
    "## 00. import and define function"
   ]
  },
  {
   "cell_type": "code",
   "execution_count": 1,
   "id": "64345806",
   "metadata": {
    "scrolled": true
   },
   "outputs": [],
   "source": [
    "import os\n",
    "import re\n",
    "import pandas as pd\n",
    "import numpy as np\n",
    "import warnings\n",
    "warnings.filterwarnings(action='ignore')\n",
    "\n",
    "import urllib.request\n",
    "import matplotlib.pyplot as plt\n",
    "%matplotlib inline\n",
    "\n",
    "from konlpy.tag import Okt\n",
    "from konlpy.tag import Mecab\n",
    "\n",
    "from tensorflow import keras\n",
    "from tensorflow.keras.preprocessing.text import Tokenizer\n",
    "from tensorflow.keras.preprocessing.sequence import pad_sequences\n",
    "from tensorflow.keras.initializers import Constant\n",
    "from tensorflow.keras.callbacks import EarlyStopping, ModelCheckpoint\n",
    "from tensorflow.keras.models import load_model\n",
    "\n",
    "from collections import Counter\n",
    "import gensim\n",
    "from gensim.models import KeyedVectors\n",
    "from gensim.models.keyedvectors import Word2VecKeyedVectors\n",
    "\n",
    "# tokenizer, 불용어 선언\n",
    "tokenizer = Mecab()\n",
    "stopwords = ['의','가','이','은','들','는','좀','잘','걍','과','도','를','으로','자','에','와','한','하다']\n",
    "\n",
    "# pre-processing and loading data\n",
    "def load_data(train_data, test_data, num_words=10000):\n",
    "    '''\n",
    "    1. 데이터의 중복 제거\n",
    "    2. NaN 결측치 제거\n",
    "    3. 한국어 토크나이저로 토큰화\n",
    "    4. 불용어(Stopwords) 제거\n",
    "    5. 사전word_to_index 구성\n",
    "    6. 텍스트 스트링을 사전 인덱스 스트링으로 변환\n",
    "    7. Return: X_train, y_train, X_test, y_test, word_to_index\n",
    "    '''\n",
    "    \n",
    "    train_data.drop_duplicates(subset=['document'], inplace=True) #1\n",
    "    train_data = train_data.dropna(how = 'any') #2\n",
    "    test_data.drop_duplicates(subset=['document'], inplace=True) #1\n",
    "    test_data = test_data.dropna(how = 'any') #2\n",
    "    \n",
    "    #3,4 \n",
    "    X_train = []\n",
    "    for sentence in train_data['document']:\n",
    "        temp_X = tokenizer.morphs(sentence)\n",
    "        temp_X = [word for word in temp_X if not word in stopwords]\n",
    "        X_train.append(temp_X)\n",
    "\n",
    "    X_test = []\n",
    "    for sentence in test_data['document']:\n",
    "        temp_X = tokenizer.morphs(sentence)\n",
    "        temp_X = [word for word in temp_X if not word in stopwords]\n",
    "        X_test.append(temp_X)\n",
    "\n",
    "    words = np.concatenate(X_train).tolist()\n",
    "    counter = Counter(words)\n",
    "    counter = counter.most_common(10000-4)\n",
    "    vocab = ['<PAD>', '<BOS>', '<UNK>', '<UNUSED>'] + [key for key, _ in counter]\n",
    "    word_to_index = {word:index for index, word in enumerate(vocab)}\n",
    "    \n",
    "    #5\n",
    "    def wordlist_to_indexlist(wordlist):\n",
    "        return [word_to_index[word] if word in word_to_index else word_to_index['<UNK>'] for word in wordlist]\n",
    "    #6\n",
    "    X_train = list(map(wordlist_to_indexlist, X_train))\n",
    "    X_test = list(map(wordlist_to_indexlist, X_test))\n",
    "\n",
    "    return X_train, np.array(list(train_data['label'])), X_test, np.array(list(test_data['label'])), word_to_index\n",
    "\n",
    "# 문장 1개를 활용할 딕셔너리와 함께 주면, 단어 인덱스 리스트 벡터로 변환해 주는 함수입니다. \n",
    "# 단, 모든 문장은 <BOS>로 시작하는 것으로 합니다. \n",
    "def get_encoded_sentence(sentence, word_to_index):\n",
    "    return [word_to_index['<BOS>']]+[word_to_index[word] if word in word_to_index else word_to_index['<UNK>'] for word in sentence.split()]\n",
    "\n",
    "# 여러 개의 문장 리스트를 한꺼번에 단어 인덱스 리스트 벡터로 encode해 주는 함수입니다. \n",
    "def get_encoded_sentences(sentences, word_to_index):\n",
    "    return [get_encoded_sentence(sentence, word_to_index) for sentence in sentences]\n",
    "\n",
    "# 숫자 벡터로 encode된 문장을 원래대로 decode하는 함수입니다. \n",
    "def get_decoded_sentence(encoded_sentence, index_to_word):\n",
    "    return ' '.join(index_to_word[index] if index in index_to_word else '<UNK>' for index in encoded_sentence[1:])  #[1:]를 통해 <BOS>를 제외\n",
    "\n",
    "# 여러 개의 숫자 벡터로 encode된 문장을 한꺼번에 원래대로 decode하는 함수입니다. \n",
    "def get_decoded_sentences(encoded_sentences, index_to_word):\n",
    "    return [get_decoded_sentence(encoded_sentence, index_to_word) for encoded_sentence in encoded_sentences]\n",
    "\n",
    "# visualization Loss & Accuracy by epochs\n",
    "def visualization(history):\n",
    "    history_dict = history.history\n",
    "\n",
    "    acc = history_dict['accuracy']\n",
    "    val_acc = history_dict['val_accuracy']\n",
    "    loss = history_dict['loss']\n",
    "    val_loss = history_dict['val_loss']\n",
    "\n",
    "    epochs = range(1, len(acc) + 1)\n",
    "    \n",
    "    # Loss\n",
    "    plt.plot(epochs, loss, 'bo', label='Training loss')\n",
    "    plt.plot(epochs, val_loss, 'b', label='Validation loss')\n",
    "    plt.title('Training and validation loss')\n",
    "    plt.xlabel('Epochs')\n",
    "    plt.ylabel('Loss')\n",
    "    plt.legend()\n",
    "    plt.show()\n",
    "    \n",
    "    # Accuracy\n",
    "    plt.clf()\n",
    "    plt.plot(epochs, acc, 'bo', label='Training acc')\n",
    "    plt.plot(epochs, val_acc, 'b', label='Validation acc')\n",
    "    plt.title('Training and validation accuracy')\n",
    "    plt.xlabel('Epochs')\n",
    "    plt.ylabel('Accuracy')\n",
    "    plt.legend()\n",
    "    plt.show()\n",
    "\n",
    "# model을 훈련시키고 평가해보는 함수\n",
    "def fitting_machine(model,epoch):\n",
    "    # model compile\n",
    "    model = model\n",
    "    model.compile(optimizer='adam',\n",
    "              loss='binary_crossentropy',\n",
    "              metrics=['accuracy'])\n",
    "    \n",
    "    # model training and recording history\n",
    "    history = model.fit(partial_x_train,\n",
    "                        partial_y_train,\n",
    "                        epochs=epoch,\n",
    "                        batch_size=32,\n",
    "                        validation_data=(x_val, y_val),\n",
    "                        verbose=1)\n",
    "    # print result\n",
    "    results = model.evaluate(X_test,  y_test, verbose=2)\n",
    "    print(f'\\nThis is {model.name}\\nLoss: {results[0]}\\nAccurancy: {results[1]}\\n')\n",
    "    \n",
    "    return history"
   ]
  },
  {
   "cell_type": "markdown",
   "id": "213446da",
   "metadata": {},
   "source": [
    "## 01. Data"
   ]
  },
  {
   "cell_type": "markdown",
   "id": "da7a84e5",
   "metadata": {},
   "source": [
    "### 01.1 Data Loading"
   ]
  },
  {
   "cell_type": "markdown",
   "id": "a7d72f9b",
   "metadata": {},
   "source": [
    "이번에 다루게 될 nsmc 데이터셋은 전혀 가공되지 않은 텍스트 파일로 이루어져 있습니다. \n",
    "이것을 읽어서 imdb.data_loader()와 동일하게 동작하는 data_loader를 만들어 보기 \n",
    "data_loader 안에서는 다음을 수행해야 합니다.\n",
    "\n",
    "- 데이터의 중복 제거\n",
    "- NaN 결측치 제거\n",
    "- 한국어 토크나이저로 토큰화\n",
    "- 불용어(Stopwords) 제거\n",
    "- 사전word_to_index 구성\n",
    "- 텍스트 스트링을 사전 인덱스 스트링으로 변환\n",
    "- X_train, y_train, X_test, y_test, word_to_index 리턴"
   ]
  },
  {
   "cell_type": "code",
   "execution_count": 2,
   "id": "d9cc17a1",
   "metadata": {},
   "outputs": [
    {
     "data": {
      "text/html": [
       "<div>\n",
       "<style scoped>\n",
       "    .dataframe tbody tr th:only-of-type {\n",
       "        vertical-align: middle;\n",
       "    }\n",
       "\n",
       "    .dataframe tbody tr th {\n",
       "        vertical-align: top;\n",
       "    }\n",
       "\n",
       "    .dataframe thead th {\n",
       "        text-align: right;\n",
       "    }\n",
       "</style>\n",
       "<table border=\"1\" class=\"dataframe\">\n",
       "  <thead>\n",
       "    <tr style=\"text-align: right;\">\n",
       "      <th></th>\n",
       "      <th>id</th>\n",
       "      <th>document</th>\n",
       "      <th>label</th>\n",
       "    </tr>\n",
       "  </thead>\n",
       "  <tbody>\n",
       "    <tr>\n",
       "      <th>0</th>\n",
       "      <td>9976970</td>\n",
       "      <td>아 더빙.. 진짜 짜증나네요 목소리</td>\n",
       "      <td>0</td>\n",
       "    </tr>\n",
       "    <tr>\n",
       "      <th>1</th>\n",
       "      <td>3819312</td>\n",
       "      <td>흠...포스터보고 초딩영화줄....오버연기조차 가볍지 않구나</td>\n",
       "      <td>1</td>\n",
       "    </tr>\n",
       "    <tr>\n",
       "      <th>2</th>\n",
       "      <td>10265843</td>\n",
       "      <td>너무재밓었다그래서보는것을추천한다</td>\n",
       "      <td>0</td>\n",
       "    </tr>\n",
       "    <tr>\n",
       "      <th>3</th>\n",
       "      <td>9045019</td>\n",
       "      <td>교도소 이야기구먼 ..솔직히 재미는 없다..평점 조정</td>\n",
       "      <td>0</td>\n",
       "    </tr>\n",
       "    <tr>\n",
       "      <th>4</th>\n",
       "      <td>6483659</td>\n",
       "      <td>사이몬페그의 익살스런 연기가 돋보였던 영화!스파이더맨에서 늙어보이기만 했던 커스틴 ...</td>\n",
       "      <td>1</td>\n",
       "    </tr>\n",
       "  </tbody>\n",
       "</table>\n",
       "</div>"
      ],
      "text/plain": [
       "         id                                           document  label\n",
       "0   9976970                                아 더빙.. 진짜 짜증나네요 목소리      0\n",
       "1   3819312                  흠...포스터보고 초딩영화줄....오버연기조차 가볍지 않구나      1\n",
       "2  10265843                                  너무재밓었다그래서보는것을추천한다      0\n",
       "3   9045019                      교도소 이야기구먼 ..솔직히 재미는 없다..평점 조정      0\n",
       "4   6483659  사이몬페그의 익살스런 연기가 돋보였던 영화!스파이더맨에서 늙어보이기만 했던 커스틴 ...      1"
      ]
     },
     "execution_count": 2,
     "metadata": {},
     "output_type": "execute_result"
    }
   ],
   "source": [
    "# 데이터를 읽어봅시다. \n",
    "train_data = pd.read_table('~/aiffel/sentiment_classification/data/ratings_train.txt')\n",
    "test_data = pd.read_table('~/aiffel/sentiment_classification/data/ratings_test.txt')\n",
    "\n",
    "train_data.head()"
   ]
  },
  {
   "cell_type": "code",
   "execution_count": 3,
   "id": "b7ca63e3",
   "metadata": {},
   "outputs": [],
   "source": [
    "# data load 하여 X_train, y_train, X_test, y_test, word_to_index 리턴\n",
    "X_train, y_train, X_test, y_test, word_to_index = load_data(train_data, test_data) "
   ]
  },
  {
   "cell_type": "code",
   "execution_count": 4,
   "id": "ca6edb7f",
   "metadata": {},
   "outputs": [],
   "source": [
    "# index에서 word로 바꿔주는 dictionary\n",
    "index_to_word = {index:word for word, index in word_to_index.items()}"
   ]
  },
  {
   "cell_type": "code",
   "execution_count": 5,
   "id": "7a0a57ff",
   "metadata": {},
   "outputs": [
    {
     "data": {
      "text/plain": [
       "10000"
      ]
     },
     "execution_count": 5,
     "metadata": {},
     "output_type": "execute_result"
    }
   ],
   "source": [
    "len(word_to_index)"
   ]
  },
  {
   "cell_type": "code",
   "execution_count": 6,
   "id": "157520ab",
   "metadata": {},
   "outputs": [
    {
     "name": "stdout",
     "output_type": "stream",
     "text": [
      "더 빙 . . 진짜 짜증 나 네요 목소리\n",
      "라벨:  0\n"
     ]
    }
   ],
   "source": [
    "# function, data 확인\n",
    "print(get_decoded_sentence(X_train[0], index_to_word))\n",
    "print('라벨: ', y_train[0])  # 1번째 리뷰데이터의 라벨"
   ]
  },
  {
   "cell_type": "markdown",
   "id": "51772616",
   "metadata": {},
   "source": [
    "### 01.2 Data 분석 및 가공"
   ]
  },
  {
   "cell_type": "markdown",
   "id": "f53d117e",
   "metadata": {},
   "source": [
    "#### 01.2.1 Dataset 문장 길이 분포 & 적절한 최대 문장 길이 지정 "
   ]
  },
  {
   "cell_type": "code",
   "execution_count": 7,
   "id": "2aa9e675",
   "metadata": {},
   "outputs": [
    {
     "name": "stdout",
     "output_type": "stream",
     "text": [
      "문장길이 평균 :  15.96940191154864\n",
      "문장길이 최대 :  116\n",
      "문장길이 표준편차 :  12.843571191092\n",
      "pad_sequences maxlen :  41\n",
      "전체 문장의 0.9342988343341575%가 maxlen 설정값 이내에 포함됩니다. \n"
     ]
    }
   ],
   "source": [
    "total_data_text = list(X_train) + list(X_test)\n",
    "# 텍스트데이터 문장길이의 리스트를 생성한 후\n",
    "num_tokens = [len(tokens) for tokens in total_data_text]\n",
    "num_tokens = np.array(num_tokens)\n",
    "# 문장길이의 평균값, 최대값, 표준편차를 계산해 본다. \n",
    "print('문장길이 평균 : ', np.mean(num_tokens))\n",
    "print('문장길이 최대 : ', np.max(num_tokens))\n",
    "print('문장길이 표준편차 : ', np.std(num_tokens))\n",
    "\n",
    "# max_tokens 최대 길이를 (평균 + 2*표준편차)로 한다면,  \n",
    "max_tokens = np.mean(num_tokens) + 2 * np.std(num_tokens)\n",
    "maxlen = int(max_tokens)\n",
    "print('pad_sequences maxlen : ', maxlen)\n",
    "print('전체 문장의 {}%가 maxlen 설정값 이내에 포함됩니다. '.format(np.sum(num_tokens < max_tokens) / len(num_tokens)))"
   ]
  },
  {
   "cell_type": "markdown",
   "id": "c63c1a6c",
   "metadata": {},
   "source": [
    "#### 01.2.2 keras.preprocessing.sequence.pad_sequences 을 활용한 패딩 추가 "
   ]
  },
  {
   "cell_type": "code",
   "execution_count": 8,
   "id": "4cf2c01f",
   "metadata": {},
   "outputs": [],
   "source": [
    "# keras.preprocessing.sequence.pad_sequences 을 활용한 패딩 추가\n",
    "X_train = keras.preprocessing.sequence.pad_sequences(X_train,\n",
    "                                                        value=word_to_index[\"<PAD>\"],\n",
    "                                                        padding='pre',\n",
    "                                                        maxlen=maxlen)\n",
    "\n",
    "X_test = keras.preprocessing.sequence.pad_sequences(X_test,\n",
    "                                                       value=word_to_index[\"<PAD>\"],\n",
    "                                                       padding='pre',\n",
    "                                                       maxlen=maxlen)"
   ]
  },
  {
   "cell_type": "markdown",
   "id": "1beb2814",
   "metadata": {},
   "source": [
    "### 01.3 Train, Validation set 분리"
   ]
  },
  {
   "cell_type": "code",
   "execution_count": 9,
   "id": "87e5630c",
   "metadata": {},
   "outputs": [],
   "source": [
    "from sklearn.model_selection import train_test_split\n",
    "\n",
    "# Train, val data 분리\n",
    "partial_x_train, x_val, partial_y_train, y_val = train_test_split(X_train, y_train, test_size=0.25, random_state=1997)"
   ]
  },
  {
   "cell_type": "markdown",
   "id": "0801144a",
   "metadata": {},
   "source": [
    "## 02. Model"
   ]
  },
  {
   "cell_type": "markdown",
   "id": "4a243a2a",
   "metadata": {},
   "source": [
    "### 02.1 Model 선언"
   ]
  },
  {
   "cell_type": "code",
   "execution_count": 10,
   "id": "239e8088",
   "metadata": {},
   "outputs": [],
   "source": [
    "'''\n",
    "lstm, conv1d, gmp model subclassing 활용하여 선언\n",
    "'''\n",
    "\n",
    "class LSTMModel(keras.Model):\n",
    "    def __init__(self):\n",
    "        super().__init__()\n",
    "        vocab_size = 10000\n",
    "        word_vector_dim = 128\n",
    "        \n",
    "        self.embedding = keras.layers.Embedding(vocab_size, word_vector_dim, input_shape=(None,))\n",
    "        self.lstm = keras.layers.LSTM(128)\n",
    "        self.dense = keras.layers.Dense(1, activation='sigmoid')\n",
    "        \n",
    "    def call(self, x):\n",
    "        x = self.embedding(x)\n",
    "        x = self.lstm(x)\n",
    "        x = self.dense(x)\n",
    "        \n",
    "        return x\n",
    "\n",
    "class Conv1DModel(keras.Model):\n",
    "    def __init__(self):\n",
    "        super().__init__()\n",
    "        vocab_size = 10000\n",
    "        word_vector_dim = 64\n",
    "        \n",
    "        self.embedding = keras.layers.Embedding(vocab_size, word_vector_dim, input_shape=(None,))\n",
    "        self.conv1 = keras.layers.Conv1D(64, 7, activation='relu')\n",
    "        self.maxp = keras.layers.MaxPooling1D(5)\n",
    "        self.conv2 = keras.layers.Conv1D(64, 7, activation='relu')\n",
    "        self.gmaxp = keras.layers.GlobalMaxPooling1D()\n",
    "        self.dense1 = keras.layers.Dense(128, activation='relu')\n",
    "        self.dense2 = keras.layers.Dense(1, activation='sigmoid')\n",
    "        \n",
    "    def call(self, x):\n",
    "        x = self.embedding(x)\n",
    "        x = self.conv1(x)\n",
    "        x = self.maxp(x)\n",
    "        x = self.conv2(x)\n",
    "        x = self.gmaxp(x)\n",
    "        x = self.dense1(x)\n",
    "        x = self.dense2(x)\n",
    "        \n",
    "        return x\n",
    "\n",
    "class GMPModel(keras.Model):\n",
    "    def __init__(self):\n",
    "        super().__init__()\n",
    "        vocab_size = 10000\n",
    "        word_vector_dim = 64\n",
    "        \n",
    "        self.embedding = keras.layers.Embedding(vocab_size, word_vector_dim, input_shape=(None,))\n",
    "        self.gmp = keras.layers.GlobalMaxPooling1D()\n",
    "        self.dense1 = keras.layers.Dense(8, activation='relu')\n",
    "        self.dense2 = keras.layers.Dense(1, activation='sigmoid')\n",
    "        \n",
    "    def call(self, x):\n",
    "        x = self.embedding(x)\n",
    "        x = self.gmp(x)\n",
    "        x = self.dense1(x)\n",
    "        x = self.dense2(x)\n",
    "        \n",
    "        return x"
   ]
  },
  {
   "cell_type": "code",
   "execution_count": 11,
   "id": "c52f5b42",
   "metadata": {},
   "outputs": [],
   "source": [
    "# model 선언\n",
    "lstm_model = LSTMModel()\n",
    "conv1d_model = Conv1DModel()\n",
    "gmp_model = GMPModel()"
   ]
  },
  {
   "cell_type": "markdown",
   "id": "c1a260fa",
   "metadata": {},
   "source": [
    "### 02.2 Model Train & Evaluate"
   ]
  },
  {
   "cell_type": "markdown",
   "id": "6b2e6229",
   "metadata": {},
   "source": [
    "#### 02.2.1 LSTM"
   ]
  },
  {
   "cell_type": "code",
   "execution_count": 12,
   "id": "2acf868e",
   "metadata": {},
   "outputs": [
    {
     "name": "stdout",
     "output_type": "stream",
     "text": [
      "Epoch 1/7\n",
      "3427/3427 [==============================] - 45s 6ms/step - loss: 0.3717 - accuracy: 0.8339 - val_loss: 0.3218 - val_accuracy: 0.8588\n",
      "Epoch 2/7\n",
      "3427/3427 [==============================] - 20s 6ms/step - loss: 0.2843 - accuracy: 0.8786 - val_loss: 0.3121 - val_accuracy: 0.8670\n",
      "Epoch 3/7\n",
      "3427/3427 [==============================] - 20s 6ms/step - loss: 0.2390 - accuracy: 0.9010 - val_loss: 0.3270 - val_accuracy: 0.8610\n",
      "Epoch 4/7\n",
      "3427/3427 [==============================] - 20s 6ms/step - loss: 0.1982 - accuracy: 0.9191 - val_loss: 0.3493 - val_accuracy: 0.8620\n",
      "Epoch 5/7\n",
      "3427/3427 [==============================] - 20s 6ms/step - loss: 0.1602 - accuracy: 0.9353 - val_loss: 0.3967 - val_accuracy: 0.8565\n",
      "Epoch 6/7\n",
      "3427/3427 [==============================] - 20s 6ms/step - loss: 0.1265 - accuracy: 0.9509 - val_loss: 0.4746 - val_accuracy: 0.8530\n",
      "Epoch 7/7\n",
      "3427/3427 [==============================] - 20s 6ms/step - loss: 0.1005 - accuracy: 0.9607 - val_loss: 0.5293 - val_accuracy: 0.8498\n",
      "1537/1537 - 3s - loss: 0.5300 - accuracy: 0.8492\n",
      "\n",
      "This is lstm_model\n",
      "Loss: 0.5299920439720154\n",
      "Accurancy: 0.8492178320884705\n",
      "\n"
     ]
    }
   ],
   "source": [
    "lstm_history = fitting_machine(lstm_model, 7)"
   ]
  },
  {
   "cell_type": "code",
   "execution_count": 13,
   "id": "64d0e273",
   "metadata": {
    "scrolled": false
   },
   "outputs": [
    {
     "data": {
      "image/png": "[encoded data removed]",
      "text/plain": [
       "<Figure size 432x288 with 1 Axes>"
      ]
     },
     "metadata": {
      "needs_background": "light"
     },
     "output_type": "display_data"
    },
    {
     "data": {
      "image/png": "[encoded data removed]",
      "text/plain": [
       "<Figure size 432x288 with 1 Axes>"
      ]
     },
     "metadata": {
      "needs_background": "light"
     },
     "output_type": "display_data"
    }
   ],
   "source": [
    "visualization(lstm_history)"
   ]
  },
  {
   "cell_type": "markdown",
   "id": "069fea62",
   "metadata": {},
   "source": [
    "#### 02.2.2 Conv1D"
   ]
  },
  {
   "cell_type": "code",
   "execution_count": 14,
   "id": "5d129f52",
   "metadata": {
    "scrolled": true
   },
   "outputs": [
    {
     "name": "stdout",
     "output_type": "stream",
     "text": [
      "Epoch 1/5\n",
      "3427/3427 [==============================] - 32s 5ms/step - loss: 0.3686 - accuracy: 0.8323 - val_loss: 0.3196 - val_accuracy: 0.8623\n",
      "Epoch 2/5\n",
      "3427/3427 [==============================] - 16s 5ms/step - loss: 0.2616 - accuracy: 0.8912 - val_loss: 0.3282 - val_accuracy: 0.8626\n",
      "Epoch 3/5\n",
      "3427/3427 [==============================] - 16s 5ms/step - loss: 0.1791 - accuracy: 0.9300 - val_loss: 0.3810 - val_accuracy: 0.8583\n",
      "Epoch 4/5\n",
      "3427/3427 [==============================] - 16s 5ms/step - loss: 0.1138 - accuracy: 0.9570 - val_loss: 0.4575 - val_accuracy: 0.8493\n",
      "Epoch 5/5\n",
      "3427/3427 [==============================] - 16s 5ms/step - loss: 0.0780 - accuracy: 0.9715 - val_loss: 0.5731 - val_accuracy: 0.8423\n",
      "1537/1537 - 3s - loss: 0.5948 - accuracy: 0.8370\n",
      "\n",
      "This is conv1d_model\n",
      "Loss: 0.594796359539032\n",
      "Accurancy: 0.8369916677474976\n",
      "\n"
     ]
    }
   ],
   "source": [
    "conv1d_history = fitting_machine(conv1d_model, 5)"
   ]
  },
  {
   "cell_type": "code",
   "execution_count": 15,
   "id": "a2035fc7",
   "metadata": {},
   "outputs": [
    {
     "data": {
      "image/png": "[encoded data removed]",
      "text/plain": [
       "<Figure size 432x288 with 1 Axes>"
      ]
     },
     "metadata": {
      "needs_background": "light"
     },
     "output_type": "display_data"
    },
    {
     "data": {
      "image/png": "[encoded data removed]",
      "text/plain": [
       "<Figure size 432x288 with 1 Axes>"
      ]
     },
     "metadata": {
      "needs_background": "light"
     },
     "output_type": "display_data"
    }
   ],
   "source": [
    "visualization(conv1d_history)"
   ]
  },
  {
   "cell_type": "markdown",
   "id": "fa6c05ba",
   "metadata": {},
   "source": [
    "#### 02.2.3 GMP"
   ]
  },
  {
   "cell_type": "code",
   "execution_count": 16,
   "id": "caa205dc",
   "metadata": {
    "scrolled": true
   },
   "outputs": [
    {
     "name": "stdout",
     "output_type": "stream",
     "text": [
      "Epoch 1/5\n",
      "3427/3427 [==============================] - 12s 3ms/step - loss: 0.3926 - accuracy: 0.8250 - val_loss: 0.3497 - val_accuracy: 0.8466\n",
      "Epoch 2/5\n",
      "3427/3427 [==============================] - 11s 3ms/step - loss: 0.3042 - accuracy: 0.8717 - val_loss: 0.3492 - val_accuracy: 0.8488\n",
      "Epoch 3/5\n",
      "3427/3427 [==============================] - 11s 3ms/step - loss: 0.2614 - accuracy: 0.8930 - val_loss: 0.3551 - val_accuracy: 0.8497\n",
      "Epoch 4/5\n",
      "3427/3427 [==============================] - 11s 3ms/step - loss: 0.2246 - accuracy: 0.9104 - val_loss: 0.3699 - val_accuracy: 0.8498\n",
      "Epoch 5/5\n",
      "3427/3427 [==============================] - 11s 3ms/step - loss: 0.1904 - accuracy: 0.9268 - val_loss: 0.4049 - val_accuracy: 0.8449\n",
      "1537/1537 - 2s - loss: 0.4109 - accuracy: 0.8404\n",
      "\n",
      "This is gmp_model\n",
      "Loss: 0.41088882088661194\n",
      "Accurancy: 0.8404296636581421\n",
      "\n"
     ]
    }
   ],
   "source": [
    "gmp_history = fitting_machine(gmp_model, 5)"
   ]
  },
  {
   "cell_type": "code",
   "execution_count": 17,
   "id": "a8c589c4",
   "metadata": {},
   "outputs": [
    {
     "data": {
      "image/png": "[encoded data removed]",
      "text/plain": [
       "<Figure size 432x288 with 1 Axes>"
      ]
     },
     "metadata": {
      "needs_background": "light"
     },
     "output_type": "display_data"
    },
    {
     "data": {
      "image/png": "[encoded data removed]",
      "text/plain": [
       "<Figure size 432x288 with 1 Axes>"
      ]
     },
     "metadata": {
      "needs_background": "light"
     },
     "output_type": "display_data"
    }
   ],
   "source": [
    "visualization(gmp_history)"
   ]
  },
  {
   "cell_type": "markdown",
   "id": "911e5336",
   "metadata": {},
   "source": [
    "## 03. Model embeding layer"
   ]
  },
  {
   "cell_type": "markdown",
   "id": "9e2c584d",
   "metadata": {},
   "source": [
    "### 03.1 lstm emdeding layer"
   ]
  },
  {
   "cell_type": "code",
   "execution_count": 18,
   "id": "93defd2f",
   "metadata": {},
   "outputs": [
    {
     "data": {
      "text/plain": [
       "array([ 7.40974993e-02,  6.24356605e-02, -7.09346980e-02, -3.06258529e-01,\n",
       "        6.25178143e-02, -6.95905910e-05,  1.59322351e-01, -6.30941167e-02,\n",
       "        1.99914247e-01,  2.03027409e-02,  2.92468984e-02,  3.69517766e-02,\n",
       "        1.18629597e-01,  5.17553575e-02, -2.67645925e-01,  1.05334550e-01,\n",
       "       -7.87402038e-03,  6.81854114e-02,  8.58066455e-02,  5.85182011e-02,\n",
       "        1.10767791e-02, -2.44265884e-01,  8.46454054e-02, -2.89061397e-01,\n",
       "        4.41498682e-03, -1.96776450e-01, -1.78239644e-01,  8.80297646e-02,\n",
       "        5.34419380e-02,  1.04439706e-01, -8.77103433e-02,  7.83101539e-04,\n",
       "       -1.00537539e-01,  1.14700943e-02,  2.14762807e-01,  1.31097868e-01,\n",
       "       -2.48937234e-02,  1.75658241e-03,  9.58437100e-02,  5.41820899e-02,\n",
       "        2.43496466e-02,  4.64146100e-02,  7.70061910e-02, -8.01979080e-02,\n",
       "        2.56439209e-01,  6.42513633e-02, -9.22224373e-02,  8.76832753e-02,\n",
       "       -2.65433460e-01, -1.46318316e-01, -1.23856127e-01, -2.94438060e-02,\n",
       "        8.31344426e-02,  2.06209749e-01,  1.89493135e-01, -2.11646527e-01,\n",
       "        9.06861946e-02, -6.36732730e-04, -2.16646388e-01, -1.04060106e-03,\n",
       "        3.00108910e-01, -1.15901515e-01, -4.56999354e-02, -3.13276388e-02,\n",
       "       -1.91370592e-01,  1.09949028e-02, -4.21794467e-02,  8.17828327e-02,\n",
       "        9.74279493e-02,  2.77223319e-01,  8.30238592e-03,  9.90789980e-02,\n",
       "       -1.69188306e-01, -4.92318310e-02,  1.32559344e-01,  2.13376537e-01,\n",
       "        2.01641738e-01,  2.11741865e-01, -9.10328850e-02,  4.96235862e-02,\n",
       "       -1.71743035e-01, -8.24961364e-02,  5.16268574e-02,  1.67832002e-01,\n",
       "        8.27213563e-03,  5.05229309e-02,  4.42529507e-02, -1.33955389e-01,\n",
       "        1.49254605e-01, -1.64280683e-01, -6.53900579e-02,  1.48107827e-01,\n",
       "        1.60272434e-01,  1.35511570e-02,  9.11052246e-03,  1.02921374e-01,\n",
       "       -2.70638406e-01,  1.59469992e-01, -5.76890707e-02, -8.77150521e-02,\n",
       "        4.18023616e-02,  8.76057055e-03, -2.62805857e-02, -8.40633586e-02,\n",
       "       -9.09115672e-02, -1.55245200e-01,  1.56761423e-01,  6.67293742e-02,\n",
       "       -3.12722363e-02, -3.88049409e-02,  4.50266153e-02,  2.20649034e-01,\n",
       "       -2.35692039e-01,  1.02471963e-01,  4.73200297e-03, -5.21687716e-02,\n",
       "       -2.26680845e-01, -1.30010486e-01, -2.17474610e-01, -4.51893620e-02,\n",
       "       -1.34960800e-01,  1.18365414e-01,  3.44673060e-02,  5.28169461e-02,\n",
       "        9.49542597e-02,  2.88451202e-02,  1.52755693e-01, -6.54060347e-03],\n",
       "      dtype=float32)"
      ]
     },
     "execution_count": 18,
     "metadata": {},
     "output_type": "execute_result"
    }
   ],
   "source": [
    "embedding_layer = lstm_model.layers[0]\n",
    "weights = embedding_layer.get_weights()[0]\n",
    "vocab_size, word_vector_dim = weights.shape[0], weights.shape[1]\n",
    "\n",
    "word2vec_file_path = os.getenv('HOME')+'/aiffel/sentiment_classification/LSTMword2vec.txt'\n",
    "f = open(word2vec_file_path, 'w')\n",
    "f.write('{} {}\\n'.format(vocab_size-4, word_vector_dim))\n",
    "\n",
    "vectors = lstm_model.get_weights()[0]\n",
    "for i in range(4,vocab_size):\n",
    "    f.write('{} {}\\n'.format(index_to_word[i], ' '.join(map(str, list(vectors[i, :])))))\n",
    "f.close()\n",
    "\n",
    "word_vectors = Word2VecKeyedVectors.load_word2vec_format(word2vec_file_path, binary=False)\n",
    "vector = word_vectors['컴퓨터']\n",
    "vector"
   ]
  },
  {
   "cell_type": "code",
   "execution_count": 19,
   "id": "bb802484",
   "metadata": {},
   "outputs": [
    {
     "data": {
      "text/plain": [
       "[('best', 0.8450316190719604),\n",
       " ('돌파', 0.8409172296524048),\n",
       " ('입감', 0.837762713432312),\n",
       " ('공리', 0.8271274566650391),\n",
       " ('어릴', 0.8263797760009766),\n",
       " ('1997', 0.8231557011604309),\n",
       " ('통일', 0.8215459585189819),\n",
       " ('에바그린', 0.8144931197166443),\n",
       " ('개웃', 0.8139664530754089),\n",
       " ('수작', 0.8119574785232544)]"
      ]
     },
     "execution_count": 19,
     "metadata": {},
     "output_type": "execute_result"
    }
   ],
   "source": [
    "# lstm model을 통하여 만든 vector \"감동\"과 비슷한 단어들\n",
    "word_vectors.similar_by_word(\"감동\")"
   ]
  },
  {
   "cell_type": "code",
   "execution_count": 20,
   "id": "b6d27bd1",
   "metadata": {},
   "outputs": [
    {
     "data": {
      "text/plain": [
       "[('무리', 0.9178645014762878),\n",
       " ('지루', 0.9154408574104309),\n",
       " ('어색', 0.904532790184021),\n",
       " ('->', 0.9004006385803223),\n",
       " ('지루함', 0.8992832899093628),\n",
       " ('꼬이', 0.8990225791931152),\n",
       " ('60', 0.8988873958587646),\n",
       " ('재미없', 0.8968422412872314),\n",
       " ('쓰래', 0.8967455625534058),\n",
       " ('흑역사', 0.8965039253234863)]"
      ]
     },
     "execution_count": 20,
     "metadata": {},
     "output_type": "execute_result"
    }
   ],
   "source": [
    "# lstm model을 통하여 만든 vector \"실망\"과 비슷한 단어들\n",
    "word_vectors.similar_by_word(\"실망\")"
   ]
  },
  {
   "cell_type": "markdown",
   "id": "5253d10d",
   "metadata": {},
   "source": [
    "### 03.2 Conv1D emdeding layer"
   ]
  },
  {
   "cell_type": "code",
   "execution_count": 21,
   "id": "8ad17d55",
   "metadata": {},
   "outputs": [
    {
     "data": {
      "text/plain": [
       "array([-0.06507558, -0.00978002,  0.09484714, -0.0775082 , -0.1304464 ,\n",
       "        0.10975327, -0.13381362, -0.01074848, -0.10180798,  0.0154104 ,\n",
       "        0.14458779, -0.01935684,  0.11828481,  0.18397896, -0.1042509 ,\n",
       "        0.01112199, -0.03434407,  0.12428882,  0.1791581 ,  0.1434365 ,\n",
       "        0.05408945, -0.01405038,  0.04918592, -0.10737253, -0.11604951,\n",
       "        0.05782216, -0.10552407,  0.15087229,  0.37713212, -0.04892622,\n",
       "        0.23715599, -0.06025489, -0.08330237, -0.18422742, -0.04227559,\n",
       "        0.20808017, -0.12585154, -0.00934271, -0.0090479 , -0.0084746 ,\n",
       "       -0.00685262, -0.13307905, -0.23302805,  0.06623796,  0.11703767,\n",
       "       -0.12320617,  0.09218606,  0.12409112,  0.20033427,  0.11552703,\n",
       "       -0.07941785,  0.06365   , -0.07430392, -0.06321464,  0.08236603,\n",
       "       -0.03609903, -0.26419213,  0.03280565, -0.03271033, -0.17563486,\n",
       "        0.06648377, -0.00268058,  0.13538222,  0.13952447], dtype=float32)"
      ]
     },
     "execution_count": 21,
     "metadata": {},
     "output_type": "execute_result"
    }
   ],
   "source": [
    "embedding_layer = conv1d_model.layers[0]\n",
    "weights = embedding_layer.get_weights()[0]\n",
    "vocab_size, word_vector_dim = weights.shape[0], weights.shape[1]\n",
    "\n",
    "word2vec_file_path = os.getenv('HOME')+'/aiffel/sentiment_classification/conv1d_word2vec.txt'\n",
    "f = open(word2vec_file_path, 'w')\n",
    "f.write('{} {}\\n'.format(vocab_size-4, word_vector_dim))\n",
    "\n",
    "vectors = conv1d_model.get_weights()[0]\n",
    "for i in range(4,vocab_size):\n",
    "    f.write('{} {}\\n'.format(index_to_word[i], ' '.join(map(str, list(vectors[i, :])))))\n",
    "f.close()\n",
    "\n",
    "word_vectors = Word2VecKeyedVectors.load_word2vec_format(word2vec_file_path, binary=False)\n",
    "vector = word_vectors['컴퓨터']\n",
    "vector"
   ]
  },
  {
   "cell_type": "code",
   "execution_count": 22,
   "id": "25f9a0aa",
   "metadata": {
    "scrolled": true
   },
   "outputs": [
    {
     "data": {
      "text/plain": [
       "[('게리올드만', 0.7796838283538818),\n",
       " ('돌파', 0.7757880687713623),\n",
       " ('보석', 0.7755820751190186),\n",
       " ('콘택트', 0.768692672252655),\n",
       " ('아메리카', 0.7643833160400391),\n",
       " ('알렌', 0.7638265490531921),\n",
       " ('슬펐', 0.7599986791610718),\n",
       " ('디테일', 0.7570832967758179),\n",
       " ('기막힌', 0.7548003196716309),\n",
       " ('데요', 0.7480566501617432)]"
      ]
     },
     "execution_count": 22,
     "metadata": {},
     "output_type": "execute_result"
    }
   ],
   "source": [
    "# conv1d model을 통하여 만든 vector \"감동\"과 비슷한 단어들\n",
    "word_vectors.similar_by_word(\"감동\")"
   ]
  },
  {
   "cell_type": "code",
   "execution_count": 23,
   "id": "2b9e594d",
   "metadata": {},
   "outputs": [
    {
     "data": {
      "text/plain": [
       "[('졸작', 0.8482480049133301),\n",
       " ('화났', 0.8284026384353638),\n",
       " ('고리타분', 0.8245930671691895),\n",
       " ('꺼버렸', 0.8243691325187683),\n",
       " ('낭패', 0.8200058341026306),\n",
       " ('먹칠', 0.8153984546661377),\n",
       " ('용가리', 0.8112146854400635),\n",
       " ('착오', 0.8092827200889587),\n",
       " ('식상', 0.8068074584007263),\n",
       " ('날렸', 0.8063926100730896)]"
      ]
     },
     "execution_count": 23,
     "metadata": {},
     "output_type": "execute_result"
    }
   ],
   "source": [
    "# conv1d model을 통하여 만든 vector \"실망\"과 비슷한 단어들\n",
    "word_vectors.similar_by_word(\"실망\")"
   ]
  },
  {
   "cell_type": "markdown",
   "id": "70c73dc3",
   "metadata": {},
   "source": [
    "### 03.3 GMP emdeding layer"
   ]
  },
  {
   "cell_type": "code",
   "execution_count": 24,
   "id": "647e57f3",
   "metadata": {},
   "outputs": [
    {
     "data": {
      "text/plain": [
       "array([ 0.18518849, -0.1903112 ,  0.09553888,  0.13112304,  0.0021109 ,\n",
       "       -0.1944483 , -0.04010464, -0.07800519,  0.07719301, -0.1705156 ,\n",
       "       -0.10635915, -0.05444846, -0.11752141,  0.12874368, -0.1714242 ,\n",
       "       -0.12372462, -0.10801578, -0.0010335 , -0.06381248,  0.10675108,\n",
       "        0.01261169, -0.0133994 , -0.04778347,  0.00552967, -0.16399169,\n",
       "       -0.1350182 , -0.03170799, -0.01833733, -0.01431677, -0.18470214,\n",
       "       -0.14100063,  0.02785224, -0.07139537, -0.02126561,  0.12124514,\n",
       "       -0.0645197 , -0.0482085 , -0.10087404,  0.08916263, -0.12438689,\n",
       "       -0.04869414,  0.04975311, -0.01383018, -0.1354302 , -0.07927298,\n",
       "       -0.04469999, -0.19560546, -0.00979264,  0.07810993, -0.16827364,\n",
       "       -0.13301897, -0.0414442 ,  0.01602344, -0.10183455,  0.10133967,\n",
       "       -0.03522208, -0.16097014,  0.08558126, -0.06392213, -0.01243986,\n",
       "        0.10491175, -0.04195444, -0.09347426,  0.15225653], dtype=float32)"
      ]
     },
     "execution_count": 24,
     "metadata": {},
     "output_type": "execute_result"
    }
   ],
   "source": [
    "embedding_layer = gmp_model.layers[0]\n",
    "weights = embedding_layer.get_weights()[0]\n",
    "vocab_size, word_vector_dim = weights.shape[0], weights.shape[1]\n",
    "\n",
    "word2vec_file_path = os.getenv('HOME')+'/aiffel/sentiment_classification/GMP_word2vec.txt'\n",
    "f = open(word2vec_file_path, 'w')\n",
    "f.write('{} {}\\n'.format(vocab_size-4, word_vector_dim))\n",
    "\n",
    "vectors = gmp_model.get_weights()[0]\n",
    "for i in range(4,vocab_size):\n",
    "    f.write('{} {}\\n'.format(index_to_word[i], ' '.join(map(str, list(vectors[i, :])))))\n",
    "f.close()\n",
    "\n",
    "word_vectors = Word2VecKeyedVectors.load_word2vec_format(word2vec_file_path, binary=False)\n",
    "vector = word_vectors['컴퓨터']\n",
    "vector\n"
   ]
  },
  {
   "cell_type": "code",
   "execution_count": 25,
   "id": "e27e5888",
   "metadata": {
    "scrolled": true
   },
   "outputs": [
    {
     "data": {
      "text/plain": [
       "[('아용', 0.8092199563980103),\n",
       " ('어머니', 0.7870587110519409),\n",
       " ('b', 0.7783651351928711),\n",
       " ('님', 0.7758421301841736),\n",
       " ('생겼', 0.7627441883087158),\n",
       " ('색감', 0.7562054395675659),\n",
       " ('ㅠ', 0.7529138922691345),\n",
       " ('웅', 0.7528332471847534),\n",
       " ('박진감', 0.7497687339782715),\n",
       " ('조지', 0.749646782875061)]"
      ]
     },
     "execution_count": 25,
     "metadata": {},
     "output_type": "execute_result"
    }
   ],
   "source": [
    "# gmp model을 통하여 만든 vector \"감동\"과 비슷한 단어들\n",
    "word_vectors.similar_by_word(\"감동\")"
   ]
  },
  {
   "cell_type": "code",
   "execution_count": 26,
   "id": "7ff79274",
   "metadata": {},
   "outputs": [
    {
     "data": {
      "text/plain": [
       "[('지루', 0.8335731029510498),\n",
       " ('아깝', 0.7874312400817871),\n",
       " ('어째', 0.7812848091125488),\n",
       " ('고루', 0.7749209403991699),\n",
       " ('허술', 0.774784505367279),\n",
       " ('..............', 0.7736980319023132),\n",
       " ('돈', 0.7700823545455933),\n",
       " ('지겹', 0.7699640989303589),\n",
       " ('빈약', 0.7597298622131348),\n",
       " ('버러지', 0.7585158348083496)]"
      ]
     },
     "execution_count": 26,
     "metadata": {},
     "output_type": "execute_result"
    }
   ],
   "source": [
    "# gmp model을 통하여 만든 vector \"실망\"과 비슷한 단어들\n",
    "word_vectors.similar_by_word(\"실망\")"
   ]
  },
  {
   "cell_type": "markdown",
   "id": "f1816e00",
   "metadata": {},
   "source": [
    "## 04. 한국어 Word2Vec"
   ]
  },
  {
   "cell_type": "markdown",
   "id": "9aaa4c8d",
   "metadata": {},
   "source": [
    "### 04.1 한국어 Word2Vec loading"
   ]
  },
  {
   "cell_type": "code",
   "execution_count": 27,
   "id": "7b0408f5",
   "metadata": {
    "scrolled": true
   },
   "outputs": [
    {
     "data": {
      "text/plain": [
       "array([-1.517628  , -0.8935504 , -1.4352998 ,  1.5069847 , -1.5178334 ,\n",
       "        1.1542678 , -2.94064   ,  1.1850045 ,  0.19959009, -1.5288961 ,\n",
       "       -1.7067502 , -2.1892095 , -0.20728938, -2.2606812 , -2.2283888 ,\n",
       "        0.32318738, -0.2845471 , -0.07731772, -0.86269003, -1.1722927 ,\n",
       "       -0.91062415,  0.8440715 ,  0.903278  , -0.84685427,  0.7023384 ,\n",
       "       -2.1920419 , -0.47571626, -0.60159504, -0.68860835,  0.18944737,\n",
       "        0.5319404 ,  0.73058116, -0.9658133 , -1.0123725 , -0.36183038,\n",
       "        2.5851305 ,  0.66589296, -1.7231252 ,  1.7576753 ,  0.88845277,\n",
       "        1.5791365 , -4.430691  ,  0.36731872,  0.69481534, -0.46041563,\n",
       "        1.742655  , -1.5077016 ,  0.72209424, -0.04532204, -0.6557301 ,\n",
       "       -0.71276623,  0.26522732, -0.17656395, -2.4720876 , -0.845565  ,\n",
       "        0.23591152,  1.3414925 ,  0.77577615, -2.289371  , -0.8078124 ,\n",
       "        1.4359473 ,  0.22882733, -1.08867   ,  1.2607764 , -1.7469797 ,\n",
       "        0.06542054,  0.39896825, -0.3160832 , -1.7257563 ,  0.54638785,\n",
       "       -0.31753907, -0.48656994, -0.8225613 , -0.573065  ,  0.13175343,\n",
       "       -0.3924169 ,  0.55588305, -1.0773534 ,  0.55159163,  0.1352609 ,\n",
       "        0.88245326, -1.0127378 ,  0.14704451, -0.5254349 , -3.401769  ,\n",
       "       -0.42525592,  2.0031376 ,  0.36679608, -1.0043006 ,  1.3084906 ,\n",
       "        0.66252464, -0.48564675,  1.1390634 , -0.61399025, -0.50669813,\n",
       "        2.984564  ,  1.126494  ,  0.68590933, -0.2439008 , -1.317931  ,\n",
       "        0.826134  , -0.3985872 ,  0.509279  , -2.7423162 ,  2.1723568 ,\n",
       "        0.02191449, -0.16062206, -0.14502135, -0.32332814, -1.7890338 ,\n",
       "        1.8245052 , -1.3794106 ,  0.4879299 , -1.4982558 , -1.2389678 ,\n",
       "        1.1795257 , -1.54579   ,  0.07694028,  0.44653377,  0.27894926,\n",
       "       -1.9621123 ,  0.6149733 , -0.41162157, -1.0487087 , -1.7935017 ,\n",
       "        0.31845954,  0.14684801, -0.49587062,  1.6319822 ,  0.39944446,\n",
       "        0.434382  , -1.1794649 , -2.5206347 ,  0.6408292 , -0.62896025,\n",
       "        1.9872422 ,  1.2521076 , -0.21406372,  1.6773093 , -1.6608806 ,\n",
       "       -0.33801398, -0.88510543,  0.1943094 , -1.7670768 , -0.39440864,\n",
       "        1.5270631 , -1.1952105 , -0.60033166,  1.0510954 , -1.4626403 ,\n",
       "       -1.517039  ,  0.59476143,  0.36977595, -1.4121546 , -0.21997249,\n",
       "       -1.0658429 , -0.17150132,  0.8064618 ,  0.5093993 , -0.74832773,\n",
       "        1.2333933 , -1.9864655 , -0.8474578 , -1.1405545 , -3.6550071 ,\n",
       "       -1.556984  ,  1.8270527 ,  1.3725282 , -1.2329742 , -0.09723412,\n",
       "        0.34405386,  0.11565362, -0.9567215 ,  1.4773479 ,  2.169166  ,\n",
       "       -0.26613593, -1.4810696 ,  3.1457973 , -0.4415616 , -1.1940637 ,\n",
       "       -0.09637992, -0.05768079,  0.6716703 , -0.21914895,  0.56199044,\n",
       "       -1.129858  , -0.7972026 ,  0.73576796,  0.22356483,  0.9140782 ,\n",
       "       -1.4168789 ,  0.15810002, -0.79947495, -1.0691265 ,  1.4587201 ,\n",
       "       -0.5216996 ,  1.1812991 ,  0.37763026,  1.3513768 , -0.4241938 ],\n",
       "      dtype=float32)"
      ]
     },
     "execution_count": 27,
     "metadata": {},
     "output_type": "execute_result"
    }
   ],
   "source": [
    "'''\n",
    "gensim 사용을 위하여 버전을 낮춰야함.\n",
    "'''\n",
    "#pip install gensim==3.8.1\n",
    "word2vec_path = os.getenv('HOME')+'/aiffel/sentiment_classification/ko.bin'\n",
    "word2vec = gensim.models.Word2Vec.load(word2vec_path)\n",
    "vector = word2vec['컴퓨터']\n",
    "vector"
   ]
  },
  {
   "cell_type": "code",
   "execution_count": 28,
   "id": "d22bdabe",
   "metadata": {},
   "outputs": [
    {
     "data": {
      "text/plain": [
       "[('감명', 0.7177015542984009),\n",
       " ('감격', 0.6908231973648071),\n",
       " ('실망', 0.6267645359039307),\n",
       " ('감화', 0.6191877126693726),\n",
       " ('감탄', 0.6140128374099731),\n",
       " ('칭찬', 0.6059398055076599),\n",
       " ('존경', 0.6032299995422363),\n",
       " ('자극', 0.594598650932312),\n",
       " ('감복', 0.5902734994888306),\n",
       " ('호응', 0.5850393772125244)]"
      ]
     },
     "execution_count": 28,
     "metadata": {},
     "output_type": "execute_result"
    }
   ],
   "source": [
    "word2vec.similar_by_word(\"감동\")"
   ]
  },
  {
   "cell_type": "code",
   "execution_count": 29,
   "id": "2e93f279",
   "metadata": {},
   "outputs": [
    {
     "data": {
      "text/plain": [
       "[('당황', 0.7591220140457153),\n",
       " ('경악', 0.6881837248802185),\n",
       " ('분개', 0.6751235723495483),\n",
       " ('분노', 0.6750859022140503),\n",
       " ('격분', 0.647419810295105),\n",
       " ('감동', 0.6267645955085754),\n",
       " ('감탄', 0.6222271919250488),\n",
       " ('원망', 0.6156655550003052),\n",
       " ('조심', 0.6145114898681641),\n",
       " ('감복', 0.6109203696250916)]"
      ]
     },
     "execution_count": 29,
     "metadata": {},
     "output_type": "execute_result"
    }
   ],
   "source": [
    "word2vec.similar_by_word(\"실망\")"
   ]
  },
  {
   "cell_type": "code",
   "execution_count": 30,
   "id": "91aeaf7e",
   "metadata": {},
   "outputs": [],
   "source": [
    "# model에 사용할 embedding layer 만들기\n",
    "vocab_size = 10000\n",
    "word_vector_dim = 200\n",
    "\n",
    "embedding_matrix = np.random.rand(vocab_size, word_vector_dim)\n",
    "\n",
    "for i in range(4,vocab_size):\n",
    "    if index_to_word[i] in word2vec:\n",
    "        embedding_matrix[i] = word2vec[index_to_word[i]]"
   ]
  },
  {
   "cell_type": "markdown",
   "id": "f1552b70",
   "metadata": {},
   "source": [
    "### 04.2 Model wiht 한국어 Word2Vec"
   ]
  },
  {
   "cell_type": "code",
   "execution_count": 31,
   "id": "08aee029",
   "metadata": {},
   "outputs": [],
   "source": [
    "'''\n",
    "subclassing을 활용하여\n",
    "lstm, conv1d, gmp model과 한국어 word2vec을 embedding하는 model을 만든다.\n",
    "'''\n",
    "\n",
    "class LSTMModel_ko(keras.Model):\n",
    "    def __init__(self,embedding_m):\n",
    "        super().__init__()\n",
    "        vocab_size = 10000\n",
    "        word_vector_dim = 200\n",
    "        \n",
    "        self.embedding = keras.layers.Embedding(vocab_size, \n",
    "                                 word_vector_dim, \n",
    "                                 embeddings_initializer=Constant(embedding_m),\n",
    "                                 input_length=maxlen, \n",
    "                                 trainable=True)\n",
    "        self.lstm = keras.layers.LSTM(64)\n",
    "        self.dense1 = keras.layers.Dense(256, activation='relu')\n",
    "        self.dense2 = keras.layers.Dense(1, activation='sigmoid')\n",
    "        \n",
    "    def call(self, x):\n",
    "        x = self.embedding(x)\n",
    "        x = self.lstm(x)\n",
    "        x = self.dense1(x)\n",
    "        x = self.dense2(x)\n",
    "        \n",
    "        return x\n",
    "\n",
    "class Conv1DModel_ko(keras.Model):\n",
    "    def __init__(self,embedding_m):\n",
    "        super().__init__()\n",
    "        vocab_size = 10000\n",
    "        word_vector_dim = 200\n",
    "        \n",
    "        self.embedding = keras.layers.Embedding(vocab_size, \n",
    "                                 word_vector_dim, \n",
    "                                 embeddings_initializer=Constant(embedding_m),\n",
    "                                 input_length=maxlen, \n",
    "                                 trainable=True)\n",
    "        self.conv1 = keras.layers.Conv1D(64, 7, activation='relu')\n",
    "        self.maxp = keras.layers.MaxPooling1D(5)\n",
    "        self.conv2 = keras.layers.Conv1D(64, 7, activation='relu')\n",
    "        self.gmaxp = keras.layers.GlobalMaxPooling1D()\n",
    "        self.dense1 = keras.layers.Dense(128, activation='relu')\n",
    "        self.dense2 = keras.layers.Dense(1, activation='sigmoid')\n",
    "        \n",
    "    def call(self, x):\n",
    "        x = self.embedding(x)\n",
    "        x = self.conv1(x)\n",
    "        x = self.maxp(x)\n",
    "        x = self.conv2(x)\n",
    "        x = self.gmaxp(x)\n",
    "        x = self.dense1(x)\n",
    "        x = self.dense2(x)\n",
    "        \n",
    "        return x\n",
    "\n",
    "class GMPModel_ko(keras.Model):\n",
    "    def __init__(self,embedding_m):\n",
    "        super().__init__()\n",
    "        vocab_size = 10000\n",
    "        word_vector_dim = 200\n",
    "        \n",
    "        self.embedding = keras.layers.Embedding(vocab_size, \n",
    "                                 word_vector_dim, \n",
    "                                 embeddings_initializer=Constant(embedding_m),\n",
    "                                 input_length=maxlen, \n",
    "                                 trainable=True)\n",
    "        self.gmp = keras.layers.GlobalMaxPooling1D()\n",
    "        self.dense1 = keras.layers.Dense(8, activation='relu')\n",
    "        self.dense2 = keras.layers.Dense(1, activation='sigmoid')\n",
    "        \n",
    "    def call(self, x):\n",
    "        x = self.embedding(x)\n",
    "        x = self.gmp(x)\n",
    "        x = self.dense1(x)\n",
    "        x = self.dense2(x)\n",
    "        \n",
    "        return x"
   ]
  },
  {
   "cell_type": "code",
   "execution_count": 32,
   "id": "5ccabe05",
   "metadata": {},
   "outputs": [],
   "source": [
    "# model 선언\n",
    "lstm_model_ko = LSTMModel_ko(embedding_matrix)\n",
    "conv1d_model_ko = Conv1DModel_ko(embedding_matrix)\n",
    "gmp_model_ko = GMPModel_ko(embedding_matrix)"
   ]
  },
  {
   "cell_type": "markdown",
   "id": "af94b73b",
   "metadata": {},
   "source": [
    "### 04.3 Model Train & Evaluate with 한국어 Word2Vec"
   ]
  },
  {
   "cell_type": "markdown",
   "id": "93402a8b",
   "metadata": {},
   "source": [
    "#### 04.3.1 lstm with 한국어 Word2Vec"
   ]
  },
  {
   "cell_type": "code",
   "execution_count": 33,
   "id": "75a57d30",
   "metadata": {
    "scrolled": false
   },
   "outputs": [
    {
     "name": "stdout",
     "output_type": "stream",
     "text": [
      "Epoch 1/7\n",
      "3427/3427 [==============================] - 21s 6ms/step - loss: 0.3904 - accuracy: 0.8215 - val_loss: 0.3291 - val_accuracy: 0.8574\n",
      "Epoch 2/7\n",
      "3427/3427 [==============================] - 19s 6ms/step - loss: 0.2935 - accuracy: 0.8756 - val_loss: 0.3170 - val_accuracy: 0.8646\n",
      "Epoch 3/7\n",
      "3427/3427 [==============================] - 19s 6ms/step - loss: 0.2503 - accuracy: 0.8964 - val_loss: 0.3248 - val_accuracy: 0.8653\n",
      "Epoch 4/7\n",
      "3427/3427 [==============================] - 19s 6ms/step - loss: 0.2107 - accuracy: 0.9136 - val_loss: 0.3360 - val_accuracy: 0.8659\n",
      "Epoch 5/7\n",
      "3427/3427 [==============================] - 19s 6ms/step - loss: 0.1727 - accuracy: 0.9316 - val_loss: 0.3779 - val_accuracy: 0.8623\n",
      "Epoch 6/7\n",
      "3427/3427 [==============================] - 19s 6ms/step - loss: 0.1375 - accuracy: 0.9463 - val_loss: 0.4208 - val_accuracy: 0.8612\n",
      "Epoch 7/7\n",
      "3427/3427 [==============================] - 19s 6ms/step - loss: 0.1090 - accuracy: 0.9580 - val_loss: 0.5027 - val_accuracy: 0.8558\n",
      "1537/1537 - 3s - loss: 0.5159 - accuracy: 0.8515\n",
      "\n",
      "This is lstm_model_ko\n",
      "Loss: 0.5159233212471008\n",
      "Accurancy: 0.8514962196350098\n",
      "\n"
     ]
    }
   ],
   "source": [
    "lstm_ko_history = fitting_machine(lstm_model_ko, 7)"
   ]
  },
  {
   "cell_type": "code",
   "execution_count": 34,
   "id": "7ad0dd29",
   "metadata": {
    "scrolled": true
   },
   "outputs": [
    {
     "data": {
      "image/png": "[encoded data removed]",
      "text/plain": [
       "<Figure size 432x288 with 1 Axes>"
      ]
     },
     "metadata": {
      "needs_background": "light"
     },
     "output_type": "display_data"
    },
    {
     "data": {
      "image/png": "[encoded data removed]",
      "text/plain": [
       "<Figure size 432x288 with 1 Axes>"
      ]
     },
     "metadata": {
      "needs_background": "light"
     },
     "output_type": "display_data"
    }
   ],
   "source": [
    "visualization(lstm_ko_history)"
   ]
  },
  {
   "cell_type": "markdown",
   "id": "f9b79676",
   "metadata": {},
   "source": [
    "#### 04.3.2 conv1d with 한국어 Word2Vec"
   ]
  },
  {
   "cell_type": "code",
   "execution_count": 35,
   "id": "0045c14d",
   "metadata": {},
   "outputs": [
    {
     "name": "stdout",
     "output_type": "stream",
     "text": [
      "Epoch 1/5\n",
      "3427/3427 [==============================] - 19s 5ms/step - loss: 0.4265 - accuracy: 0.8003 - val_loss: 0.3585 - val_accuracy: 0.8414\n",
      "Epoch 2/5\n",
      "3427/3427 [==============================] - 18s 5ms/step - loss: 0.3150 - accuracy: 0.8654 - val_loss: 0.3328 - val_accuracy: 0.8556\n",
      "Epoch 3/5\n",
      "3427/3427 [==============================] - 18s 5ms/step - loss: 0.2652 - accuracy: 0.8899 - val_loss: 0.3352 - val_accuracy: 0.8575\n",
      "Epoch 4/5\n",
      "3427/3427 [==============================] - 18s 5ms/step - loss: 0.2169 - accuracy: 0.9127 - val_loss: 0.3600 - val_accuracy: 0.8556\n",
      "Epoch 5/5\n",
      "3427/3427 [==============================] - 18s 5ms/step - loss: 0.1727 - accuracy: 0.9318 - val_loss: 0.4165 - val_accuracy: 0.8523\n",
      "1537/1537 - 3s - loss: 0.4319 - accuracy: 0.8483\n",
      "\n",
      "This is conv1d_model_ko\n",
      "Loss: 0.4319305121898651\n",
      "Accurancy: 0.8482617139816284\n",
      "\n"
     ]
    }
   ],
   "source": [
    "conv1d_ko_history = fitting_machine(conv1d_model_ko, 5)"
   ]
  },
  {
   "cell_type": "code",
   "execution_count": 36,
   "id": "2b935508",
   "metadata": {
    "scrolled": true
   },
   "outputs": [
    {
     "data": {
      "image/png": "[encoded data removed]",
      "text/plain": [
       "<Figure size 432x288 with 1 Axes>"
      ]
     },
     "metadata": {
      "needs_background": "light"
     },
     "output_type": "display_data"
    },
    {
     "data": {
      "image/png": "[encoded data removed]",
      "text/plain": [
       "<Figure size 432x288 with 1 Axes>"
      ]
     },
     "metadata": {
      "needs_background": "light"
     },
     "output_type": "display_data"
    }
   ],
   "source": [
    "visualization(conv1d_ko_history)"
   ]
  },
  {
   "cell_type": "markdown",
   "id": "4a73f47d",
   "metadata": {},
   "source": [
    "#### 04.3.3  GMP with 한국어 Word2Vec"
   ]
  },
  {
   "cell_type": "code",
   "execution_count": 37,
   "id": "e8db5c55",
   "metadata": {},
   "outputs": [
    {
     "name": "stdout",
     "output_type": "stream",
     "text": [
      "Epoch 1/5\n",
      "3427/3427 [==============================] - 13s 4ms/step - loss: 0.5458 - accuracy: 0.7174 - val_loss: 0.4810 - val_accuracy: 0.7659\n",
      "Epoch 2/5\n",
      "3427/3427 [==============================] - 12s 4ms/step - loss: 0.4189 - accuracy: 0.8077 - val_loss: 0.4116 - val_accuracy: 0.8112\n",
      "Epoch 3/5\n",
      "3427/3427 [==============================] - 12s 4ms/step - loss: 0.3679 - accuracy: 0.8367 - val_loss: 0.3919 - val_accuracy: 0.8230\n",
      "Epoch 4/5\n",
      "3427/3427 [==============================] - 12s 4ms/step - loss: 0.3329 - accuracy: 0.8565 - val_loss: 0.4074 - val_accuracy: 0.8188\n",
      "Epoch 5/5\n",
      "3427/3427 [==============================] - 12s 4ms/step - loss: 0.3034 - accuracy: 0.8717 - val_loss: 0.3851 - val_accuracy: 0.8320\n",
      "1537/1537 - 2s - loss: 0.3897 - accuracy: 0.8300\n",
      "\n",
      "This is gmp_model_ko\n",
      "Loss: 0.38971561193466187\n",
      "Accurancy: 0.8299733400344849\n",
      "\n"
     ]
    }
   ],
   "source": [
    "gmp_ko_history = fitting_machine(gmp_model_ko, 5)"
   ]
  },
  {
   "cell_type": "code",
   "execution_count": 38,
   "id": "ab20b544",
   "metadata": {
    "scrolled": true
   },
   "outputs": [
    {
     "data": {
      "image/png": "[encoded data removed]",
      "text/plain": [
       "<Figure size 432x288 with 1 Axes>"
      ]
     },
     "metadata": {
      "needs_background": "light"
     },
     "output_type": "display_data"
    },
    {
     "data": {
      "image/png": "[encoded data removed]",
      "text/plain": [
       "<Figure size 432x288 with 1 Axes>"
      ]
     },
     "metadata": {
      "needs_background": "light"
     },
     "output_type": "display_data"
    }
   ],
   "source": [
    "visualization(gmp_ko_history)"
   ]
  },
  {
   "cell_type": "markdown",
   "id": "12a2a04d",
   "metadata": {},
   "source": [
    "## 05. 회고"
   ]
  },
  {
   "cell_type": "markdown",
   "id": "9d7b949f",
   "metadata": {},
   "source": [
    "> 1. Gensim issue version\n",
    "    - 한국어word2vec를 사용하기위하여 많은 error가 있었다. version 문제가 있었다. version관리는 핵심이다. gensim 사용을 위하여 버전을 낮춰야한다.\n",
    "> 2. Early stop issue\n",
    "    - model을 Subclass로 생성하면 Early stop이 되지 않는다. error에는 memory 문제가 있다고 한다. early stop을 꼭 써야한다면 Subclass 말고 Functional이나 Sequential을 활용해야한다.\n",
    "> 3. Parameter, dimension 크기 조절이 잘 모르겠음.\n",
    "    - vocab의 size, dimension의 크기, model을 생성할 때 layer에 넣는 숫자를 어떻게 넣어야할지 감이 잘 안잡힌다. 직감적으로 이해가 되지는 않아 인터넷을 참고하여 parameter를 결정하였다. paratmeter를 자유자재로 설정하고 싶다.\n",
    "> 4. epoch\n",
    "    - epoch값이 조금만 넣어도(1-3) val_loss가 심하게 바뀐다. overfitting이 쉽게 나는 것을 확인할 수 있었다. data가 적어서 생기는 문제인지 model이 가지고 있는 문제인지는 잘 모르겠다.\n",
    "    - Code를 살펴보면서 test,train 분리할 때 test size를 너무 크게 잡아놓고 있었다. train data의 수가 너무 적어 overfitting이 계속 발생하고 있었다.\n",
    "> 5. NLP\n",
    "    - NLP 아직까지는 잘 모르겠지만 조금은 익숙해진다. embedding layer를 이용하고 token화 시켜주고 혼자서 하지는 못하겠지만 나중에 혼자서도 전처리할 수 있는 도전을 해보고 싶다. 신기하다."
   ]
  },
  {
   "cell_type": "code",
   "execution_count": null,
   "id": "4194ebd8",
   "metadata": {},
   "outputs": [],
   "source": []
  }
 ],
 "metadata": {
  "kernelspec": {
   "display_name": "Python 3 (ipykernel)",
   "language": "python",
   "name": "python3"
  },
  "language_info": {
   "codemirror_mode": {
    "name": "ipython",
    "version": 3
   },
   "file_extension": ".py",
   "mimetype": "text/x-python",
   "name": "python",
   "nbconvert_exporter": "python",
   "pygments_lexer": "ipython3",
   "version": "3.9.7"
  }
 },
 "nbformat": 4,
 "nbformat_minor": 5
}
