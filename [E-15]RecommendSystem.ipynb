{
 "cells": [
  {
   "cell_type": "markdown",
   "id": "731c2965",
   "metadata": {},
   "source": [
    "# [E-15] 아이유팬이 좋아할 만한 다른 아티스트 찾기"
   ]
  },
  {
   "cell_type": "markdown",
   "id": "079012f9",
   "metadata": {},
   "source": [
    "## 목차\n",
    "0. import\n",
    "1. 데이터 준비와 전처리\n",
    "2. 분석해 봅시다.\n",
    "3. 내가 선호하는 영화를 5가지 골라서 ratings에 추가해 줍시다.\n",
    "4. CSR matrix를 직접 만들어 봅시다.\n",
    "5. als_model = AlternatingLeastSquares 모델을 직접 구성하여 훈련시켜 봅시다.¶\n",
    "6. 내가 선호하는 5가지 영화 중 하나와 그 외의 영화 하나를 골라 훈련된 모델이 예측한 나의 선호도를 파악해 보세요.\n",
    "7. 내가 좋아하는 영화와 비슷한 영화를 추천받아 봅시다.\n",
    "8. 내가 가장 좋아할 만한 영화들을 추천받아 봅시다.\n",
    "9. 회고"
   ]
  },
  {
   "cell_type": "markdown",
   "id": "6368ae51",
   "metadata": {},
   "source": [
    "## 00. import"
   ]
  },
  {
   "cell_type": "code",
   "execution_count": 1,
   "id": "262f391b",
   "metadata": {},
   "outputs": [],
   "source": [
    "import numpy as np\n",
    "import pandas as pd\n",
    "import os\n",
    "\n",
    "import scipy\n",
    "import implicit\n",
    "from scipy.sparse import csr_matrix\n",
    "from implicit.als import AlternatingLeastSquares"
   ]
  },
  {
   "cell_type": "markdown",
   "id": "dcc94643",
   "metadata": {},
   "source": [
    "## 01. 데이터 준비와 전처리"
   ]
  },
  {
   "cell_type": "code",
   "execution_count": 2,
   "id": "dd1f7cb9",
   "metadata": {},
   "outputs": [
    {
     "data": {
      "text/html": [
       "<div>\n",
       "<style scoped>\n",
       "    .dataframe tbody tr th:only-of-type {\n",
       "        vertical-align: middle;\n",
       "    }\n",
       "\n",
       "    .dataframe tbody tr th {\n",
       "        vertical-align: top;\n",
       "    }\n",
       "\n",
       "    .dataframe thead th {\n",
       "        text-align: right;\n",
       "    }\n",
       "</style>\n",
       "<table border=\"1\" class=\"dataframe\">\n",
       "  <thead>\n",
       "    <tr style=\"text-align: right;\">\n",
       "      <th></th>\n",
       "      <th>user_id</th>\n",
       "      <th>movie_id</th>\n",
       "      <th>ratings</th>\n",
       "      <th>timestamp</th>\n",
       "    </tr>\n",
       "  </thead>\n",
       "  <tbody>\n",
       "    <tr>\n",
       "      <th>0</th>\n",
       "      <td>1</td>\n",
       "      <td>1193</td>\n",
       "      <td>5</td>\n",
       "      <td>978300760</td>\n",
       "    </tr>\n",
       "    <tr>\n",
       "      <th>1</th>\n",
       "      <td>1</td>\n",
       "      <td>661</td>\n",
       "      <td>3</td>\n",
       "      <td>978302109</td>\n",
       "    </tr>\n",
       "    <tr>\n",
       "      <th>2</th>\n",
       "      <td>1</td>\n",
       "      <td>914</td>\n",
       "      <td>3</td>\n",
       "      <td>978301968</td>\n",
       "    </tr>\n",
       "    <tr>\n",
       "      <th>3</th>\n",
       "      <td>1</td>\n",
       "      <td>3408</td>\n",
       "      <td>4</td>\n",
       "      <td>978300275</td>\n",
       "    </tr>\n",
       "    <tr>\n",
       "      <th>4</th>\n",
       "      <td>1</td>\n",
       "      <td>2355</td>\n",
       "      <td>5</td>\n",
       "      <td>978824291</td>\n",
       "    </tr>\n",
       "  </tbody>\n",
       "</table>\n",
       "</div>"
      ],
      "text/plain": [
       "   user_id  movie_id  ratings  timestamp\n",
       "0        1      1193        5  978300760\n",
       "1        1       661        3  978302109\n",
       "2        1       914        3  978301968\n",
       "3        1      3408        4  978300275\n",
       "4        1      2355        5  978824291"
      ]
     },
     "execution_count": 2,
     "metadata": {},
     "output_type": "execute_result"
    }
   ],
   "source": [
    "rating_file_path=os.getenv('HOME') + '/aiffel/recommendata_iu/data/ml-1m/ratings.dat'\n",
    "# 사용할 컬럼\n",
    "ratings_cols = ['user_id', 'movie_id', 'ratings', 'timestamp']\n",
    "ratings = pd.read_csv(rating_file_path, sep='::', names=ratings_cols, engine='python', encoding = \"ISO-8859-1\")\n",
    "orginal_data_size = len(ratings)\n",
    "ratings.head()"
   ]
  },
  {
   "cell_type": "code",
   "execution_count": 3,
   "id": "d247702c",
   "metadata": {},
   "outputs": [
    {
     "name": "stdout",
     "output_type": "stream",
     "text": [
      "orginal_data_size: 1000209, filtered_data_size: 836478\n",
      "Ratio of Remaining Data is 83.63%\n"
     ]
    }
   ],
   "source": [
    "# Data filtering 3점 이상만 남깁니다.\n",
    "ratings = ratings[ratings['ratings']>=3]\n",
    "filtered_data_size = len(ratings)\n",
    "\n",
    "print(f'orginal_data_size: {orginal_data_size}, filtered_data_size: {filtered_data_size}')\n",
    "print(f'Ratio of Remaining Data is {filtered_data_size / orginal_data_size:.2%}')"
   ]
  },
  {
   "cell_type": "code",
   "execution_count": 4,
   "id": "83430a4a",
   "metadata": {},
   "outputs": [
    {
     "data": {
      "text/html": [
       "<div>\n",
       "<style scoped>\n",
       "    .dataframe tbody tr th:only-of-type {\n",
       "        vertical-align: middle;\n",
       "    }\n",
       "\n",
       "    .dataframe tbody tr th {\n",
       "        vertical-align: top;\n",
       "    }\n",
       "\n",
       "    .dataframe thead th {\n",
       "        text-align: right;\n",
       "    }\n",
       "</style>\n",
       "<table border=\"1\" class=\"dataframe\">\n",
       "  <thead>\n",
       "    <tr style=\"text-align: right;\">\n",
       "      <th></th>\n",
       "      <th>user_id</th>\n",
       "      <th>movie_id</th>\n",
       "      <th>counts</th>\n",
       "      <th>timestamp</th>\n",
       "    </tr>\n",
       "  </thead>\n",
       "  <tbody>\n",
       "    <tr>\n",
       "      <th>0</th>\n",
       "      <td>1</td>\n",
       "      <td>1193</td>\n",
       "      <td>5</td>\n",
       "      <td>978300760</td>\n",
       "    </tr>\n",
       "    <tr>\n",
       "      <th>1</th>\n",
       "      <td>1</td>\n",
       "      <td>661</td>\n",
       "      <td>3</td>\n",
       "      <td>978302109</td>\n",
       "    </tr>\n",
       "    <tr>\n",
       "      <th>2</th>\n",
       "      <td>1</td>\n",
       "      <td>914</td>\n",
       "      <td>3</td>\n",
       "      <td>978301968</td>\n",
       "    </tr>\n",
       "    <tr>\n",
       "      <th>3</th>\n",
       "      <td>1</td>\n",
       "      <td>3408</td>\n",
       "      <td>4</td>\n",
       "      <td>978300275</td>\n",
       "    </tr>\n",
       "    <tr>\n",
       "      <th>4</th>\n",
       "      <td>1</td>\n",
       "      <td>2355</td>\n",
       "      <td>5</td>\n",
       "      <td>978824291</td>\n",
       "    </tr>\n",
       "    <tr>\n",
       "      <th>...</th>\n",
       "      <td>...</td>\n",
       "      <td>...</td>\n",
       "      <td>...</td>\n",
       "      <td>...</td>\n",
       "    </tr>\n",
       "    <tr>\n",
       "      <th>1000203</th>\n",
       "      <td>6040</td>\n",
       "      <td>1090</td>\n",
       "      <td>3</td>\n",
       "      <td>956715518</td>\n",
       "    </tr>\n",
       "    <tr>\n",
       "      <th>1000205</th>\n",
       "      <td>6040</td>\n",
       "      <td>1094</td>\n",
       "      <td>5</td>\n",
       "      <td>956704887</td>\n",
       "    </tr>\n",
       "    <tr>\n",
       "      <th>1000206</th>\n",
       "      <td>6040</td>\n",
       "      <td>562</td>\n",
       "      <td>5</td>\n",
       "      <td>956704746</td>\n",
       "    </tr>\n",
       "    <tr>\n",
       "      <th>1000207</th>\n",
       "      <td>6040</td>\n",
       "      <td>1096</td>\n",
       "      <td>4</td>\n",
       "      <td>956715648</td>\n",
       "    </tr>\n",
       "    <tr>\n",
       "      <th>1000208</th>\n",
       "      <td>6040</td>\n",
       "      <td>1097</td>\n",
       "      <td>4</td>\n",
       "      <td>956715569</td>\n",
       "    </tr>\n",
       "  </tbody>\n",
       "</table>\n",
       "<p>836478 rows × 4 columns</p>\n",
       "</div>"
      ],
      "text/plain": [
       "         user_id  movie_id  counts  timestamp\n",
       "0              1      1193       5  978300760\n",
       "1              1       661       3  978302109\n",
       "2              1       914       3  978301968\n",
       "3              1      3408       4  978300275\n",
       "4              1      2355       5  978824291\n",
       "...          ...       ...     ...        ...\n",
       "1000203     6040      1090       3  956715518\n",
       "1000205     6040      1094       5  956704887\n",
       "1000206     6040       562       5  956704746\n",
       "1000207     6040      1096       4  956715648\n",
       "1000208     6040      1097       4  956715569\n",
       "\n",
       "[836478 rows x 4 columns]"
      ]
     },
     "execution_count": 4,
     "metadata": {},
     "output_type": "execute_result"
    }
   ],
   "source": [
    "# ratings 컬럼의 이름을 counts로 바꿉니다.\n",
    "ratings.rename(columns={'ratings':'counts'}, inplace=True)\n",
    "ratings"
   ]
  },
  {
   "cell_type": "code",
   "execution_count": 5,
   "id": "b4441919",
   "metadata": {
    "scrolled": true
   },
   "outputs": [
    {
     "data": {
      "text/html": [
       "<div>\n",
       "<style scoped>\n",
       "    .dataframe tbody tr th:only-of-type {\n",
       "        vertical-align: middle;\n",
       "    }\n",
       "\n",
       "    .dataframe tbody tr th {\n",
       "        vertical-align: top;\n",
       "    }\n",
       "\n",
       "    .dataframe thead th {\n",
       "        text-align: right;\n",
       "    }\n",
       "</style>\n",
       "<table border=\"1\" class=\"dataframe\">\n",
       "  <thead>\n",
       "    <tr style=\"text-align: right;\">\n",
       "      <th></th>\n",
       "      <th>movie_id</th>\n",
       "      <th>title</th>\n",
       "      <th>genre</th>\n",
       "    </tr>\n",
       "  </thead>\n",
       "  <tbody>\n",
       "    <tr>\n",
       "      <th>0</th>\n",
       "      <td>1</td>\n",
       "      <td>Toy Story (1995)</td>\n",
       "      <td>Animation|Children's|Comedy</td>\n",
       "    </tr>\n",
       "    <tr>\n",
       "      <th>1</th>\n",
       "      <td>2</td>\n",
       "      <td>Jumanji (1995)</td>\n",
       "      <td>Adventure|Children's|Fantasy</td>\n",
       "    </tr>\n",
       "    <tr>\n",
       "      <th>2</th>\n",
       "      <td>3</td>\n",
       "      <td>Grumpier Old Men (1995)</td>\n",
       "      <td>Comedy|Romance</td>\n",
       "    </tr>\n",
       "    <tr>\n",
       "      <th>3</th>\n",
       "      <td>4</td>\n",
       "      <td>Waiting to Exhale (1995)</td>\n",
       "      <td>Comedy|Drama</td>\n",
       "    </tr>\n",
       "    <tr>\n",
       "      <th>4</th>\n",
       "      <td>5</td>\n",
       "      <td>Father of the Bride Part II (1995)</td>\n",
       "      <td>Comedy</td>\n",
       "    </tr>\n",
       "  </tbody>\n",
       "</table>\n",
       "</div>"
      ],
      "text/plain": [
       "   movie_id                               title                         genre\n",
       "0         1                    Toy Story (1995)   Animation|Children's|Comedy\n",
       "1         2                      Jumanji (1995)  Adventure|Children's|Fantasy\n",
       "2         3             Grumpier Old Men (1995)                Comedy|Romance\n",
       "3         4            Waiting to Exhale (1995)                  Comedy|Drama\n",
       "4         5  Father of the Bride Part II (1995)                        Comedy"
      ]
     },
     "execution_count": 5,
     "metadata": {},
     "output_type": "execute_result"
    }
   ],
   "source": [
    "# 영화 제목을 보기 위해 메타 데이터를 읽어옵니다.\n",
    "movie_file_path=os.getenv('HOME') + '/aiffel/recommendata_iu/data/ml-1m/movies.dat'\n",
    "cols = ['movie_id', 'title', 'genre'] \n",
    "movies = pd.read_csv(movie_file_path, sep='::', names=cols, engine='python', encoding='ISO-8859-1')\n",
    "movies.head()"
   ]
  },
  {
   "cell_type": "code",
   "execution_count": 6,
   "id": "dfcee567",
   "metadata": {},
   "outputs": [
    {
     "data": {
      "text/html": [
       "<div>\n",
       "<style scoped>\n",
       "    .dataframe tbody tr th:only-of-type {\n",
       "        vertical-align: middle;\n",
       "    }\n",
       "\n",
       "    .dataframe tbody tr th {\n",
       "        vertical-align: top;\n",
       "    }\n",
       "\n",
       "    .dataframe thead th {\n",
       "        text-align: right;\n",
       "    }\n",
       "</style>\n",
       "<table border=\"1\" class=\"dataframe\">\n",
       "  <thead>\n",
       "    <tr style=\"text-align: right;\">\n",
       "      <th></th>\n",
       "      <th>movie_id</th>\n",
       "      <th>title</th>\n",
       "      <th>genre</th>\n",
       "    </tr>\n",
       "  </thead>\n",
       "  <tbody>\n",
       "    <tr>\n",
       "      <th>3878</th>\n",
       "      <td>3948</td>\n",
       "      <td>Meet the Parents (2000)</td>\n",
       "      <td>Comedy</td>\n",
       "    </tr>\n",
       "    <tr>\n",
       "      <th>3879</th>\n",
       "      <td>3949</td>\n",
       "      <td>Requiem for a Dream (2000)</td>\n",
       "      <td>Drama</td>\n",
       "    </tr>\n",
       "    <tr>\n",
       "      <th>3880</th>\n",
       "      <td>3950</td>\n",
       "      <td>Tigerland (2000)</td>\n",
       "      <td>Drama</td>\n",
       "    </tr>\n",
       "    <tr>\n",
       "      <th>3881</th>\n",
       "      <td>3951</td>\n",
       "      <td>Two Family House (2000)</td>\n",
       "      <td>Drama</td>\n",
       "    </tr>\n",
       "    <tr>\n",
       "      <th>3882</th>\n",
       "      <td>3952</td>\n",
       "      <td>Contender, The (2000)</td>\n",
       "      <td>Drama|Thriller</td>\n",
       "    </tr>\n",
       "  </tbody>\n",
       "</table>\n",
       "</div>"
      ],
      "text/plain": [
       "      movie_id                       title           genre\n",
       "3878      3948     Meet the Parents (2000)          Comedy\n",
       "3879      3949  Requiem for a Dream (2000)           Drama\n",
       "3880      3950            Tigerland (2000)           Drama\n",
       "3881      3951     Two Family House (2000)           Drama\n",
       "3882      3952       Contender, The (2000)  Drama|Thriller"
      ]
     },
     "execution_count": 6,
     "metadata": {},
     "output_type": "execute_result"
    }
   ],
   "source": [
    "movies.tail()"
   ]
  },
  {
   "cell_type": "markdown",
   "id": "b82cab98",
   "metadata": {},
   "source": [
    "## 02. 분석해 봅시다.\n",
    "\n",
    "- ratings에 있는 유니크한 영화 개수\n",
    "- ratings에 있는 유니크한 사용자 수\n",
    "- 가장 인기 있는 영화 30개(인기순)"
   ]
  },
  {
   "cell_type": "code",
   "execution_count": 7,
   "id": "043c6f3c",
   "metadata": {},
   "outputs": [
    {
     "data": {
      "text/plain": [
       "3628"
      ]
     },
     "execution_count": 7,
     "metadata": {},
     "output_type": "execute_result"
    }
   ],
   "source": [
    "# ratings에 있는 유니크한 영화 개수\n",
    "ratings['movie_id'].nunique()"
   ]
  },
  {
   "cell_type": "code",
   "execution_count": 8,
   "id": "02660024",
   "metadata": {},
   "outputs": [
    {
     "data": {
      "text/plain": [
       "6039"
      ]
     },
     "execution_count": 8,
     "metadata": {},
     "output_type": "execute_result"
    }
   ],
   "source": [
    "# ratings에 있는 유니크한 사용자 수\n",
    "ratings['user_id'].nunique()"
   ]
  },
  {
   "cell_type": "code",
   "execution_count": 9,
   "id": "76f82cb5",
   "metadata": {
    "scrolled": true
   },
   "outputs": [],
   "source": [
    "# 가장 인기 있는 영화 30개(인기순)\n",
    "movie_count = ratings.groupby('movie_id')['user_id'].count()\n",
    "movie_top30 = movie_count.sort_values(ascending=False).head(30)"
   ]
  },
  {
   "cell_type": "code",
   "execution_count": 10,
   "id": "a065adae",
   "metadata": {
    "scrolled": false
   },
   "outputs": [
    {
     "name": "stdout",
     "output_type": "stream",
     "text": [
      "American Beauty (1999) 3211\n",
      "Star Wars: Episode IV - A New Hope (1977) 2910\n",
      "Star Wars: Episode V - The Empire Strikes Back (1980) 2885\n",
      "Star Wars: Episode VI - Return of the Jedi (1983) 2716\n",
      "Saving Private Ryan (1998) 2561\n",
      "Terminator 2: Judgment Day (1991) 2509\n",
      "Silence of the Lambs, The (1991) 2498\n",
      "Raiders of the Lost Ark (1981) 2473\n",
      "Back to the Future (1985) 2460\n",
      "Matrix, The (1999) 2434\n",
      "Jurassic Park (1993) 2413\n",
      "Sixth Sense, The (1999) 2385\n",
      "Fargo (1996) 2371\n",
      "Braveheart (1995) 2314\n",
      "Men in Black (1997) 2297\n",
      "Schindler's List (1993) 2257\n",
      "Princess Bride, The (1987) 2252\n",
      "Shakespeare in Love (1998) 2213\n",
      "L.A. Confidential (1997) 2210\n",
      "Shawshank Redemption, The (1994) 2194\n",
      "Godfather, The (1972) 2167\n",
      "Groundhog Day (1993) 2121\n",
      "E.T. the Extra-Terrestrial (1982) 2102\n",
      "Being John Malkovich (1999) 2066\n",
      "Ghostbusters (1984) 2051\n",
      "Pulp Fiction (1994) 2030\n",
      "Forrest Gump (1994) 2022\n",
      "Terminator, The (1984) 2019\n",
      "Toy Story (1995) 2000\n",
      "Fugitive, The (1993) 1941\n"
     ]
    }
   ],
   "source": [
    "# 30개의 영화 누적 count수\n",
    "for i, k in zip(movie_top30.index, movie_top30.values):\n",
    "    print(movies[movies['movie_id']==i]['title'].values[0],k)"
   ]
  },
  {
   "cell_type": "code",
   "execution_count": 11,
   "id": "2b39052c",
   "metadata": {
    "scrolled": true
   },
   "outputs": [
    {
     "data": {
      "text/plain": [
       "count    6039.000000\n",
       "mean      138.512668\n",
       "std       156.241599\n",
       "min         1.000000\n",
       "25%        38.000000\n",
       "50%        81.000000\n",
       "75%       177.000000\n",
       "max      1968.000000\n",
       "Name: movie_id, dtype: float64"
      ]
     },
     "execution_count": 11,
     "metadata": {},
     "output_type": "execute_result"
    }
   ],
   "source": [
    "# 유저별 영화를 몇번 봤는지에 대한 통계\n",
    "user_count = ratings.groupby('user_id')['movie_id'].count()\n",
    "user_count.describe()"
   ]
  },
  {
   "cell_type": "code",
   "execution_count": 12,
   "id": "ab84295b",
   "metadata": {
    "scrolled": true
   },
   "outputs": [
    {
     "data": {
      "text/plain": [
       "count    6039.000000\n",
       "mean        4.055970\n",
       "std         0.432143\n",
       "min         3.000000\n",
       "25%         4.000000\n",
       "50%         4.000000\n",
       "75%         4.000000\n",
       "max         5.000000\n",
       "Name: counts, dtype: float64"
      ]
     },
     "execution_count": 12,
     "metadata": {},
     "output_type": "execute_result"
    }
   ],
   "source": [
    "# 유저별 count횟수 중앙값에 대한 통계\n",
    "user_median = ratings.groupby('user_id')['counts'].median()\n",
    "user_median.describe()"
   ]
  },
  {
   "cell_type": "markdown",
   "id": "d54997c2",
   "metadata": {},
   "source": [
    "## 03. 내가 선호하는 영화를 5가지 골라서 ratings에 추가해 줍시다."
   ]
  },
  {
   "cell_type": "code",
   "execution_count": 13,
   "id": "7b1d4225",
   "metadata": {
    "scrolled": false
   },
   "outputs": [
    {
     "data": {
      "text/html": [
       "<div>\n",
       "<style scoped>\n",
       "    .dataframe tbody tr th:only-of-type {\n",
       "        vertical-align: middle;\n",
       "    }\n",
       "\n",
       "    .dataframe tbody tr th {\n",
       "        vertical-align: top;\n",
       "    }\n",
       "\n",
       "    .dataframe thead th {\n",
       "        text-align: right;\n",
       "    }\n",
       "</style>\n",
       "<table border=\"1\" class=\"dataframe\">\n",
       "  <thead>\n",
       "    <tr style=\"text-align: right;\">\n",
       "      <th></th>\n",
       "      <th>user_id</th>\n",
       "      <th>movie_id</th>\n",
       "      <th>counts</th>\n",
       "      <th>timestamp</th>\n",
       "    </tr>\n",
       "  </thead>\n",
       "  <tbody>\n",
       "    <tr>\n",
       "      <th>1000203</th>\n",
       "      <td>6040</td>\n",
       "      <td>1090</td>\n",
       "      <td>3</td>\n",
       "      <td>956715518.0</td>\n",
       "    </tr>\n",
       "    <tr>\n",
       "      <th>1000205</th>\n",
       "      <td>6040</td>\n",
       "      <td>1094</td>\n",
       "      <td>5</td>\n",
       "      <td>956704887.0</td>\n",
       "    </tr>\n",
       "    <tr>\n",
       "      <th>1000206</th>\n",
       "      <td>6040</td>\n",
       "      <td>562</td>\n",
       "      <td>5</td>\n",
       "      <td>956704746.0</td>\n",
       "    </tr>\n",
       "    <tr>\n",
       "      <th>1000207</th>\n",
       "      <td>6040</td>\n",
       "      <td>1096</td>\n",
       "      <td>4</td>\n",
       "      <td>956715648.0</td>\n",
       "    </tr>\n",
       "    <tr>\n",
       "      <th>1000208</th>\n",
       "      <td>6040</td>\n",
       "      <td>1097</td>\n",
       "      <td>4</td>\n",
       "      <td>956715569.0</td>\n",
       "    </tr>\n",
       "    <tr>\n",
       "      <th>0</th>\n",
       "      <td>6041</td>\n",
       "      <td>1580</td>\n",
       "      <td>5</td>\n",
       "      <td>NaN</td>\n",
       "    </tr>\n",
       "    <tr>\n",
       "      <th>1</th>\n",
       "      <td>6041</td>\n",
       "      <td>2571</td>\n",
       "      <td>5</td>\n",
       "      <td>NaN</td>\n",
       "    </tr>\n",
       "    <tr>\n",
       "      <th>2</th>\n",
       "      <td>6041</td>\n",
       "      <td>480</td>\n",
       "      <td>5</td>\n",
       "      <td>NaN</td>\n",
       "    </tr>\n",
       "    <tr>\n",
       "      <th>3</th>\n",
       "      <td>6041</td>\n",
       "      <td>1270</td>\n",
       "      <td>5</td>\n",
       "      <td>NaN</td>\n",
       "    </tr>\n",
       "    <tr>\n",
       "      <th>4</th>\n",
       "      <td>6041</td>\n",
       "      <td>318</td>\n",
       "      <td>5</td>\n",
       "      <td>NaN</td>\n",
       "    </tr>\n",
       "  </tbody>\n",
       "</table>\n",
       "</div>"
      ],
      "text/plain": [
       "         user_id  movie_id  counts    timestamp\n",
       "1000203     6040      1090       3  956715518.0\n",
       "1000205     6040      1094       5  956704887.0\n",
       "1000206     6040       562       5  956704746.0\n",
       "1000207     6040      1096       4  956715648.0\n",
       "1000208     6040      1097       4  956715569.0\n",
       "0           6041      1580       5          NaN\n",
       "1           6041      2571       5          NaN\n",
       "2           6041       480       5          NaN\n",
       "3           6041      1270       5          NaN\n",
       "4           6041       318       5          NaN"
      ]
     },
     "execution_count": 13,
     "metadata": {},
     "output_type": "execute_result"
    }
   ],
   "source": [
    "# 본인이 좋아하시는 아티스트 데이터로 바꿔서 추가하셔도 됩니다! 단, 이름은 꼭 데이터셋에 있는 것과 동일하게 맞춰주세요. \n",
    "my_favorite_name = ['Men in Black (1997)' , 'Matrix, The (1999)' ,'Jurassic Park (1993)','Back to the Future (1985)','Shawshank Redemption, The (1994)']\n",
    "my_favorite = [movies[movies['title'] == name]['movie_id'].values[0] for name in my_favorite_name]\n",
    "\n",
    "# hong(맨끝에 추가되는 id)이라는 user_id가 위 영화를 5회씩 봤다고 가정하겠습니다.\n",
    "hong = max(ratings['user_id']) + 1\n",
    "my_playlist = pd.DataFrame({'user_id': [hong]*5, 'movie_id': my_favorite, 'counts':[5]*5})\n",
    "\n",
    "if not ratings.isin({'user_id':[hong]})['user_id'].any():  # user_id에 'zimin'이라는 데이터가 없다면\n",
    "    ratings = ratings.append(my_playlist)                           # 위에 임의로 만든 my_favorite 데이터를 추가해 줍니다. \n",
    "ratings.tail(10)       # 잘 추가되었는지 확인해 봅시다."
   ]
  },
  {
   "cell_type": "markdown",
   "id": "6be484ab",
   "metadata": {},
   "source": [
    "## 04. CSR matrix를 직접 만들어 봅시다."
   ]
  },
  {
   "cell_type": "code",
   "execution_count": 14,
   "id": "315d3ad4",
   "metadata": {},
   "outputs": [
    {
     "data": {
      "text/plain": [
       "<6042x3953 sparse matrix of type '<class 'numpy.int64'>'\n",
       "\twith 836483 stored elements in Compressed Sparse Row format>"
      ]
     },
     "execution_count": 14,
     "metadata": {},
     "output_type": "execute_result"
    }
   ],
   "source": [
    "# 실습 위에 설명보고 이해해서 만들어보기\n",
    "\n",
    "num_user = ratings['user_id'].nunique()\n",
    "num_movie = ratings['movie_id'].nunique()\n",
    "\n",
    "csr_data = csr_matrix((ratings['counts'], (ratings.user_id, ratings.movie_id)))\n",
    "csr_data"
   ]
  },
  {
   "cell_type": "markdown",
   "id": "e879a51d",
   "metadata": {},
   "source": [
    "## 05. als_model = AlternatingLeastSquares 모델을 직접 구성하여 훈련시켜 봅시다."
   ]
  },
  {
   "cell_type": "code",
   "execution_count": 15,
   "id": "2a008146",
   "metadata": {},
   "outputs": [],
   "source": [
    "# implicit 라이브러리에서 권장하고 있는 부분입니다. 학습 내용과는 무관합니다.\n",
    "os.environ['OPENBLAS_NUM_THREADS']='1'\n",
    "os.environ['KMP_DUPLICATE_LIB_OK']='True'\n",
    "os.environ['MKL_NUM_THREADS']='1'"
   ]
  },
  {
   "cell_type": "code",
   "execution_count": 16,
   "id": "c2b8e445",
   "metadata": {},
   "outputs": [],
   "source": [
    "# Implicit AlternatingLeastSquares 모델의 선언\n",
    "als_model = AlternatingLeastSquares(factors=100, regularization=0.01, use_gpu=False, iterations=15, dtype=np.float32)"
   ]
  },
  {
   "cell_type": "code",
   "execution_count": 17,
   "id": "e41b37e5",
   "metadata": {},
   "outputs": [
    {
     "data": {
      "text/plain": [
       "<3953x6042 sparse matrix of type '<class 'numpy.int64'>'\n",
       "\twith 836483 stored elements in Compressed Sparse Column format>"
      ]
     },
     "execution_count": 17,
     "metadata": {},
     "output_type": "execute_result"
    }
   ],
   "source": [
    "# als 모델은 input으로 (item X user 꼴의 matrix를 받기 때문에 Transpose해줍니다.)\n",
    "csr_data_transpose = csr_data.T\n",
    "csr_data_transpose"
   ]
  },
  {
   "cell_type": "code",
   "execution_count": 18,
   "id": "6bfe6607",
   "metadata": {},
   "outputs": [
    {
     "data": {
      "application/vnd.jupyter.widget-view+json": {
       "model_id": "ac3ad1e4d9a14e0ea6adf8f7f66f6236",
       "version_major": 2,
       "version_minor": 0
      },
      "text/plain": [
       "  0%|          | 0/15 [00:00<?, ?it/s]"
      ]
     },
     "metadata": {},
     "output_type": "display_data"
    }
   ],
   "source": [
    "# 모델 훈련\n",
    "als_model.fit(csr_data_transpose)"
   ]
  },
  {
   "cell_type": "markdown",
   "id": "a2f739dd",
   "metadata": {},
   "source": [
    "## 06. 내가 선호하는 5가지 영화 중 하나와 그 외의 영화 하나를 골라 훈련된 모델이 예측한 나의 선호도를 파악해 보세요."
   ]
  },
  {
   "cell_type": "code",
   "execution_count": 19,
   "id": "9b1d37d6",
   "metadata": {
    "scrolled": true
   },
   "outputs": [],
   "source": [
    "# 영화의 이름을 movie id로 바꿔주는 함수\n",
    "def movie_name_to_id(name):\n",
    "    return movies[movies['title']==name]['movie_id'].values[0]"
   ]
  },
  {
   "cell_type": "code",
   "execution_count": 20,
   "id": "0226df5f",
   "metadata": {},
   "outputs": [],
   "source": [
    "my_vector, american_beauty_vector = als_model.user_factors[6041], als_model.item_factors[movie_name_to_id('American Beauty (1999)')]"
   ]
  },
  {
   "cell_type": "code",
   "execution_count": 21,
   "id": "b5788cde",
   "metadata": {
    "scrolled": true
   },
   "outputs": [
    {
     "data": {
      "text/plain": [
       "array([-0.6280407 ,  0.2956025 , -0.06546354, -0.21902576,  0.02644725,\n",
       "        0.01915325,  0.34031504,  0.40367484,  0.23169088, -0.06220978,\n",
       "       -0.7014835 ,  1.0828938 , -0.8343029 , -0.6826763 , -0.11678414,\n",
       "        0.42118615,  0.2094611 , -0.74561656,  0.08484034, -1.0395296 ,\n",
       "        0.54352003, -0.76686966, -0.6329826 ,  1.0574021 , -0.06135674,\n",
       "        0.2356638 ,  1.5866665 , -0.53876257,  0.34193027, -0.09849332,\n",
       "        0.23559806, -0.72946286,  0.54398745, -0.5470282 , -0.13454711,\n",
       "        0.03628593,  0.75712156,  0.09222657, -0.4249303 , -0.16137171,\n",
       "        0.12614213,  0.19755308, -0.19723435,  0.3934108 ,  0.83695066,\n",
       "        0.68691504, -0.43661812,  0.0815068 ,  0.7956882 ,  0.17555524,\n",
       "        0.19456115, -0.1444794 ,  0.21272194,  0.2586847 ,  0.01321602,\n",
       "       -1.330372  ,  0.3614211 , -0.61352074, -0.36250073,  0.06464734,\n",
       "       -0.02402064,  0.2988261 , -0.05628537,  0.68098277,  0.11289663,\n",
       "       -0.19153301, -0.81697315, -0.27511454, -0.13498175,  0.6329781 ,\n",
       "        0.06995055,  0.29915655,  0.50806344,  0.73357606,  0.07211459,\n",
       "       -0.0714282 ,  0.5479137 ,  0.13933535,  0.6384646 ,  0.03724068,\n",
       "        0.21391493, -0.82441354,  0.1414609 , -0.4239715 , -0.52982146,\n",
       "       -0.13513772,  0.00687473,  1.214974  , -0.45187542, -0.5406465 ,\n",
       "        0.28320414,  0.38220638,  0.37856045, -1.1871594 ,  0.49402145,\n",
       "        0.36602414,  0.05032279, -1.0733405 , -0.5148105 ,  0.04808112],\n",
       "      dtype=float32)"
      ]
     },
     "execution_count": 21,
     "metadata": {},
     "output_type": "execute_result"
    }
   ],
   "source": [
    "# 나의 벡터\n",
    "my_vector"
   ]
  },
  {
   "cell_type": "code",
   "execution_count": 22,
   "id": "c29795bc",
   "metadata": {
    "scrolled": true
   },
   "outputs": [
    {
     "data": {
      "text/plain": [
       "array([ 0.00210496,  0.02558163,  0.0272997 , -0.03247653, -0.03344492,\n",
       "        0.00192331, -0.01899153,  0.00977926,  0.00586442,  0.04330087,\n",
       "        0.01302161,  0.00892179, -0.03680665, -0.00517114,  0.00629263,\n",
       "        0.0168648 ,  0.02172243, -0.04675321,  0.02478758,  0.0176519 ,\n",
       "        0.02140031,  0.03196715,  0.01550685,  0.02528441,  0.04136225,\n",
       "        0.01780271,  0.01496016, -0.02455216,  0.07020152, -0.007943  ,\n",
       "        0.00147463, -0.00481511,  0.02916721, -0.02818749,  0.01951392,\n",
       "       -0.00851053, -0.05012728,  0.01363944, -0.02033817, -0.01583074,\n",
       "       -0.01012485,  0.00237804, -0.00302987,  0.02139857, -0.00136077,\n",
       "        0.02695094, -0.00706135, -0.02899705, -0.00357107, -0.0209038 ,\n",
       "        0.01004835,  0.04333567,  0.03659362,  0.01160991,  0.01368099,\n",
       "        0.00334232,  0.03882225, -0.01182072, -0.00399048,  0.04522125,\n",
       "       -0.00962777,  0.01988981,  0.01078079, -0.04494256,  0.00699424,\n",
       "       -0.00076653,  0.014689  ,  0.01385592,  0.00803001,  0.03668057,\n",
       "       -0.03106113, -0.00762818, -0.02001989,  0.02690095,  0.00718485,\n",
       "       -0.00672145, -0.01300261,  0.03338401, -0.02402347, -0.0038986 ,\n",
       "        0.01230532,  0.02353844,  0.05645027, -0.02282879,  0.01921474,\n",
       "        0.00132881, -0.01925711,  0.05028636, -0.00650741, -0.01459871,\n",
       "        0.01263078, -0.00537734,  0.01687541,  0.00172128,  0.03883979,\n",
       "        0.0062894 , -0.00688544, -0.0221689 ,  0.0035868 ,  0.01243063],\n",
       "      dtype=float32)"
      ]
     },
     "execution_count": 22,
     "metadata": {},
     "output_type": "execute_result"
    }
   ],
   "source": [
    "# american beauty 영화의 vector\n",
    "american_beauty_vector"
   ]
  },
  {
   "cell_type": "code",
   "execution_count": 23,
   "id": "b76447b2",
   "metadata": {},
   "outputs": [],
   "source": [
    "# 영화 이름을 넣으면 추천정도를 알려주는 함수\n",
    "def score_movie(movie_name):\n",
    "    my_vector, movie_vector = als_model.user_factors[6041], als_model.item_factors[movie_name_to_id(movie_name)]\n",
    "    return np.dot(my_vector, movie_vector)"
   ]
  },
  {
   "cell_type": "code",
   "execution_count": 24,
   "id": "2089d531",
   "metadata": {},
   "outputs": [
    {
     "name": "stdout",
     "output_type": "stream",
     "text": [
      "American Beauty (1999)  : 0.27524\n",
      "Star Wars: Episode IV - A New Hope (1977)  : 0.31358603\n",
      "Star Wars: Episode V - The Empire Strikes Back (1980)  : 0.28482932\n",
      "Star Wars: Episode VI - Return of the Jedi (1983)  : 0.26663762\n",
      "Saving Private Ryan (1998)  : 0.35255527\n",
      "Terminator 2: Judgment Day (1991)  : 0.66099983\n",
      "Silence of the Lambs, The (1991)  : 0.42529732\n",
      "Raiders of the Lost Ark (1981)  : 0.15779874\n",
      "Back to the Future (1985)  : 0.5368912\n",
      "Matrix, The (1999)  : 0.5938476\n",
      "Jurassic Park (1993)  : 0.75297934\n",
      "Sixth Sense, The (1999)  : 0.17088306\n",
      "Fargo (1996)  : 0.29056627\n",
      "Braveheart (1995)  : 0.5103554\n",
      "Men in Black (1997)  : 0.66442907\n",
      "Schindler's List (1993)  : 0.29884744\n",
      "Princess Bride, The (1987)  : 0.20950533\n",
      "Shakespeare in Love (1998)  : 0.059372175\n",
      "L.A. Confidential (1997)  : 0.09070022\n",
      "Shawshank Redemption, The (1994)  : 0.42111388\n",
      "Godfather, The (1972)  : -0.001142198\n",
      "Groundhog Day (1993)  : 0.15836723\n",
      "E.T. the Extra-Terrestrial (1982)  : 0.20622323\n",
      "Being John Malkovich (1999)  : -0.08907509\n",
      "Ghostbusters (1984)  : 0.14855233\n",
      "Pulp Fiction (1994)  : 0.18500972\n",
      "Forrest Gump (1994)  : 0.14393497\n",
      "Terminator, The (1984)  : 0.23012818\n",
      "Toy Story (1995)  : 0.15890576\n",
      "Fugitive, The (1993)  : 0.24918681\n"
     ]
    }
   ],
   "source": [
    "for i in movie_top30.index:\n",
    "    tmp = movies[movies['movie_id']==i]['title'].values[0]\n",
    "    print(tmp,\" :\",  score_movie(tmp))"
   ]
  },
  {
   "cell_type": "markdown",
   "id": "1b159db1",
   "metadata": {},
   "source": [
    "## 07. 내가 좋아하는 영화와 비슷한 영화를 추천받아 봅시다."
   ]
  },
  {
   "cell_type": "code",
   "execution_count": 25,
   "id": "48b6788b",
   "metadata": {},
   "outputs": [
    {
     "data": {
      "text/plain": [
       "[(1, 0.9999999),\n",
       " (3114, 0.80172867),\n",
       " (34, 0.58949995),\n",
       " (2355, 0.57473695),\n",
       " (588, 0.57394207),\n",
       " (1265, 0.51751137),\n",
       " (364, 0.4351031),\n",
       " (595, 0.4322702),\n",
       " (2321, 0.41524768),\n",
       " (1923, 0.39124677),\n",
       " (356, 0.3532873),\n",
       " (1566, 0.34571257),\n",
       " (2396, 0.34314036),\n",
       " (2078, 0.33026886),\n",
       " (2687, 0.32938576)]"
      ]
     },
     "execution_count": 25,
     "metadata": {},
     "output_type": "execute_result"
    }
   ],
   "source": [
    "# Toystory와 비슷한 영화 추천\n",
    "favorite_movie = 'Toy Story (1995)'\n",
    "movie_id = movie_name_to_id(favorite_movie)\n",
    "similar_movie = als_model.similar_items(movie_id, N=15)\n",
    "similar_movie"
   ]
  },
  {
   "cell_type": "code",
   "execution_count": 26,
   "id": "2ed0d079",
   "metadata": {},
   "outputs": [
    {
     "name": "stdout",
     "output_type": "stream",
     "text": [
      "Toy Story (1995)  : 0.9999999\n",
      "Toy Story 2 (1999)  : 0.80172867\n",
      "Babe (1995)  : 0.58949995\n",
      "Bug's Life, A (1998)  : 0.57473695\n",
      "Aladdin (1992)  : 0.57394207\n",
      "Groundhog Day (1993)  : 0.51751137\n",
      "Lion King, The (1994)  : 0.4351031\n",
      "Beauty and the Beast (1991)  : 0.4322702\n",
      "Pleasantville (1998)  : 0.41524768\n",
      "There's Something About Mary (1998)  : 0.39124677\n",
      "Forrest Gump (1994)  : 0.3532873\n",
      "Hercules (1997)  : 0.34571257\n",
      "Shakespeare in Love (1998)  : 0.34314036\n",
      "Jungle Book, The (1967)  : 0.33026886\n",
      "Tarzan (1999)  : 0.32938576\n"
     ]
    }
   ],
   "source": [
    "for i, k in similar_movie:\n",
    "    print(movies[movies['movie_id']==i]['title'].values[0],' :', k)"
   ]
  },
  {
   "cell_type": "code",
   "execution_count": 27,
   "id": "1c49042a",
   "metadata": {
    "scrolled": true
   },
   "outputs": [
    {
     "data": {
      "text/html": [
       "<div>\n",
       "<style scoped>\n",
       "    .dataframe tbody tr th:only-of-type {\n",
       "        vertical-align: middle;\n",
       "    }\n",
       "\n",
       "    .dataframe tbody tr th {\n",
       "        vertical-align: top;\n",
       "    }\n",
       "\n",
       "    .dataframe thead th {\n",
       "        text-align: right;\n",
       "    }\n",
       "</style>\n",
       "<table border=\"1\" class=\"dataframe\">\n",
       "  <thead>\n",
       "    <tr style=\"text-align: right;\">\n",
       "      <th></th>\n",
       "      <th>title</th>\n",
       "      <th>genre</th>\n",
       "    </tr>\n",
       "  </thead>\n",
       "  <tbody>\n",
       "    <tr>\n",
       "      <th>0</th>\n",
       "      <td>Toy Story (1995)</td>\n",
       "      <td>Animation|Children's|Comedy</td>\n",
       "    </tr>\n",
       "    <tr>\n",
       "      <th>33</th>\n",
       "      <td>Babe (1995)</td>\n",
       "      <td>Children's|Comedy|Drama</td>\n",
       "    </tr>\n",
       "    <tr>\n",
       "      <th>352</th>\n",
       "      <td>Forrest Gump (1994)</td>\n",
       "      <td>Comedy|Romance|War</td>\n",
       "    </tr>\n",
       "    <tr>\n",
       "      <th>360</th>\n",
       "      <td>Lion King, The (1994)</td>\n",
       "      <td>Animation|Children's|Musical</td>\n",
       "    </tr>\n",
       "    <tr>\n",
       "      <th>584</th>\n",
       "      <td>Aladdin (1992)</td>\n",
       "      <td>Animation|Children's|Comedy|Musical</td>\n",
       "    </tr>\n",
       "    <tr>\n",
       "      <th>591</th>\n",
       "      <td>Beauty and the Beast (1991)</td>\n",
       "      <td>Animation|Children's|Musical</td>\n",
       "    </tr>\n",
       "    <tr>\n",
       "      <th>1245</th>\n",
       "      <td>Groundhog Day (1993)</td>\n",
       "      <td>Comedy|Romance</td>\n",
       "    </tr>\n",
       "    <tr>\n",
       "      <th>1526</th>\n",
       "      <td>Hercules (1997)</td>\n",
       "      <td>Adventure|Animation|Children's|Comedy|Musical</td>\n",
       "    </tr>\n",
       "    <tr>\n",
       "      <th>1854</th>\n",
       "      <td>There's Something About Mary (1998)</td>\n",
       "      <td>Comedy</td>\n",
       "    </tr>\n",
       "    <tr>\n",
       "      <th>2009</th>\n",
       "      <td>Jungle Book, The (1967)</td>\n",
       "      <td>Animation|Children's|Comedy|Musical</td>\n",
       "    </tr>\n",
       "    <tr>\n",
       "      <th>2252</th>\n",
       "      <td>Pleasantville (1998)</td>\n",
       "      <td>Comedy</td>\n",
       "    </tr>\n",
       "    <tr>\n",
       "      <th>2286</th>\n",
       "      <td>Bug's Life, A (1998)</td>\n",
       "      <td>Animation|Children's|Comedy</td>\n",
       "    </tr>\n",
       "    <tr>\n",
       "      <th>2327</th>\n",
       "      <td>Shakespeare in Love (1998)</td>\n",
       "      <td>Comedy|Romance</td>\n",
       "    </tr>\n",
       "    <tr>\n",
       "      <th>2618</th>\n",
       "      <td>Tarzan (1999)</td>\n",
       "      <td>Animation|Children's</td>\n",
       "    </tr>\n",
       "    <tr>\n",
       "      <th>3045</th>\n",
       "      <td>Toy Story 2 (1999)</td>\n",
       "      <td>Animation|Children's|Comedy</td>\n",
       "    </tr>\n",
       "  </tbody>\n",
       "</table>\n",
       "</div>"
      ],
      "text/plain": [
       "                                    title  \\\n",
       "0                        Toy Story (1995)   \n",
       "33                            Babe (1995)   \n",
       "352                   Forrest Gump (1994)   \n",
       "360                 Lion King, The (1994)   \n",
       "584                        Aladdin (1992)   \n",
       "591           Beauty and the Beast (1991)   \n",
       "1245                 Groundhog Day (1993)   \n",
       "1526                      Hercules (1997)   \n",
       "1854  There's Something About Mary (1998)   \n",
       "2009              Jungle Book, The (1967)   \n",
       "2252                 Pleasantville (1998)   \n",
       "2286                 Bug's Life, A (1998)   \n",
       "2327           Shakespeare in Love (1998)   \n",
       "2618                        Tarzan (1999)   \n",
       "3045                   Toy Story 2 (1999)   \n",
       "\n",
       "                                              genre  \n",
       "0                       Animation|Children's|Comedy  \n",
       "33                          Children's|Comedy|Drama  \n",
       "352                              Comedy|Romance|War  \n",
       "360                    Animation|Children's|Musical  \n",
       "584             Animation|Children's|Comedy|Musical  \n",
       "591                    Animation|Children's|Musical  \n",
       "1245                                 Comedy|Romance  \n",
       "1526  Adventure|Animation|Children's|Comedy|Musical  \n",
       "1854                                         Comedy  \n",
       "2009            Animation|Children's|Comedy|Musical  \n",
       "2252                                         Comedy  \n",
       "2286                    Animation|Children's|Comedy  \n",
       "2327                                 Comedy|Romance  \n",
       "2618                           Animation|Children's  \n",
       "3045                    Animation|Children's|Comedy  "
      ]
     },
     "execution_count": 27,
     "metadata": {},
     "output_type": "execute_result"
    }
   ],
   "source": [
    "movies[movies['movie_id'].isin([s[0] for s in similar_movie])][['title','genre']]"
   ]
  },
  {
   "cell_type": "markdown",
   "id": "553dffc1",
   "metadata": {},
   "source": [
    "## 08. 내가 가장 좋아할 만한 영화들을 추천받아 봅시다."
   ]
  },
  {
   "cell_type": "code",
   "execution_count": 28,
   "id": "afdcca4d",
   "metadata": {},
   "outputs": [
    {
     "data": {
      "text/plain": [
       "[(589, 0.66099983),\n",
       " (110, 0.5103554),\n",
       " (593, 0.42529738),\n",
       " (2916, 0.4222901),\n",
       " (2028, 0.35255527),\n",
       " (260, 0.31358603),\n",
       " (527, 0.29884744),\n",
       " (608, 0.29056627),\n",
       " (1704, 0.28488272),\n",
       " (1196, 0.28482926),\n",
       " (780, 0.28116232),\n",
       " (2858, 0.27523997),\n",
       " (1193, 0.27268308),\n",
       " (1210, 0.26663762),\n",
       " (457, 0.2491868),\n",
       " (1573, 0.24221295),\n",
       " (1240, 0.2301282),\n",
       " (1527, 0.22514883),\n",
       " (2791, 0.21668965),\n",
       " (32, 0.21511093)]"
      ]
     },
     "execution_count": 28,
     "metadata": {},
     "output_type": "execute_result"
    }
   ],
   "source": [
    "# user 6041(hong)이 좋아할만한 영화를 추천\n",
    "user = 6041\n",
    "movie_recommended = als_model.recommend(user, csr_data, N=20, filter_already_liked_items=True)\n",
    "movie_recommended"
   ]
  },
  {
   "cell_type": "code",
   "execution_count": 32,
   "id": "7b37d604",
   "metadata": {},
   "outputs": [
    {
     "name": "stdout",
     "output_type": "stream",
     "text": [
      "Terminator 2: Judgment Day (1991)  : 0.66099983\n",
      "Braveheart (1995)  : 0.5103554\n",
      "Silence of the Lambs, The (1991)  : 0.42529738\n",
      "Total Recall (1990)  : 0.4222901\n",
      "Saving Private Ryan (1998)  : 0.35255527\n",
      "Star Wars: Episode IV - A New Hope (1977)  : 0.31358603\n",
      "Schindler's List (1993)  : 0.29884744\n",
      "Fargo (1996)  : 0.29056627\n",
      "Good Will Hunting (1997)  : 0.28488272\n",
      "Star Wars: Episode V - The Empire Strikes Back (1980)  : 0.28482926\n",
      "Independence Day (ID4) (1996)  : 0.28116232\n",
      "American Beauty (1999)  : 0.27523997\n",
      "One Flew Over the Cuckoo's Nest (1975)  : 0.27268308\n",
      "Star Wars: Episode VI - Return of the Jedi (1983)  : 0.26663762\n",
      "Fugitive, The (1993)  : 0.2491868\n",
      "Face/Off (1997)  : 0.24221295\n",
      "Terminator, The (1984)  : 0.2301282\n",
      "Fifth Element, The (1997)  : 0.22514883\n",
      "Airplane! (1980)  : 0.21668965\n",
      "Twelve Monkeys (1995)  : 0.21511093\n"
     ]
    }
   ],
   "source": [
    "# 좋아할만한 영화와 수치 장르 확인\n",
    "for i, k in movie_recommended:\n",
    "    print(movies[movies['movie_id']==i]['title'].values[0],' :',k)"
   ]
  },
  {
   "cell_type": "code",
   "execution_count": 30,
   "id": "3c9a3b47",
   "metadata": {
    "scrolled": true
   },
   "outputs": [
    {
     "data": {
      "text/html": [
       "<div>\n",
       "<style scoped>\n",
       "    .dataframe tbody tr th:only-of-type {\n",
       "        vertical-align: middle;\n",
       "    }\n",
       "\n",
       "    .dataframe tbody tr th {\n",
       "        vertical-align: top;\n",
       "    }\n",
       "\n",
       "    .dataframe thead th {\n",
       "        text-align: right;\n",
       "    }\n",
       "</style>\n",
       "<table border=\"1\" class=\"dataframe\">\n",
       "  <thead>\n",
       "    <tr style=\"text-align: right;\">\n",
       "      <th></th>\n",
       "      <th>title</th>\n",
       "      <th>genre</th>\n",
       "    </tr>\n",
       "  </thead>\n",
       "  <tbody>\n",
       "    <tr>\n",
       "      <th>31</th>\n",
       "      <td>Twelve Monkeys (1995)</td>\n",
       "      <td>Drama|Sci-Fi</td>\n",
       "    </tr>\n",
       "    <tr>\n",
       "      <th>108</th>\n",
       "      <td>Braveheart (1995)</td>\n",
       "      <td>Action|Drama|War</td>\n",
       "    </tr>\n",
       "    <tr>\n",
       "      <th>257</th>\n",
       "      <td>Star Wars: Episode IV - A New Hope (1977)</td>\n",
       "      <td>Action|Adventure|Fantasy|Sci-Fi</td>\n",
       "    </tr>\n",
       "    <tr>\n",
       "      <th>453</th>\n",
       "      <td>Fugitive, The (1993)</td>\n",
       "      <td>Action|Thriller</td>\n",
       "    </tr>\n",
       "    <tr>\n",
       "      <th>523</th>\n",
       "      <td>Schindler's List (1993)</td>\n",
       "      <td>Drama|War</td>\n",
       "    </tr>\n",
       "    <tr>\n",
       "      <th>585</th>\n",
       "      <td>Terminator 2: Judgment Day (1991)</td>\n",
       "      <td>Action|Sci-Fi|Thriller</td>\n",
       "    </tr>\n",
       "    <tr>\n",
       "      <th>589</th>\n",
       "      <td>Silence of the Lambs, The (1991)</td>\n",
       "      <td>Drama|Thriller</td>\n",
       "    </tr>\n",
       "    <tr>\n",
       "      <th>604</th>\n",
       "      <td>Fargo (1996)</td>\n",
       "      <td>Crime|Drama|Thriller</td>\n",
       "    </tr>\n",
       "    <tr>\n",
       "      <th>770</th>\n",
       "      <td>Independence Day (ID4) (1996)</td>\n",
       "      <td>Action|Sci-Fi|War</td>\n",
       "    </tr>\n",
       "    <tr>\n",
       "      <th>1176</th>\n",
       "      <td>One Flew Over the Cuckoo's Nest (1975)</td>\n",
       "      <td>Drama</td>\n",
       "    </tr>\n",
       "    <tr>\n",
       "      <th>1178</th>\n",
       "      <td>Star Wars: Episode V - The Empire Strikes Back...</td>\n",
       "      <td>Action|Adventure|Drama|Sci-Fi|War</td>\n",
       "    </tr>\n",
       "    <tr>\n",
       "      <th>1192</th>\n",
       "      <td>Star Wars: Episode VI - Return of the Jedi (1983)</td>\n",
       "      <td>Action|Adventure|Romance|Sci-Fi|War</td>\n",
       "    </tr>\n",
       "    <tr>\n",
       "      <th>1220</th>\n",
       "      <td>Terminator, The (1984)</td>\n",
       "      <td>Action|Sci-Fi|Thriller</td>\n",
       "    </tr>\n",
       "    <tr>\n",
       "      <th>1491</th>\n",
       "      <td>Fifth Element, The (1997)</td>\n",
       "      <td>Action|Sci-Fi</td>\n",
       "    </tr>\n",
       "    <tr>\n",
       "      <th>1533</th>\n",
       "      <td>Face/Off (1997)</td>\n",
       "      <td>Action|Sci-Fi|Thriller</td>\n",
       "    </tr>\n",
       "    <tr>\n",
       "      <th>1656</th>\n",
       "      <td>Good Will Hunting (1997)</td>\n",
       "      <td>Drama</td>\n",
       "    </tr>\n",
       "    <tr>\n",
       "      <th>1959</th>\n",
       "      <td>Saving Private Ryan (1998)</td>\n",
       "      <td>Action|Drama|War</td>\n",
       "    </tr>\n",
       "    <tr>\n",
       "      <th>2722</th>\n",
       "      <td>Airplane! (1980)</td>\n",
       "      <td>Comedy</td>\n",
       "    </tr>\n",
       "    <tr>\n",
       "      <th>2789</th>\n",
       "      <td>American Beauty (1999)</td>\n",
       "      <td>Comedy|Drama</td>\n",
       "    </tr>\n",
       "    <tr>\n",
       "      <th>2847</th>\n",
       "      <td>Total Recall (1990)</td>\n",
       "      <td>Action|Adventure|Sci-Fi|Thriller</td>\n",
       "    </tr>\n",
       "  </tbody>\n",
       "</table>\n",
       "</div>"
      ],
      "text/plain": [
       "                                                  title  \\\n",
       "31                                Twelve Monkeys (1995)   \n",
       "108                                   Braveheart (1995)   \n",
       "257           Star Wars: Episode IV - A New Hope (1977)   \n",
       "453                                Fugitive, The (1993)   \n",
       "523                             Schindler's List (1993)   \n",
       "585                   Terminator 2: Judgment Day (1991)   \n",
       "589                    Silence of the Lambs, The (1991)   \n",
       "604                                        Fargo (1996)   \n",
       "770                       Independence Day (ID4) (1996)   \n",
       "1176             One Flew Over the Cuckoo's Nest (1975)   \n",
       "1178  Star Wars: Episode V - The Empire Strikes Back...   \n",
       "1192  Star Wars: Episode VI - Return of the Jedi (1983)   \n",
       "1220                             Terminator, The (1984)   \n",
       "1491                          Fifth Element, The (1997)   \n",
       "1533                                    Face/Off (1997)   \n",
       "1656                           Good Will Hunting (1997)   \n",
       "1959                         Saving Private Ryan (1998)   \n",
       "2722                                   Airplane! (1980)   \n",
       "2789                             American Beauty (1999)   \n",
       "2847                                Total Recall (1990)   \n",
       "\n",
       "                                    genre  \n",
       "31                           Drama|Sci-Fi  \n",
       "108                      Action|Drama|War  \n",
       "257       Action|Adventure|Fantasy|Sci-Fi  \n",
       "453                       Action|Thriller  \n",
       "523                             Drama|War  \n",
       "585                Action|Sci-Fi|Thriller  \n",
       "589                        Drama|Thriller  \n",
       "604                  Crime|Drama|Thriller  \n",
       "770                     Action|Sci-Fi|War  \n",
       "1176                                Drama  \n",
       "1178    Action|Adventure|Drama|Sci-Fi|War  \n",
       "1192  Action|Adventure|Romance|Sci-Fi|War  \n",
       "1220               Action|Sci-Fi|Thriller  \n",
       "1491                        Action|Sci-Fi  \n",
       "1533               Action|Sci-Fi|Thriller  \n",
       "1656                                Drama  \n",
       "1959                     Action|Drama|War  \n",
       "2722                               Comedy  \n",
       "2789                         Comedy|Drama  \n",
       "2847     Action|Adventure|Sci-Fi|Thriller  "
      ]
     },
     "execution_count": 30,
     "metadata": {},
     "output_type": "execute_result"
    }
   ],
   "source": [
    "movies[movies['movie_id'].isin([m[0] for m in movie_recommended])][['title','genre']]"
   ]
  },
  {
   "cell_type": "markdown",
   "id": "ee99ccae",
   "metadata": {},
   "source": [
    "## 09. 회고"
   ]
  },
  {
   "cell_type": "markdown",
   "id": "f6feb73e",
   "metadata": {},
   "source": [
    "1. factor 와 iteration\n",
    "    - 학습시 두개의 값을 높이니 처음 선정해놓은 5개의 값들은 올라갔지만 그 외에는 점수가 낮아졌다.\n",
    "    - 적절한 parameter를 정하는 것이 중요하다는 생각이 들엇다. 하지만 선호도라는 것이 사람의 마음이고 수치로 표현하는 것이 애매하다보니 어떻게 피드백을 받고 수정을 해가야할까 의문이 들었다.\n",
    "\n",
    "2. Series, Pandas\n",
    "    - Series와 Pandas 다루는 것은 아직도 낯설고 마음대로 다루지 못했다. 코딩테스트에서 준비했던 자료구조와 리스트와는 다르다. data를 어떻게 다룰지에대해서는 혼자서 해보고 많이 부딪혀봐야겠다.\n",
    "    \n",
    "3. 성능\n",
    "    - 비슷한 영화와 내가 선택한 영화를 기반으로 재밌어 할만한 영화들을 추천해줬다. 추천해준 영화들을 보면 장르와 많은 연관이 있었다. 런타임시간, 시간대 등의 정보가 더 있으면 재밌는 결과가 나올 것이라는 생각이 들었다."
   ]
  }
 ],
 "metadata": {
  "kernelspec": {
   "display_name": "Python 3 (ipykernel)",
   "language": "python",
   "name": "python3"
  },
  "language_info": {
   "codemirror_mode": {
    "name": "ipython",
    "version": 3
   },
   "file_extension": ".py",
   "mimetype": "text/x-python",
   "name": "python",
   "nbconvert_exporter": "python",
   "pygments_lexer": "ipython3",
   "version": "3.9.7"
  }
 },
 "nbformat": 4,
 "nbformat_minor": 5
}
