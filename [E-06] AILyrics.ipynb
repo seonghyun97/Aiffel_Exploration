{
 "cells": [
  {
   "cell_type": "markdown",
   "id": "86c46e1e",
   "metadata": {},
   "source": [
    "# [E-06] 작사가 인공지능 만들기"
   ]
  },
  {
   "cell_type": "markdown",
   "id": "8041c3c3",
   "metadata": {},
   "source": [
    "- 목차\n",
    "    - **00. import and define function**\n",
    "    - **01. Data**\n",
    "        - **01-1. data 읽어오기**\n",
    "        - **01-2. data 정제**\n",
    "        - **01-3. 평가 dataset 분리**\n",
    "    - **02. Model**\n",
    "    - **03. 평가**\n",
    "    - **04. 회고**\n",
    "    - **05. 참고**"
   ]
  },
  {
   "cell_type": "markdown",
   "id": "aca8423c",
   "metadata": {},
   "source": [
    "**문장 data를 정제하고 tokenize하고 LSTM 모델과 노래가사 데이터셋을 사용하여 작사가 인공지능을 만들어보는 프로젝트**"
   ]
  },
  {
   "cell_type": "markdown",
   "id": "25fe7f3e",
   "metadata": {},
   "source": [
    "## 00. import and define function"
   ]
  },
  {
   "cell_type": "code",
   "execution_count": 1,
   "id": "7b60f104",
   "metadata": {},
   "outputs": [],
   "source": [
    "import glob\n",
    "import os\n",
    "import re\n",
    "import tensorflow as tf\n",
    "from sklearn.model_selection import train_test_split\n",
    "\n",
    "\"\"\"입력된 문장을 순서대로 정제 처리해준다.\"\"\"\n",
    "def preprocess_sentence(sentence):\n",
    "    sentence = sentence.lower().strip() # 소문자로 바꾸고, 양쪽 공백을 지웁니다\n",
    "    sentence = re.sub(r\"([?.!,¿])\", r\" \\1 \", sentence) # 특수문자 양쪽에 공백을 넣고\n",
    "    sentence = re.sub(r'[\" \"]+', \" \", sentence)# 여러개의 공백은 하나의 공백으로 바꿉니다\n",
    "    #sentence = re.sub(r\"\\[[^]]*\\]\", \"\", sentence)# 대괄호 없애기\n",
    "    #sentence = re.sub(r\"\\{[^}]*\\}\", \"\", sentence)# 중괄호 없애기\n",
    "    sentence = re.sub(r\"[^a-zA-Z?.!,¿]+\", \" \", sentence) # a-zA-Z?.!,¿가 아닌 모든 문자를 하나의 공백으로 바꿉니다\n",
    "    sentence = sentence.strip() # 다시 양쪽 공백을 지웁니다\n",
    "    sentence = '<start> ' + sentence + ' <end>' # 문장 시작에는 <start>, 끝에는 <end>를 추가합니다\n",
    "    return sentence\n",
    "\n",
    "\n",
    "'''토큰화 할 때 텐서플로우의 Tokenizer와 pad_sequences를 사용합니다'''\n",
    "def tokenize(corpus):\n",
    "    # 15000단어를 기억할 수 있는 tokenizer를 만들겁니다\n",
    "    # 우리는 이미 문장을 정제했으니 filters가 필요없어요\n",
    "    # 15000단어에 포함되지 못한 단어는 '<unk>'로 바꿀거에요\n",
    "    tokenizer = tf.keras.preprocessing.text.Tokenizer(\n",
    "        num_words = 15000, \n",
    "        filters=' ',\n",
    "        oov_token=\"<unk>\"\n",
    "    )\n",
    "    # corpus를 이용해 tokenizer 내부의 단어장을 완성합니다\n",
    "    tokenizer.fit_on_texts(corpus)\n",
    "    # 준비한 tokenizer를 이용해 corpus를 Tensor로 변환합니다\n",
    "    tensor = tokenizer.texts_to_sequences(corpus)   \n",
    "    # 입력 데이터의 시퀀스 길이를 일정하게 맞춰줍니다\n",
    "    # 만약 시퀀스가 짧다면 문장 뒤에 패딩을 붙여 길이를 맞춰줍니다.\n",
    "    # 문장 앞에 패딩을 붙여 길이를 맞추고 싶다면 padding='pre'를 사용합니다\n",
    "    tensor = tf.keras.preprocessing.sequence.pad_sequences(tensor, padding='post', maxlen = 15)  \n",
    "    \n",
    "    print(tensor,tokenizer)\n",
    "    return tensor, tokenizer\n",
    "\n",
    "\n",
    "'''단어 하나씩 예측해 문장을 만듭니다'''\n",
    "def generate_text(model, tokenizer, init_sentence=\"<start>\", max_len=15):\n",
    "    # 테스트를 위해서 입력받은 init_sentence도 텐서로 변환합니다\n",
    "    test_input = tokenizer.texts_to_sequences([init_sentence])\n",
    "    test_tensor = tf.convert_to_tensor(test_input, dtype=tf.int64)\n",
    "    end_token = tokenizer.word_index[\"<end>\"]\n",
    "\n",
    "    while True:\n",
    "        # 입력받은 문장의 텐서를 입력합니다\n",
    "        predict = model(test_tensor) \n",
    "        # 예측된 값 중 가장 높은 확률인 word index를 뽑아냅니다\n",
    "        predict_word = tf.argmax(tf.nn.softmax(predict, axis=-1), axis=-1)[:, -1] \n",
    "        # 예측된 word index를 문장 뒤에 붙입니다 \n",
    "        test_tensor = tf.concat([test_tensor, tf.expand_dims(predict_word, axis=0)], axis=-1)\n",
    "        # 모델이 <end>를 예측했거나, max_len에 도달했다면 문장 생성을 마칩니다\n",
    "        if predict_word.numpy()[0] == end_token: break\n",
    "        if test_tensor.shape[1] >= max_len: break\n",
    "\n",
    "    generated = \"\"\n",
    "    # tokenizer를 이용해 word index를 단어로 하나씩 변환합니다 \n",
    "    for word_index in test_tensor[0].numpy():\n",
    "        generated += tokenizer.index_word[word_index] + \" \"\n",
    "\n",
    "    return generated"
   ]
  },
  {
   "cell_type": "markdown",
   "id": "a5eb39d0",
   "metadata": {},
   "source": [
    "## 01. Data"
   ]
  },
  {
   "cell_type": "markdown",
   "id": "f72ea393",
   "metadata": {},
   "source": [
    "### 01-1. data 읽어오기"
   ]
  },
  {
   "cell_type": "code",
   "execution_count": 2,
   "id": "dae39c48",
   "metadata": {},
   "outputs": [
    {
     "name": "stdout",
     "output_type": "stream",
     "text": [
      "데이터 크기: 187088\n",
      "Examples:\n",
      " [\"Busted flat in Baton Rouge, waitin' for a train\", \"And I's feelin' near as faded as my jeans\", 'Bobby thumbed a diesel down, just before it rained']\n"
     ]
    }
   ],
   "source": [
    "txt_file_path = os.getenv('HOME')+'/aiffel/lyricist/data/lyrics/*'\n",
    "txt_list = glob.glob(txt_file_path)\n",
    "\n",
    "raw_corpus = []\n",
    "\n",
    "# 여러개의 txt 파일을 모두 읽어서 raw_corpus 에 담습니다.\n",
    "for txt_file in txt_list:\n",
    "    with open(txt_file, \"r\") as f:\n",
    "        raw = f.read().splitlines()\n",
    "        raw_corpus.extend(raw)\n",
    "\n",
    "print(\"데이터 크기:\", len(raw_corpus))\n",
    "print(\"Examples:\\n\", raw_corpus[:3])"
   ]
  },
  {
   "cell_type": "markdown",
   "id": "c9280b49",
   "metadata": {},
   "source": [
    "### 01-2. data 정제"
   ]
  },
  {
   "cell_type": "code",
   "execution_count": 3,
   "id": "4b39ea74",
   "metadata": {},
   "outputs": [
    {
     "data": {
      "text/plain": [
       "['<start> busted flat in baton rouge , waitin for a train <end>',\n",
       " '<start> and i s feelin near as faded as my jeans <end>',\n",
       " '<start> bobby thumbed a diesel down , just before it rained <end>',\n",
       " '<start> i was playin soft while bobby sang the blues , yeah <end>',\n",
       " '<start> windshield wipers slappin time , i was holdin bobby s hand in mine <end>',\n",
       " '<start> you know , feelin good was good enough for me <end>',\n",
       " '<start> there bobby shared the secrets of my soul <end>',\n",
       " '<start> through all kinds of weather , through everything we done <end>',\n",
       " '<start> he s lookin for that home , and i hope he finds it <end>',\n",
       " '<start> nothin , that s all that bobby left me , yeah <end>']"
      ]
     },
     "execution_count": 3,
     "metadata": {},
     "output_type": "execute_result"
    }
   ],
   "source": [
    "# 여기에 정제된 문장을 모을겁니다\n",
    "corpus = []\n",
    "\n",
    "for sentence in raw_corpus:\n",
    "    # 우리가 원하지 않는 문장은 건너뜁니다\n",
    "    if len(sentence) == 0: continue\n",
    "    if sentence[-1] == \"]\": continue # ']'로 끝나는 파트는 무의미하니 pass\n",
    "    \n",
    "    \n",
    "    # 정제를 list에 추가\n",
    "    preprocessed_sentence = preprocess_sentence(sentence)\n",
    "    #길이 15이상인 토큰 제외\n",
    "    if len(preprocessed_sentence.split()) > 15: continue\n",
    "    corpus.append(preprocessed_sentence)\n",
    "\n",
    "# 중복데이터 제거\n",
    "# print(len(corpus))    \n",
    "# corpus = list(set(corpus))\n",
    "# print(len(corpus))\n",
    "\n",
    "# 정제된 결과를 10개만 확인해보죠\n",
    "corpus[:10]"
   ]
  },
  {
   "cell_type": "markdown",
   "id": "9e1b4f10",
   "metadata": {},
   "source": [
    "### 01-3. 평가 데이터셋 분리"
   ]
  },
  {
   "cell_type": "code",
   "execution_count": 4,
   "id": "816605e4",
   "metadata": {
    "scrolled": true
   },
   "outputs": [
    {
     "name": "stdout",
     "output_type": "stream",
     "text": [
      "[[   2 3991 1671 ...    0    0    0]\n",
      " [   2    8    4 ...    0    0    0]\n",
      " [   2  887 6793 ...    0    0    0]\n",
      " ...\n",
      " [   2 4748    5 ...    0    0    0]\n",
      " [   2   22   22 ...    3    0    0]\n",
      " [   2    3    0 ...    0    0    0]] <keras_preprocessing.text.Tokenizer object at 0x7f10062b26d0>\n"
     ]
    }
   ],
   "source": [
    "tensor, tokenizer = tokenize(corpus)"
   ]
  },
  {
   "cell_type": "code",
   "execution_count": 5,
   "id": "baa82210",
   "metadata": {},
   "outputs": [
    {
     "name": "stdout",
     "output_type": "stream",
     "text": [
      "1 : <unk>\n",
      "2 : <start>\n",
      "3 : <end>\n",
      "4 : i\n",
      "5 : ,\n",
      "6 : the\n",
      "7 : you\n",
      "8 : and\n",
      "9 : a\n",
      "10 : to\n"
     ]
    }
   ],
   "source": [
    "for idx in tokenizer.index_word:\n",
    "    print(idx, \":\", tokenizer.index_word[idx])\n",
    "\n",
    "    if idx >= 10: break"
   ]
  },
  {
   "cell_type": "code",
   "execution_count": 6,
   "id": "38b3c225",
   "metadata": {
    "scrolled": true
   },
   "outputs": [
    {
     "name": "stdout",
     "output_type": "stream",
     "text": [
      "[    2  3991  1671    14 12414  4458     5  1288    28     9   634     3\n",
      "     0     0]\n",
      "[ 3991  1671    14 12414  4458     5  1288    28     9   634     3     0\n",
      "     0     0]\n"
     ]
    }
   ],
   "source": [
    "# tensor에서 마지막 토큰을 잘라내서 소스 문장을 생성합니다\n",
    "# 마지막 토큰은 <end>가 아니라 <pad>일 가능성이 높습니다.\n",
    "src_input = tensor[:, :-1]  \n",
    "# tensor에서 <start>를 잘라내서 타겟 문장을 생성합니다.\n",
    "tgt_input = tensor[:, 1:]    \n",
    "\n",
    "print(src_input[0])\n",
    "print(tgt_input[0])"
   ]
  },
  {
   "cell_type": "code",
   "execution_count": 7,
   "id": "8d5ec4fc",
   "metadata": {},
   "outputs": [],
   "source": [
    "BUFFER_SIZE = len(src_input)\n",
    "BATCH_SIZE = 256\n",
    "steps_per_epoch = len(src_input) // BATCH_SIZE\n",
    "\n",
    " # tokenizer가 구축한 단어사전 내 12000개와, 여기  않은 0:<pad>를 포함하여 12001개\n",
    "VOCAB_SIZE = tokenizer.num_words + 1   \n",
    "\n",
    "# Train, val data 분리\n",
    "X_train, X_val, y_train, y_val = train_test_split(src_input, tgt_input, test_size=0.2, random_state=1997)\n",
    "\n",
    "\n",
    "# 준비한 데이터 소스로부터 데이터셋을 만듭니다\n",
    "train_dataset = tf.data.Dataset.from_tensor_slices((X_train, y_train))\n",
    "train_dataset = train_dataset.shuffle(BUFFER_SIZE)\n",
    "train_dataset = train_dataset.batch(BATCH_SIZE, drop_remainder=True)\n",
    "\n",
    "val_dataset = tf.data.Dataset.from_tensor_slices((X_val, y_val))\n",
    "val_dataset = val_dataset.shuffle(BUFFER_SIZE)\n",
    "val_dataset = val_dataset.batch(BATCH_SIZE, drop_remainder=True)"
   ]
  },
  {
   "cell_type": "code",
   "execution_count": 8,
   "id": "42d26ea6",
   "metadata": {},
   "outputs": [
    {
     "name": "stdout",
     "output_type": "stream",
     "text": [
      "(124076, 14)\n",
      "(124076, 14)\n"
     ]
    }
   ],
   "source": [
    "print(X_train.shape)\n",
    "print(y_train.shape)"
   ]
  },
  {
   "cell_type": "code",
   "execution_count": 9,
   "id": "b642a3c5",
   "metadata": {},
   "outputs": [
    {
     "name": "stdout",
     "output_type": "stream",
     "text": [
      "(31020, 14)\n",
      "(31020, 14)\n"
     ]
    }
   ],
   "source": [
    "print(X_val.shape)\n",
    "print(y_val.shape)"
   ]
  },
  {
   "cell_type": "code",
   "execution_count": 10,
   "id": "925f1655",
   "metadata": {},
   "outputs": [
    {
     "data": {
      "text/plain": [
       "<BatchDataset shapes: ((256, 14), (256, 14)), types: (tf.int32, tf.int32)>"
      ]
     },
     "execution_count": 10,
     "metadata": {},
     "output_type": "execute_result"
    }
   ],
   "source": [
    "train_dataset"
   ]
  },
  {
   "cell_type": "code",
   "execution_count": 11,
   "id": "4232df7c",
   "metadata": {},
   "outputs": [
    {
     "data": {
      "text/plain": [
       "<BatchDataset shapes: ((256, 14), (256, 14)), types: (tf.int32, tf.int32)>"
      ]
     },
     "execution_count": 11,
     "metadata": {},
     "output_type": "execute_result"
    }
   ],
   "source": [
    "val_dataset"
   ]
  },
  {
   "cell_type": "markdown",
   "id": "4d05a90b",
   "metadata": {},
   "source": [
    "## 02. Model"
   ]
  },
  {
   "cell_type": "code",
   "execution_count": 12,
   "id": "a39437e9",
   "metadata": {},
   "outputs": [],
   "source": [
    "'''우리가 만들 모델의 구조'''\n",
    "'''tf.keras.Model을 Subclassing하는 방식으로 만들 것입니다. \n",
    "위 그림에서 설명한 것처럼 우리가 만들 모델에는 1개의 Embedding 레이어, 2개의 LSTM 레이어, 1개의 Dense 레이어'''\n",
    "class TextGenerator(tf.keras.Model):\n",
    "    \n",
    "    # layer 초기화\n",
    "    def __init__(self, vocab_size, embedding_size, hidden_size):\n",
    "        super().__init__()\n",
    "        \n",
    "        self.embedding = tf.keras.layers.Embedding(vocab_size, embedding_size)\n",
    "        self.rnn_1 = tf.keras.layers.LSTM(hidden_size, return_sequences=True)\n",
    "        #self.drop_1 = tf.keras.layers.Dropout(0.3)\n",
    "        self.rnn_2 = tf.keras.layers.LSTM(hidden_size, return_sequences=True)\n",
    "        self.linear = tf.keras.layers.Dense(vocab_size)\n",
    "    \n",
    "    # layer 호출\n",
    "    def call(self, x):\n",
    "        out = self.embedding(x)\n",
    "        out = self.rnn_1(out)\n",
    "        #out = self.drop_1(out)\n",
    "        out = self.rnn_2(out)\n",
    "        out = self.linear(out)\n",
    "        \n",
    "        return out\n",
    "    \n"
   ]
  },
  {
   "cell_type": "code",
   "execution_count": 13,
   "id": "c1ef9d2f",
   "metadata": {},
   "outputs": [],
   "source": [
    "embedding_size = 800\n",
    "hidden_size = 3000\n",
    "model = TextGenerator(tokenizer.num_words + 1, embedding_size , hidden_size)"
   ]
  },
  {
   "cell_type": "code",
   "execution_count": 14,
   "id": "87aa783b",
   "metadata": {},
   "outputs": [
    {
     "data": {
      "text/plain": [
       "<tf.Tensor: shape=(256, 14, 15001), dtype=float32, numpy=\n",
       "array([[[ 2.0228869e-04, -3.6297781e-05, -1.6962807e-04, ...,\n",
       "         -2.6678297e-04,  8.7000393e-05, -2.3602939e-04],\n",
       "        [ 5.0553540e-04,  2.1979386e-04, -4.6597485e-04, ...,\n",
       "         -6.5301009e-04,  2.7831859e-04, -5.9658015e-04],\n",
       "        [ 7.9642638e-04,  4.3675763e-04, -9.3575963e-04, ...,\n",
       "         -7.1755238e-04,  5.4334214e-05, -9.0531190e-04],\n",
       "        ...,\n",
       "        [ 5.7884917e-04, -1.1891708e-03, -2.8024102e-04, ...,\n",
       "          1.6349446e-03, -7.4963627e-04, -2.3447357e-04],\n",
       "        [ 7.1959844e-04, -1.5398117e-03,  1.8826908e-04, ...,\n",
       "          1.3279587e-03, -5.2409642e-04, -3.1582417e-04],\n",
       "        [ 7.9232361e-04, -1.8716997e-03,  6.7887537e-04, ...,\n",
       "          9.5029990e-04, -3.1808362e-04, -4.2760384e-04]],\n",
       "\n",
       "       [[ 2.0228869e-04, -3.6297781e-05, -1.6962807e-04, ...,\n",
       "         -2.6678297e-04,  8.7000393e-05, -2.3602939e-04],\n",
       "        [ 2.3119604e-04, -6.3900402e-06, -3.6997689e-04, ...,\n",
       "         -8.3849474e-05,  7.5834029e-04, -6.5829646e-04],\n",
       "        [ 3.6211943e-04, -6.2797881e-05, -8.4102870e-04, ...,\n",
       "          6.7155583e-05,  1.1563343e-03, -8.0437463e-04],\n",
       "        ...,\n",
       "        [ 1.1641319e-04, -8.0331112e-04,  9.8079664e-04, ...,\n",
       "         -1.0840334e-03, -9.4035343e-04, -1.9095110e-05],\n",
       "        [ 9.2018476e-05, -1.2804109e-03,  1.3822762e-03, ...,\n",
       "         -1.3174919e-03, -7.7110325e-04, -1.8727807e-04],\n",
       "        [-4.0615309e-06, -1.6932631e-03,  1.7279142e-03, ...,\n",
       "         -1.5163901e-03, -6.2202656e-04, -3.8355717e-04]],\n",
       "\n",
       "       [[ 2.0228869e-04, -3.6297781e-05, -1.6962807e-04, ...,\n",
       "         -2.6678297e-04,  8.7000393e-05, -2.3602939e-04],\n",
       "        [ 6.1931135e-04, -4.7170772e-05, -6.3910196e-04, ...,\n",
       "         -5.6344819e-05,  2.4742086e-04, -5.6963071e-04],\n",
       "        [ 9.7555335e-04,  1.1586680e-04, -5.6350790e-04, ...,\n",
       "         -4.3371209e-04,  5.5782031e-04, -4.6118099e-04],\n",
       "        ...,\n",
       "        [ 5.7769771e-04, -2.5701991e-03,  1.2511171e-03, ...,\n",
       "         -1.1345595e-03,  1.7900186e-03, -3.4958698e-04],\n",
       "        [ 2.6557595e-04, -2.7500798e-03,  1.5248564e-03, ...,\n",
       "         -1.2358617e-03,  1.7264836e-03, -5.3140084e-04],\n",
       "        [-6.1490980e-05, -2.8755798e-03,  1.7235193e-03, ...,\n",
       "         -1.3227012e-03,  1.6375061e-03, -7.1175053e-04]],\n",
       "\n",
       "       ...,\n",
       "\n",
       "       [[ 2.0228869e-04, -3.6297781e-05, -1.6962807e-04, ...,\n",
       "         -2.6678297e-04,  8.7000393e-05, -2.3602939e-04],\n",
       "        [ 2.6191618e-05,  2.4950423e-04, -6.3320156e-05, ...,\n",
       "         -2.9991183e-04,  8.0868958e-05, -5.7416392e-04],\n",
       "        [-1.3396390e-04,  3.5488440e-04,  7.9875899e-06, ...,\n",
       "         -9.0159307e-04,  2.0628741e-04, -8.0325519e-04],\n",
       "        ...,\n",
       "        [-3.6291787e-04, -1.1823121e-03,  2.0105366e-03, ...,\n",
       "         -1.1941163e-03,  4.5781111e-05, -9.1042463e-04],\n",
       "        [-4.3031768e-04, -1.4768088e-03,  2.2241289e-03, ...,\n",
       "         -1.2890619e-03,  7.6321994e-05, -1.0446592e-03],\n",
       "        [-5.5774627e-04, -1.7233756e-03,  2.3493723e-03, ...,\n",
       "         -1.3614825e-03,  1.0549235e-04, -1.1790345e-03]],\n",
       "\n",
       "       [[ 2.0228869e-04, -3.6297781e-05, -1.6962807e-04, ...,\n",
       "         -2.6678297e-04,  8.7000393e-05, -2.3602939e-04],\n",
       "        [ 5.2558538e-04, -2.0365314e-05, -8.2775572e-04, ...,\n",
       "         -4.6139746e-04,  1.2655882e-04, -4.4622750e-04],\n",
       "        [ 6.5140007e-04, -2.3982851e-04, -1.3054245e-03, ...,\n",
       "         -4.1522030e-04, -2.1422227e-04, -5.7416159e-04],\n",
       "        ...,\n",
       "        [ 1.3373685e-03, -2.5139011e-03, -4.8871100e-04, ...,\n",
       "         -9.3213044e-04,  6.1317653e-05, -1.4676573e-03],\n",
       "        [ 1.0688878e-03, -2.7454034e-03,  1.5703417e-04, ...,\n",
       "         -1.0737187e-03,  1.3322603e-04, -1.6082354e-03],\n",
       "        [ 7.4937323e-04, -2.9109905e-03,  6.9268647e-04, ...,\n",
       "         -1.1996382e-03,  1.7361756e-04, -1.7383927e-03]],\n",
       "\n",
       "       [[ 2.0228869e-04, -3.6297781e-05, -1.6962807e-04, ...,\n",
       "         -2.6678297e-04,  8.7000393e-05, -2.3602939e-04],\n",
       "        [ 3.1814812e-04, -2.2509246e-04, -1.8921046e-04, ...,\n",
       "         -4.1554461e-04, -1.5135923e-04, -2.7591063e-04],\n",
       "        [ 4.8584462e-04, -3.5511004e-04, -3.9600956e-05, ...,\n",
       "         -7.7198306e-04, -4.4785390e-04, -4.6120357e-04],\n",
       "        ...,\n",
       "        [-1.0045836e-05, -2.0773162e-03,  1.6864770e-03, ...,\n",
       "         -7.8394829e-04,  5.6094981e-05, -9.0633181e-04],\n",
       "        [-2.4657353e-04, -2.2997090e-03,  1.9038070e-03, ...,\n",
       "         -9.6885388e-04,  1.5919880e-04, -1.0831169e-03],\n",
       "        [-4.9755524e-04, -2.4743804e-03,  2.0525071e-03, ...,\n",
       "         -1.1185916e-03,  2.3858747e-04, -1.2431010e-03]]], dtype=float32)>"
      ]
     },
     "execution_count": 14,
     "metadata": {},
     "output_type": "execute_result"
    }
   ],
   "source": [
    "# 데이터셋에서 데이터 한 배치만 불러오는 방법입니다.\n",
    "for src_sample, tgt_sample in train_dataset.take(1): break\n",
    "\n",
    "# 한 배치만 불러온 데이터를 모델에 넣어봅니다\n",
    "model(src_sample)"
   ]
  },
  {
   "cell_type": "code",
   "execution_count": 15,
   "id": "00ebf3f0",
   "metadata": {},
   "outputs": [
    {
     "name": "stdout",
     "output_type": "stream",
     "text": [
      "Model: \"text_generator\"\n",
      "_________________________________________________________________\n",
      "Layer (type)                 Output Shape              Param #   \n",
      "=================================================================\n",
      "embedding (Embedding)        multiple                  12000800  \n",
      "_________________________________________________________________\n",
      "lstm (LSTM)                  multiple                  45612000  \n",
      "_________________________________________________________________\n",
      "lstm_1 (LSTM)                multiple                  72012000  \n",
      "_________________________________________________________________\n",
      "dense (Dense)                multiple                  45018001  \n",
      "=================================================================\n",
      "Total params: 174,642,801\n",
      "Trainable params: 174,642,801\n",
      "Non-trainable params: 0\n",
      "_________________________________________________________________\n"
     ]
    }
   ],
   "source": [
    "model.summary()"
   ]
  },
  {
   "cell_type": "markdown",
   "id": "a080ec4b",
   "metadata": {},
   "source": [
    "## 03. 평가"
   ]
  },
  {
   "cell_type": "code",
   "execution_count": 16,
   "id": "bacd4b2b",
   "metadata": {},
   "outputs": [],
   "source": [
    "# model의 optimizer, loss, metrics를 정해줍니다.\n",
    "model.compile(\n",
    "    optimizer=tf.keras.optimizers.Adam(),\n",
    "    loss=tf.keras.losses.SparseCategoricalCrossentropy(from_logits=True, reduction='none'),\n",
    "    metrics=[tf.keras.metrics.SparseCategoricalAccuracy()])"
   ]
  },
  {
   "cell_type": "code",
   "execution_count": 17,
   "id": "e5379d4d",
   "metadata": {
    "scrolled": false
   },
   "outputs": [
    {
     "name": "stdout",
     "output_type": "stream",
     "text": [
      "Epoch 1/7\n",
      "484/484 [==============================] - 609s 1s/step - loss: 3.3049 - sparse_categorical_accuracy: 0.5017 - val_loss: 2.9381 - val_sparse_categorical_accuracy: 0.5284\n",
      "Epoch 2/7\n",
      "484/484 [==============================] - 608s 1s/step - loss: 2.7563 - sparse_categorical_accuracy: 0.5417 - val_loss: 2.6971 - val_sparse_categorical_accuracy: 0.5501\n",
      "Epoch 3/7\n",
      "484/484 [==============================] - 608s 1s/step - loss: 2.4361 - sparse_categorical_accuracy: 0.5691 - val_loss: 2.5151 - val_sparse_categorical_accuracy: 0.5729\n",
      "Epoch 4/7\n",
      "484/484 [==============================] - 609s 1s/step - loss: 2.1175 - sparse_categorical_accuracy: 0.6052 - val_loss: 2.3762 - val_sparse_categorical_accuracy: 0.5979\n",
      "Epoch 5/7\n",
      "484/484 [==============================] - 610s 1s/step - loss: 1.8063 - sparse_categorical_accuracy: 0.6503 - val_loss: 2.2727 - val_sparse_categorical_accuracy: 0.6204\n",
      "Epoch 6/7\n",
      "484/484 [==============================] - 610s 1s/step - loss: 1.5282 - sparse_categorical_accuracy: 0.6992 - val_loss: 2.2053 - val_sparse_categorical_accuracy: 0.6402\n",
      "Epoch 7/7\n",
      "484/484 [==============================] - 610s 1s/step - loss: 1.3008 - sparse_categorical_accuracy: 0.7437 - val_loss: 2.1769 - val_sparse_categorical_accuracy: 0.6567\n"
     ]
    }
   ],
   "source": [
    "# modeld을 훈련시키며 loss와 accurancy를 history에 저장해놓습니다.\n",
    "history = model.fit(train_dataset,\n",
    "            epochs=7,\n",
    "            batch_size=256,\n",
    "            validation_data=val_dataset,\n",
    "            verbose=1)"
   ]
  },
  {
   "cell_type": "code",
   "execution_count": 18,
   "id": "f7661981",
   "metadata": {},
   "outputs": [
    {
     "data": {
      "image/png": "[encoded data removed]",
      "text/plain": [
       "<Figure size 1080x576 with 2 Axes>"
      ]
     },
     "metadata": {
      "needs_background": "light"
     },
     "output_type": "display_data"
    }
   ],
   "source": [
    "import matplotlib.pyplot as plt\n",
    "plt.figure(figsize=(15,8))\n",
    "\n",
    "# 훈련 과정 시각화 (정확도)\n",
    "plt.subplot(1, 2, 1)  \n",
    "plt.plot(history.history['sparse_categorical_accuracy'])\n",
    "plt.plot(history.history['val_sparse_categorical_accuracy'])\n",
    "plt.title('Model accuracy')\n",
    "plt.xlabel('Epoch')\n",
    "plt.ylabel('Accuracy')\n",
    "plt.legend(['Train', 'Val'], loc='upper left')\n",
    "\n",
    "plt.subplot(1, 2, 2)  \n",
    "# 훈련 과정 시각화 (손실)\n",
    "plt.plot(history.history['loss'])\n",
    "plt.plot(history.history['val_loss'])\n",
    "plt.title('Model loss')\n",
    "plt.xlabel('Epoch')\n",
    "plt.ylabel('Loss')\n",
    "plt.legend(['Train', 'Val'], loc='upper left')\n",
    "\n",
    "plt.tight_layout()\n",
    "plt.show()"
   ]
  },
  {
   "cell_type": "code",
   "execution_count": 19,
   "id": "29d6d40c",
   "metadata": {
    "scrolled": true
   },
   "outputs": [
    {
     "name": "stdout",
     "output_type": "stream",
     "text": [
      "<start> i m gonna make it alright but not right now <end> \n",
      "<start> i love the way you shake your thing <end> \n",
      "<start> i think i m ready for my close up tonight <end> \n",
      "<start> i hate to get away <end> \n"
     ]
    }
   ],
   "source": [
    "# 괜찮은 문장을 생성을 시켜보고 생성된 문자를 살펴본다.\n",
    "print(generate_text(model, tokenizer, init_sentence=\"<start> i\", max_len=20))\n",
    "print(generate_text(model, tokenizer, init_sentence=\"<start> i love\", max_len=20))\n",
    "print(generate_text(model, tokenizer, init_sentence=\"<start> i think\", max_len=20))\n",
    "print(generate_text(model, tokenizer, init_sentence=\"<start> i hate\", max_len=20))"
   ]
  },
  {
   "cell_type": "markdown",
   "id": "6728f1e4",
   "metadata": {},
   "source": [
    "재미있게 창의적인 문장을 뱉어주는 것을 확인할 수 있다."
   ]
  },
  {
   "cell_type": "markdown",
   "id": "81f8edae",
   "metadata": {},
   "source": [
    "## 04. 회고"
   ]
  },
  {
   "cell_type": "markdown",
   "id": "56c75d22",
   "metadata": {},
   "source": [
    "#### RNN의 시간문제\n",
    "> - model이 학습할 때 시간이 정말 많이 걸렸다. 한번 epoch가 한시간이 지나도 끝나지가 않았다. 왜그럴까 code를 살펴보던 중 data tokenize 과정에서 padding의 길이가 너무 길다는 생각이 들었다. 불필요한 padding을 자르고 싶어서 pad_sequence에 padding의 maxlen을 정할 수 있는 인자가 있었다. 이번 project에서 출력 문장이 20문장 내외이니 max_len을 20으로 설정하였다.\n",
    "> - data의 양을 더 줄이자니 loss율이 다시 튀어오르는 overfit가 발생하고 data를 더 늘리자니 학습에 시간이 많이 들었다. DeepLearning 공부를 할때에는 한번 짤때 code를 잘 고려해서 설계를 하고 전략적으로 hyperparameter를 설정하는 것이 중요하다는 생각이 들었다.\n",
    "> - data 정제과정에서 우리가 출력해야할 max_len에 맞게 25개 이하로 짧은 문장들만을 받으니까 속도가 많이 빨라졌다. 하지만 적은 문장을 훈련시켰을 때 loss는 낮게 나오고 실행속도는 빨랐지만 i love love love 이러한 반복되는 문장을 내뱉는 성능을 보여줬다. loss가 낮은 것만이 좋은 모델의 기준이 아니라는 것을 확인했다.\n",
    "\n",
    "#### Overfit\n",
    "> - 이번 project에서 가장 공들인 부분이었다. 루브릭 평가기준인 2.2근처에서 항상 overfit가 발생하여 위로 튀어오르는 현상이 발생하였다.\n",
    "> - dropout을 시도했다. dropout은 layer에 적용하면 훈련하는 동안 층의 출력 특성을 랜덤하게 끕니다 layer 사이에 dropout layer을 집어넣어 일부를 없애주면서 overfit가 되는 상황을 늦췄다.\n",
    "> - 결국에는 좋은 parameter를 정해주는 것이 가장 중요했다. 적절한 parameter를 찾는 것은 감으로 하는 것일까? 적절한 계산이 있는 것일까? 의문이 생겼다.\n",
    "\n",
    "#### metrics의 accurancy\n",
    "> - overfit의 상황을 더 확인해보고 싶어서 accurancy의 현황도 보고싶어서 model훈련에서 metrics에 accurancy를 주었지만 작동하지 않았다. loss 이름에 맞는 accurancy를 사용하니 작동이 되었다.\n",
    "\n",
    "#### 더 시도해보면 좋을 것\n",
    "> - optimizer의 종류가 많았다. adam이 optimizer roadmap의 끝이라고는 하지만 상황에따라 유리한 optimizer가 있다고 한다. 이번 project에서는 optimizer에대해 잘 몰라 adam을 사용했지만 다음 project에서는 상황에 맞는 optimizer을 시도해봐야겠다.\n",
    "> - optimizer 종류뿐만아니라 optimizer안에서도 learningrate와 같은 인자를 조정할 수 있었다. 실험때마다 시간이 오래걸려 해볼 염두는 못내었지만 다음에 활용할 일이 있으면 사용해봐야겠다.\n",
    "> - 훈련시간이 짧으면서 좋은 문장을 뱉어주는 model만들기가 어려웠다. 이부분이 Deeplearning을 하면서 잘 설정해야하는 방향같다."
   ]
  },
  {
   "cell_type": "markdown",
   "id": "c7f48e5b",
   "metadata": {},
   "source": [
    "## 05. 참고"
   ]
  },
  {
   "cell_type": "markdown",
   "id": "7b12cb37",
   "metadata": {},
   "source": [
    "- [history를 활용한 accurancy loss 시각화](https://codetorial.net/tensorflow/visualize_training_history.html)\n",
    "- [과적합 해결 dropout](https://www.tensorflow.org/tutorials/keras/overfit_and_underfit?hl=ko#가중치를_규제하기)\n",
    "- [다양한 optimizer의 설명과 특성](https://hiddenbeginner.github.io/deeplearning/2019/09/22/optimization_algorithms_in_deep_learning.html#RMSprop)"
   ]
  }
 ],
 "metadata": {
  "kernelspec": {
   "display_name": "Python 3 (ipykernel)",
   "language": "python",
   "name": "python3"
  },
  "language_info": {
   "codemirror_mode": {
    "name": "ipython",
    "version": 3
   },
   "file_extension": ".py",
   "mimetype": "text/x-python",
   "name": "python",
   "nbconvert_exporter": "python",
   "pygments_lexer": "ipython3",
   "version": "3.9.7"
  }
 },
 "nbformat": 4,
 "nbformat_minor": 5
}
